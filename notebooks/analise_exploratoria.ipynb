{
 "cells": [
  {
   "cell_type": "markdown",
   "id": "89806034",
   "metadata": {},
   "source": [
    "## Projeto Analysis of Diabetes Risk Factor"
   ]
  },
  {
   "cell_type": "markdown",
   "id": "84f6ab83",
   "metadata": {},
   "source": [
    "### Modelagem de Dados."
   ]
  },
  {
   "cell_type": "markdown",
   "id": "a9df79e4",
   "metadata": {},
   "source": [
    "#### Importando as bibliotecas necessárias."
   ]
  },
  {
   "cell_type": "code",
   "execution_count": 1,
   "id": "8862f6c6",
   "metadata": {},
   "outputs": [],
   "source": [
    "import pandas as pd\n",
    "import glob\n",
    "import seaborn as sns\n",
    "import matplotlib.pyplot as plt\n",
    "from scipy.stats import chisquare"
   ]
  },
  {
   "cell_type": "markdown",
   "id": "7c27ac02",
   "metadata": {},
   "source": [
    "### Carregando todos os dados brutos."
   ]
  },
  {
   "cell_type": "markdown",
   "id": "e7be90fa",
   "metadata": {},
   "source": [
    "#### Criando uma estrutura de Dataframe vazia."
   ]
  },
  {
   "cell_type": "code",
   "execution_count": 2,
   "id": "09d931c4",
   "metadata": {},
   "outputs": [],
   "source": [
    "df_diabetes_indcators = pd.DataFrame(data=None)"
   ]
  },
  {
   "cell_type": "markdown",
   "id": "ffe60c13",
   "metadata": {},
   "source": [
    "#### Carregando dados locais para o Dataframe."
   ]
  },
  {
   "cell_type": "code",
   "execution_count": 31,
   "id": "57880fcf",
   "metadata": {},
   "outputs": [],
   "source": [
    "df_diabetes_indcators = pd.read_csv(\"..\\\\datalake\\\\landing\\\\diabetes_binary_health_indicators_BRFSS2015.csv\")"
   ]
  },
  {
   "cell_type": "code",
   "execution_count": 32,
   "id": "fb6e15dd",
   "metadata": {},
   "outputs": [
    {
     "data": {
      "text/html": [
       "<div>\n",
       "<style scoped>\n",
       "    .dataframe tbody tr th:only-of-type {\n",
       "        vertical-align: middle;\n",
       "    }\n",
       "\n",
       "    .dataframe tbody tr th {\n",
       "        vertical-align: top;\n",
       "    }\n",
       "\n",
       "    .dataframe thead th {\n",
       "        text-align: right;\n",
       "    }\n",
       "</style>\n",
       "<table border=\"1\" class=\"dataframe\">\n",
       "  <thead>\n",
       "    <tr style=\"text-align: right;\">\n",
       "      <th></th>\n",
       "      <th>Diabetes_binary</th>\n",
       "      <th>HighBP</th>\n",
       "      <th>HighChol</th>\n",
       "      <th>CholCheck</th>\n",
       "      <th>BMI</th>\n",
       "      <th>Smoker</th>\n",
       "      <th>Stroke</th>\n",
       "      <th>HeartDiseaseorAttack</th>\n",
       "      <th>PhysActivity</th>\n",
       "      <th>Fruits</th>\n",
       "      <th>...</th>\n",
       "      <th>AnyHealthcare</th>\n",
       "      <th>NoDocbcCost</th>\n",
       "      <th>GenHlth</th>\n",
       "      <th>MentHlth</th>\n",
       "      <th>PhysHlth</th>\n",
       "      <th>DiffWalk</th>\n",
       "      <th>Sex</th>\n",
       "      <th>Age</th>\n",
       "      <th>Education</th>\n",
       "      <th>Income</th>\n",
       "    </tr>\n",
       "  </thead>\n",
       "  <tbody>\n",
       "    <tr>\n",
       "      <th>0</th>\n",
       "      <td>0.0</td>\n",
       "      <td>1.0</td>\n",
       "      <td>1.0</td>\n",
       "      <td>1.0</td>\n",
       "      <td>40.0</td>\n",
       "      <td>1.0</td>\n",
       "      <td>0.0</td>\n",
       "      <td>0.0</td>\n",
       "      <td>0.0</td>\n",
       "      <td>0.0</td>\n",
       "      <td>...</td>\n",
       "      <td>1.0</td>\n",
       "      <td>0.0</td>\n",
       "      <td>5.0</td>\n",
       "      <td>18.0</td>\n",
       "      <td>15.0</td>\n",
       "      <td>1.0</td>\n",
       "      <td>0.0</td>\n",
       "      <td>9.0</td>\n",
       "      <td>4.0</td>\n",
       "      <td>3.0</td>\n",
       "    </tr>\n",
       "    <tr>\n",
       "      <th>1</th>\n",
       "      <td>0.0</td>\n",
       "      <td>0.0</td>\n",
       "      <td>0.0</td>\n",
       "      <td>0.0</td>\n",
       "      <td>25.0</td>\n",
       "      <td>1.0</td>\n",
       "      <td>0.0</td>\n",
       "      <td>0.0</td>\n",
       "      <td>1.0</td>\n",
       "      <td>0.0</td>\n",
       "      <td>...</td>\n",
       "      <td>0.0</td>\n",
       "      <td>1.0</td>\n",
       "      <td>3.0</td>\n",
       "      <td>0.0</td>\n",
       "      <td>0.0</td>\n",
       "      <td>0.0</td>\n",
       "      <td>0.0</td>\n",
       "      <td>7.0</td>\n",
       "      <td>6.0</td>\n",
       "      <td>1.0</td>\n",
       "    </tr>\n",
       "    <tr>\n",
       "      <th>2</th>\n",
       "      <td>0.0</td>\n",
       "      <td>1.0</td>\n",
       "      <td>1.0</td>\n",
       "      <td>1.0</td>\n",
       "      <td>28.0</td>\n",
       "      <td>0.0</td>\n",
       "      <td>0.0</td>\n",
       "      <td>0.0</td>\n",
       "      <td>0.0</td>\n",
       "      <td>1.0</td>\n",
       "      <td>...</td>\n",
       "      <td>1.0</td>\n",
       "      <td>1.0</td>\n",
       "      <td>5.0</td>\n",
       "      <td>30.0</td>\n",
       "      <td>30.0</td>\n",
       "      <td>1.0</td>\n",
       "      <td>0.0</td>\n",
       "      <td>9.0</td>\n",
       "      <td>4.0</td>\n",
       "      <td>8.0</td>\n",
       "    </tr>\n",
       "    <tr>\n",
       "      <th>3</th>\n",
       "      <td>0.0</td>\n",
       "      <td>1.0</td>\n",
       "      <td>0.0</td>\n",
       "      <td>1.0</td>\n",
       "      <td>27.0</td>\n",
       "      <td>0.0</td>\n",
       "      <td>0.0</td>\n",
       "      <td>0.0</td>\n",
       "      <td>1.0</td>\n",
       "      <td>1.0</td>\n",
       "      <td>...</td>\n",
       "      <td>1.0</td>\n",
       "      <td>0.0</td>\n",
       "      <td>2.0</td>\n",
       "      <td>0.0</td>\n",
       "      <td>0.0</td>\n",
       "      <td>0.0</td>\n",
       "      <td>0.0</td>\n",
       "      <td>11.0</td>\n",
       "      <td>3.0</td>\n",
       "      <td>6.0</td>\n",
       "    </tr>\n",
       "    <tr>\n",
       "      <th>4</th>\n",
       "      <td>0.0</td>\n",
       "      <td>1.0</td>\n",
       "      <td>1.0</td>\n",
       "      <td>1.0</td>\n",
       "      <td>24.0</td>\n",
       "      <td>0.0</td>\n",
       "      <td>0.0</td>\n",
       "      <td>0.0</td>\n",
       "      <td>1.0</td>\n",
       "      <td>1.0</td>\n",
       "      <td>...</td>\n",
       "      <td>1.0</td>\n",
       "      <td>0.0</td>\n",
       "      <td>2.0</td>\n",
       "      <td>3.0</td>\n",
       "      <td>0.0</td>\n",
       "      <td>0.0</td>\n",
       "      <td>0.0</td>\n",
       "      <td>11.0</td>\n",
       "      <td>5.0</td>\n",
       "      <td>4.0</td>\n",
       "    </tr>\n",
       "  </tbody>\n",
       "</table>\n",
       "<p>5 rows × 22 columns</p>\n",
       "</div>"
      ],
      "text/plain": [
       "   Diabetes_binary  HighBP  HighChol  CholCheck   BMI  Smoker  Stroke  \\\n",
       "0              0.0     1.0       1.0        1.0  40.0     1.0     0.0   \n",
       "1              0.0     0.0       0.0        0.0  25.0     1.0     0.0   \n",
       "2              0.0     1.0       1.0        1.0  28.0     0.0     0.0   \n",
       "3              0.0     1.0       0.0        1.0  27.0     0.0     0.0   \n",
       "4              0.0     1.0       1.0        1.0  24.0     0.0     0.0   \n",
       "\n",
       "   HeartDiseaseorAttack  PhysActivity  Fruits  ...  AnyHealthcare  \\\n",
       "0                   0.0           0.0     0.0  ...            1.0   \n",
       "1                   0.0           1.0     0.0  ...            0.0   \n",
       "2                   0.0           0.0     1.0  ...            1.0   \n",
       "3                   0.0           1.0     1.0  ...            1.0   \n",
       "4                   0.0           1.0     1.0  ...            1.0   \n",
       "\n",
       "   NoDocbcCost  GenHlth  MentHlth  PhysHlth  DiffWalk  Sex   Age  Education  \\\n",
       "0          0.0      5.0      18.0      15.0       1.0  0.0   9.0        4.0   \n",
       "1          1.0      3.0       0.0       0.0       0.0  0.0   7.0        6.0   \n",
       "2          1.0      5.0      30.0      30.0       1.0  0.0   9.0        4.0   \n",
       "3          0.0      2.0       0.0       0.0       0.0  0.0  11.0        3.0   \n",
       "4          0.0      2.0       3.0       0.0       0.0  0.0  11.0        5.0   \n",
       "\n",
       "   Income  \n",
       "0     3.0  \n",
       "1     1.0  \n",
       "2     8.0  \n",
       "3     6.0  \n",
       "4     4.0  \n",
       "\n",
       "[5 rows x 22 columns]"
      ]
     },
     "execution_count": 32,
     "metadata": {},
     "output_type": "execute_result"
    }
   ],
   "source": [
    "df_diabetes_indcators.head()"
   ]
  },
  {
   "cell_type": "markdown",
   "id": "e30706d0",
   "metadata": {},
   "source": [
    "### Pré-processamento e limpeza"
   ]
  },
  {
   "cell_type": "markdown",
   "id": "2d6d5607",
   "metadata": {},
   "source": [
    "#### Renomeando atributos"
   ]
  },
  {
   "cell_type": "code",
   "execution_count": 33,
   "id": "8360c521",
   "metadata": {},
   "outputs": [],
   "source": [
    "df_diabetes_indcators = df_diabetes_indcators.rename(\n",
    "    columns={'Diabetes_binary': 'diabetes', \n",
    "             'HighBP': 'high_blood_preassure',\n",
    "             'HighChol': 'high_cholesterol',\n",
    "             'CholCheck': 'cholesterol_check',\n",
    "             'BMI': 'body_mass_index',\n",
    "             'Smoker': 'smoker',\n",
    "             'Stroke' : 'avc',\n",
    "             'HeartDiseaseorAttack': 'heart_diseaseor_attack',\n",
    "             'PhysActivity': 'physical_activity_in_past_30_days',\n",
    "             'Fruits': 'at_least_one_fruit_a_day',\n",
    "             'Veggies': 'at_least_one_veggies_a_day',\n",
    "             'HvyAlcoholConsump': 'high_consumption_of_alcohol',\n",
    "             'AnyHealthcare': 'any_healthcare', \n",
    "             'NoDocbcCost': 'no_doctor_because_cost', \n",
    "             'GenHlth': 'general_health_scale', \n",
    "             'MentHlth': 'days_of_poor_mental_health', \n",
    "             'PhysHlth': 'physical_illness_injury_days', \n",
    "             'DiffWalk': 'serious_difficulty_walking',\n",
    "             'Sex': 'sex', \n",
    "             'Age': 'age', \n",
    "             'Education': 'education', \n",
    "             'Income': 'income'\n",
    "            }\n",
    ")"
   ]
  },
  {
   "cell_type": "markdown",
   "id": "6e31e3c0",
   "metadata": {},
   "source": [
    "#### Organizando o dataset."
   ]
  },
  {
   "cell_type": "code",
   "execution_count": 34,
   "id": "df7795bc",
   "metadata": {},
   "outputs": [],
   "source": [
    "df_diabetes_indcators = df_diabetes_indcators[\n",
    "    ['high_blood_preassure', 'high_cholesterol', 'cholesterol_check', 'body_mass_index', 'avc', 'heart_diseaseor_attack',\n",
    "     'smoker', 'physical_activity_in_past_30_days', 'at_least_one_fruit_a_day', 'at_least_one_veggies_a_day',\n",
    "     'high_consumption_of_alcohol', 'any_healthcare', 'no_doctor_because_cost', 'general_health_scale', \n",
    "     'days_of_poor_mental_health', 'physical_illness_injury_days', 'serious_difficulty_walking',\n",
    "     'sex', 'age', 'education', 'income', 'diabetes']\n",
    "]"
   ]
  },
  {
   "cell_type": "code",
   "execution_count": 35,
   "id": "0d0b27c7",
   "metadata": {},
   "outputs": [
    {
     "data": {
      "text/html": [
       "<div>\n",
       "<style scoped>\n",
       "    .dataframe tbody tr th:only-of-type {\n",
       "        vertical-align: middle;\n",
       "    }\n",
       "\n",
       "    .dataframe tbody tr th {\n",
       "        vertical-align: top;\n",
       "    }\n",
       "\n",
       "    .dataframe thead th {\n",
       "        text-align: right;\n",
       "    }\n",
       "</style>\n",
       "<table border=\"1\" class=\"dataframe\">\n",
       "  <thead>\n",
       "    <tr style=\"text-align: right;\">\n",
       "      <th></th>\n",
       "      <th>high_blood_preassure</th>\n",
       "      <th>high_cholesterol</th>\n",
       "      <th>cholesterol_check</th>\n",
       "      <th>body_mass_index</th>\n",
       "      <th>avc</th>\n",
       "      <th>heart_diseaseor_attack</th>\n",
       "      <th>smoker</th>\n",
       "      <th>physical_activity_in_past_30_days</th>\n",
       "      <th>at_least_one_fruit_a_day</th>\n",
       "      <th>at_least_one_veggies_a_day</th>\n",
       "      <th>...</th>\n",
       "      <th>no_doctor_because_cost</th>\n",
       "      <th>general_health_scale</th>\n",
       "      <th>days_of_poor_mental_health</th>\n",
       "      <th>physical_illness_injury_days</th>\n",
       "      <th>serious_difficulty_walking</th>\n",
       "      <th>sex</th>\n",
       "      <th>age</th>\n",
       "      <th>education</th>\n",
       "      <th>income</th>\n",
       "      <th>diabetes</th>\n",
       "    </tr>\n",
       "  </thead>\n",
       "  <tbody>\n",
       "    <tr>\n",
       "      <th>0</th>\n",
       "      <td>1.0</td>\n",
       "      <td>1.0</td>\n",
       "      <td>1.0</td>\n",
       "      <td>40.0</td>\n",
       "      <td>0.0</td>\n",
       "      <td>0.0</td>\n",
       "      <td>1.0</td>\n",
       "      <td>0.0</td>\n",
       "      <td>0.0</td>\n",
       "      <td>1.0</td>\n",
       "      <td>...</td>\n",
       "      <td>0.0</td>\n",
       "      <td>5.0</td>\n",
       "      <td>18.0</td>\n",
       "      <td>15.0</td>\n",
       "      <td>1.0</td>\n",
       "      <td>0.0</td>\n",
       "      <td>9.0</td>\n",
       "      <td>4.0</td>\n",
       "      <td>3.0</td>\n",
       "      <td>0.0</td>\n",
       "    </tr>\n",
       "    <tr>\n",
       "      <th>1</th>\n",
       "      <td>0.0</td>\n",
       "      <td>0.0</td>\n",
       "      <td>0.0</td>\n",
       "      <td>25.0</td>\n",
       "      <td>0.0</td>\n",
       "      <td>0.0</td>\n",
       "      <td>1.0</td>\n",
       "      <td>1.0</td>\n",
       "      <td>0.0</td>\n",
       "      <td>0.0</td>\n",
       "      <td>...</td>\n",
       "      <td>1.0</td>\n",
       "      <td>3.0</td>\n",
       "      <td>0.0</td>\n",
       "      <td>0.0</td>\n",
       "      <td>0.0</td>\n",
       "      <td>0.0</td>\n",
       "      <td>7.0</td>\n",
       "      <td>6.0</td>\n",
       "      <td>1.0</td>\n",
       "      <td>0.0</td>\n",
       "    </tr>\n",
       "    <tr>\n",
       "      <th>2</th>\n",
       "      <td>1.0</td>\n",
       "      <td>1.0</td>\n",
       "      <td>1.0</td>\n",
       "      <td>28.0</td>\n",
       "      <td>0.0</td>\n",
       "      <td>0.0</td>\n",
       "      <td>0.0</td>\n",
       "      <td>0.0</td>\n",
       "      <td>1.0</td>\n",
       "      <td>0.0</td>\n",
       "      <td>...</td>\n",
       "      <td>1.0</td>\n",
       "      <td>5.0</td>\n",
       "      <td>30.0</td>\n",
       "      <td>30.0</td>\n",
       "      <td>1.0</td>\n",
       "      <td>0.0</td>\n",
       "      <td>9.0</td>\n",
       "      <td>4.0</td>\n",
       "      <td>8.0</td>\n",
       "      <td>0.0</td>\n",
       "    </tr>\n",
       "    <tr>\n",
       "      <th>3</th>\n",
       "      <td>1.0</td>\n",
       "      <td>0.0</td>\n",
       "      <td>1.0</td>\n",
       "      <td>27.0</td>\n",
       "      <td>0.0</td>\n",
       "      <td>0.0</td>\n",
       "      <td>0.0</td>\n",
       "      <td>1.0</td>\n",
       "      <td>1.0</td>\n",
       "      <td>1.0</td>\n",
       "      <td>...</td>\n",
       "      <td>0.0</td>\n",
       "      <td>2.0</td>\n",
       "      <td>0.0</td>\n",
       "      <td>0.0</td>\n",
       "      <td>0.0</td>\n",
       "      <td>0.0</td>\n",
       "      <td>11.0</td>\n",
       "      <td>3.0</td>\n",
       "      <td>6.0</td>\n",
       "      <td>0.0</td>\n",
       "    </tr>\n",
       "    <tr>\n",
       "      <th>4</th>\n",
       "      <td>1.0</td>\n",
       "      <td>1.0</td>\n",
       "      <td>1.0</td>\n",
       "      <td>24.0</td>\n",
       "      <td>0.0</td>\n",
       "      <td>0.0</td>\n",
       "      <td>0.0</td>\n",
       "      <td>1.0</td>\n",
       "      <td>1.0</td>\n",
       "      <td>1.0</td>\n",
       "      <td>...</td>\n",
       "      <td>0.0</td>\n",
       "      <td>2.0</td>\n",
       "      <td>3.0</td>\n",
       "      <td>0.0</td>\n",
       "      <td>0.0</td>\n",
       "      <td>0.0</td>\n",
       "      <td>11.0</td>\n",
       "      <td>5.0</td>\n",
       "      <td>4.0</td>\n",
       "      <td>0.0</td>\n",
       "    </tr>\n",
       "  </tbody>\n",
       "</table>\n",
       "<p>5 rows × 22 columns</p>\n",
       "</div>"
      ],
      "text/plain": [
       "   high_blood_preassure  high_cholesterol  cholesterol_check  body_mass_index  \\\n",
       "0                   1.0               1.0                1.0             40.0   \n",
       "1                   0.0               0.0                0.0             25.0   \n",
       "2                   1.0               1.0                1.0             28.0   \n",
       "3                   1.0               0.0                1.0             27.0   \n",
       "4                   1.0               1.0                1.0             24.0   \n",
       "\n",
       "   avc  heart_diseaseor_attack  smoker  physical_activity_in_past_30_days  \\\n",
       "0  0.0                     0.0     1.0                                0.0   \n",
       "1  0.0                     0.0     1.0                                1.0   \n",
       "2  0.0                     0.0     0.0                                0.0   \n",
       "3  0.0                     0.0     0.0                                1.0   \n",
       "4  0.0                     0.0     0.0                                1.0   \n",
       "\n",
       "   at_least_one_fruit_a_day  at_least_one_veggies_a_day  ...  \\\n",
       "0                       0.0                         1.0  ...   \n",
       "1                       0.0                         0.0  ...   \n",
       "2                       1.0                         0.0  ...   \n",
       "3                       1.0                         1.0  ...   \n",
       "4                       1.0                         1.0  ...   \n",
       "\n",
       "   no_doctor_because_cost  general_health_scale  days_of_poor_mental_health  \\\n",
       "0                     0.0                   5.0                        18.0   \n",
       "1                     1.0                   3.0                         0.0   \n",
       "2                     1.0                   5.0                        30.0   \n",
       "3                     0.0                   2.0                         0.0   \n",
       "4                     0.0                   2.0                         3.0   \n",
       "\n",
       "   physical_illness_injury_days  serious_difficulty_walking  sex   age  \\\n",
       "0                          15.0                         1.0  0.0   9.0   \n",
       "1                           0.0                         0.0  0.0   7.0   \n",
       "2                          30.0                         1.0  0.0   9.0   \n",
       "3                           0.0                         0.0  0.0  11.0   \n",
       "4                           0.0                         0.0  0.0  11.0   \n",
       "\n",
       "   education  income  diabetes  \n",
       "0        4.0     3.0       0.0  \n",
       "1        6.0     1.0       0.0  \n",
       "2        4.0     8.0       0.0  \n",
       "3        3.0     6.0       0.0  \n",
       "4        5.0     4.0       0.0  \n",
       "\n",
       "[5 rows x 22 columns]"
      ]
     },
     "execution_count": 35,
     "metadata": {},
     "output_type": "execute_result"
    }
   ],
   "source": [
    "df_diabetes_indcators.head()"
   ]
  },
  {
   "cell_type": "markdown",
   "id": "ca57cf2d",
   "metadata": {},
   "source": [
    "#### Verificando os registros missing."
   ]
  },
  {
   "cell_type": "code",
   "execution_count": 36,
   "id": "31eb1c87",
   "metadata": {},
   "outputs": [
    {
     "data": {
      "text/plain": [
       "high_blood_preassure                 0\n",
       "high_cholesterol                     0\n",
       "cholesterol_check                    0\n",
       "body_mass_index                      0\n",
       "avc                                  0\n",
       "heart_diseaseor_attack               0\n",
       "smoker                               0\n",
       "physical_activity_in_past_30_days    0\n",
       "at_least_one_fruit_a_day             0\n",
       "at_least_one_veggies_a_day           0\n",
       "high_consumption_of_alcohol          0\n",
       "any_healthcare                       0\n",
       "no_doctor_because_cost               0\n",
       "general_health_scale                 0\n",
       "days_of_poor_mental_health           0\n",
       "physical_illness_injury_days         0\n",
       "serious_difficulty_walking           0\n",
       "sex                                  0\n",
       "age                                  0\n",
       "education                            0\n",
       "income                               0\n",
       "diabetes                             0\n",
       "dtype: int64"
      ]
     },
     "execution_count": 36,
     "metadata": {},
     "output_type": "execute_result"
    }
   ],
   "source": [
    "df_diabetes_indcators.isnull().sum()"
   ]
  },
  {
   "cell_type": "markdown",
   "id": "1c8d356a",
   "metadata": {},
   "source": [
    "#### Alterando os tipos de dados."
   ]
  },
  {
   "cell_type": "code",
   "execution_count": 37,
   "id": "5d1f2d6c",
   "metadata": {},
   "outputs": [
    {
     "name": "stdout",
     "output_type": "stream",
     "text": [
      "<class 'pandas.core.frame.DataFrame'>\n",
      "RangeIndex: 253680 entries, 0 to 253679\n",
      "Data columns (total 22 columns):\n",
      " #   Column                             Non-Null Count   Dtype  \n",
      "---  ------                             --------------   -----  \n",
      " 0   high_blood_preassure               253680 non-null  float64\n",
      " 1   high_cholesterol                   253680 non-null  float64\n",
      " 2   cholesterol_check                  253680 non-null  float64\n",
      " 3   body_mass_index                    253680 non-null  float64\n",
      " 4   avc                                253680 non-null  float64\n",
      " 5   heart_diseaseor_attack             253680 non-null  float64\n",
      " 6   smoker                             253680 non-null  float64\n",
      " 7   physical_activity_in_past_30_days  253680 non-null  float64\n",
      " 8   at_least_one_fruit_a_day           253680 non-null  float64\n",
      " 9   at_least_one_veggies_a_day         253680 non-null  float64\n",
      " 10  high_consumption_of_alcohol        253680 non-null  float64\n",
      " 11  any_healthcare                     253680 non-null  float64\n",
      " 12  no_doctor_because_cost             253680 non-null  float64\n",
      " 13  general_health_scale               253680 non-null  float64\n",
      " 14  days_of_poor_mental_health         253680 non-null  float64\n",
      " 15  physical_illness_injury_days       253680 non-null  float64\n",
      " 16  serious_difficulty_walking         253680 non-null  float64\n",
      " 17  sex                                253680 non-null  float64\n",
      " 18  age                                253680 non-null  float64\n",
      " 19  education                          253680 non-null  float64\n",
      " 20  income                             253680 non-null  float64\n",
      " 21  diabetes                           253680 non-null  float64\n",
      "dtypes: float64(22)\n",
      "memory usage: 42.6 MB\n"
     ]
    }
   ],
   "source": [
    "df_diabetes_indcators.info()"
   ]
  },
  {
   "cell_type": "code",
   "execution_count": 38,
   "id": "fab94396",
   "metadata": {},
   "outputs": [],
   "source": [
    "columns = list(df_diabetes_indcators.columns)\n",
    "columns.remove('body_mass_index')"
   ]
  },
  {
   "cell_type": "code",
   "execution_count": 39,
   "id": "3f84f7d7",
   "metadata": {},
   "outputs": [],
   "source": [
    "for column in columns:\n",
    "    df_diabetes_indcators[column] = df_diabetes_indcators[column].astype(int)"
   ]
  },
  {
   "cell_type": "code",
   "execution_count": 40,
   "id": "81d49792",
   "metadata": {},
   "outputs": [
    {
     "name": "stdout",
     "output_type": "stream",
     "text": [
      "<class 'pandas.core.frame.DataFrame'>\n",
      "RangeIndex: 253680 entries, 0 to 253679\n",
      "Data columns (total 22 columns):\n",
      " #   Column                             Non-Null Count   Dtype  \n",
      "---  ------                             --------------   -----  \n",
      " 0   high_blood_preassure               253680 non-null  int32  \n",
      " 1   high_cholesterol                   253680 non-null  int32  \n",
      " 2   cholesterol_check                  253680 non-null  int32  \n",
      " 3   body_mass_index                    253680 non-null  float64\n",
      " 4   avc                                253680 non-null  int32  \n",
      " 5   heart_diseaseor_attack             253680 non-null  int32  \n",
      " 6   smoker                             253680 non-null  int32  \n",
      " 7   physical_activity_in_past_30_days  253680 non-null  int32  \n",
      " 8   at_least_one_fruit_a_day           253680 non-null  int32  \n",
      " 9   at_least_one_veggies_a_day         253680 non-null  int32  \n",
      " 10  high_consumption_of_alcohol        253680 non-null  int32  \n",
      " 11  any_healthcare                     253680 non-null  int32  \n",
      " 12  no_doctor_because_cost             253680 non-null  int32  \n",
      " 13  general_health_scale               253680 non-null  int32  \n",
      " 14  days_of_poor_mental_health         253680 non-null  int32  \n",
      " 15  physical_illness_injury_days       253680 non-null  int32  \n",
      " 16  serious_difficulty_walking         253680 non-null  int32  \n",
      " 17  sex                                253680 non-null  int32  \n",
      " 18  age                                253680 non-null  int32  \n",
      " 19  education                          253680 non-null  int32  \n",
      " 20  income                             253680 non-null  int32  \n",
      " 21  diabetes                           253680 non-null  int32  \n",
      "dtypes: float64(1), int32(21)\n",
      "memory usage: 22.3 MB\n"
     ]
    }
   ],
   "source": [
    "df_diabetes_indcators.info()"
   ]
  },
  {
   "cell_type": "markdown",
   "id": "cd54e900",
   "metadata": {},
   "source": [
    "#### Removendo dados duplicados (valores iguais em todas as colunas)."
   ]
  },
  {
   "cell_type": "code",
   "execution_count": 41,
   "id": "1f6a0189",
   "metadata": {},
   "outputs": [],
   "source": [
    "df_diabetes_indcators.drop_duplicates(subset=None, keep='first', inplace=True)"
   ]
  },
  {
   "cell_type": "markdown",
   "id": "83e74daf",
   "metadata": {},
   "source": [
    "### Análise Exploratória de Dados."
   ]
  },
  {
   "cell_type": "code",
   "execution_count": 42,
   "id": "98a5bed4",
   "metadata": {},
   "outputs": [
    {
     "data": {
      "text/plain": [
       "(229474, 22)"
      ]
     },
     "execution_count": 42,
     "metadata": {},
     "output_type": "execute_result"
    }
   ],
   "source": [
    "df_diabetes_indcators.shape"
   ]
  },
  {
   "cell_type": "markdown",
   "id": "4df8c86f",
   "metadata": {},
   "source": [
    "#### Calculando a taxa de diabetes"
   ]
  },
  {
   "cell_type": "code",
   "execution_count": 43,
   "id": "b3ca386d",
   "metadata": {},
   "outputs": [
    {
     "data": {
      "text/plain": [
       "0    0.847055\n",
       "1    0.152945\n",
       "Name: diabetes, dtype: float64"
      ]
     },
     "execution_count": 43,
     "metadata": {},
     "output_type": "execute_result"
    }
   ],
   "source": [
    "diabetes_rate = df_diabetes_indcators. diabetes.value_counts() / len(df_diabetes_indcators)\n",
    "diabetes_rate"
   ]
  },
  {
   "cell_type": "markdown",
   "id": "e1c96e1c",
   "metadata": {},
   "source": [
    "#### Overview statistico dos dados."
   ]
  },
  {
   "cell_type": "code",
   "execution_count": 44,
   "id": "4df5239d",
   "metadata": {},
   "outputs": [
    {
     "data": {
      "text/html": [
       "<div>\n",
       "<style scoped>\n",
       "    .dataframe tbody tr th:only-of-type {\n",
       "        vertical-align: middle;\n",
       "    }\n",
       "\n",
       "    .dataframe tbody tr th {\n",
       "        vertical-align: top;\n",
       "    }\n",
       "\n",
       "    .dataframe thead th {\n",
       "        text-align: right;\n",
       "    }\n",
       "</style>\n",
       "<table border=\"1\" class=\"dataframe\">\n",
       "  <thead>\n",
       "    <tr style=\"text-align: right;\">\n",
       "      <th></th>\n",
       "      <th>general_health_scale</th>\n",
       "      <th>days_of_poor_mental_health</th>\n",
       "      <th>physical_illness_injury_days</th>\n",
       "      <th>body_mass_index</th>\n",
       "      <th>age</th>\n",
       "      <th>education</th>\n",
       "      <th>income</th>\n",
       "    </tr>\n",
       "  </thead>\n",
       "  <tbody>\n",
       "    <tr>\n",
       "      <th>count</th>\n",
       "      <td>229474.000000</td>\n",
       "      <td>229474.000000</td>\n",
       "      <td>229474.000000</td>\n",
       "      <td>229474.000000</td>\n",
       "      <td>229474.000000</td>\n",
       "      <td>229474.000000</td>\n",
       "      <td>229474.000000</td>\n",
       "    </tr>\n",
       "    <tr>\n",
       "      <th>mean</th>\n",
       "      <td>2.601820</td>\n",
       "      <td>3.509866</td>\n",
       "      <td>4.681219</td>\n",
       "      <td>28.687507</td>\n",
       "      <td>8.085068</td>\n",
       "      <td>4.979741</td>\n",
       "      <td>5.888615</td>\n",
       "    </tr>\n",
       "    <tr>\n",
       "      <th>std</th>\n",
       "      <td>1.064962</td>\n",
       "      <td>7.717643</td>\n",
       "      <td>9.050877</td>\n",
       "      <td>6.789204</td>\n",
       "      <td>3.094451</td>\n",
       "      <td>0.992989</td>\n",
       "      <td>2.092888</td>\n",
       "    </tr>\n",
       "    <tr>\n",
       "      <th>min</th>\n",
       "      <td>1.000000</td>\n",
       "      <td>0.000000</td>\n",
       "      <td>0.000000</td>\n",
       "      <td>12.000000</td>\n",
       "      <td>1.000000</td>\n",
       "      <td>1.000000</td>\n",
       "      <td>1.000000</td>\n",
       "    </tr>\n",
       "    <tr>\n",
       "      <th>25%</th>\n",
       "      <td>2.000000</td>\n",
       "      <td>0.000000</td>\n",
       "      <td>0.000000</td>\n",
       "      <td>24.000000</td>\n",
       "      <td>6.000000</td>\n",
       "      <td>4.000000</td>\n",
       "      <td>4.000000</td>\n",
       "    </tr>\n",
       "    <tr>\n",
       "      <th>50%</th>\n",
       "      <td>3.000000</td>\n",
       "      <td>0.000000</td>\n",
       "      <td>0.000000</td>\n",
       "      <td>27.000000</td>\n",
       "      <td>8.000000</td>\n",
       "      <td>5.000000</td>\n",
       "      <td>6.000000</td>\n",
       "    </tr>\n",
       "    <tr>\n",
       "      <th>75%</th>\n",
       "      <td>3.000000</td>\n",
       "      <td>2.000000</td>\n",
       "      <td>4.000000</td>\n",
       "      <td>32.000000</td>\n",
       "      <td>10.000000</td>\n",
       "      <td>6.000000</td>\n",
       "      <td>8.000000</td>\n",
       "    </tr>\n",
       "    <tr>\n",
       "      <th>max</th>\n",
       "      <td>5.000000</td>\n",
       "      <td>30.000000</td>\n",
       "      <td>30.000000</td>\n",
       "      <td>98.000000</td>\n",
       "      <td>13.000000</td>\n",
       "      <td>6.000000</td>\n",
       "      <td>8.000000</td>\n",
       "    </tr>\n",
       "  </tbody>\n",
       "</table>\n",
       "</div>"
      ],
      "text/plain": [
       "       general_health_scale  days_of_poor_mental_health  \\\n",
       "count         229474.000000               229474.000000   \n",
       "mean               2.601820                    3.509866   \n",
       "std                1.064962                    7.717643   \n",
       "min                1.000000                    0.000000   \n",
       "25%                2.000000                    0.000000   \n",
       "50%                3.000000                    0.000000   \n",
       "75%                3.000000                    2.000000   \n",
       "max                5.000000                   30.000000   \n",
       "\n",
       "       physical_illness_injury_days  body_mass_index            age  \\\n",
       "count                 229474.000000    229474.000000  229474.000000   \n",
       "mean                       4.681219        28.687507       8.085068   \n",
       "std                        9.050877         6.789204       3.094451   \n",
       "min                        0.000000        12.000000       1.000000   \n",
       "25%                        0.000000        24.000000       6.000000   \n",
       "50%                        0.000000        27.000000       8.000000   \n",
       "75%                        4.000000        32.000000      10.000000   \n",
       "max                       30.000000        98.000000      13.000000   \n",
       "\n",
       "           education         income  \n",
       "count  229474.000000  229474.000000  \n",
       "mean        4.979741       5.888615  \n",
       "std         0.992989       2.092888  \n",
       "min         1.000000       1.000000  \n",
       "25%         4.000000       4.000000  \n",
       "50%         5.000000       6.000000  \n",
       "75%         6.000000       8.000000  \n",
       "max         6.000000       8.000000  "
      ]
     },
     "execution_count": 44,
     "metadata": {},
     "output_type": "execute_result"
    }
   ],
   "source": [
    "df_diabetes_indcators[['general_health_scale', 'days_of_poor_mental_health', 'physical_illness_injury_days', \n",
    "                       'body_mass_index', 'age', 'education', 'income']].describe()"
   ]
  },
  {
   "cell_type": "markdown",
   "id": "32db3a6d",
   "metadata": {},
   "source": [
    "#### Overview estatistico por diabete."
   ]
  },
  {
   "cell_type": "code",
   "execution_count": 45,
   "id": "6100e1fb",
   "metadata": {},
   "outputs": [
    {
     "data": {
      "text/html": [
       "<div>\n",
       "<style scoped>\n",
       "    .dataframe tbody tr th:only-of-type {\n",
       "        vertical-align: middle;\n",
       "    }\n",
       "\n",
       "    .dataframe tbody tr th {\n",
       "        vertical-align: top;\n",
       "    }\n",
       "\n",
       "    .dataframe thead th {\n",
       "        text-align: right;\n",
       "    }\n",
       "</style>\n",
       "<table border=\"1\" class=\"dataframe\">\n",
       "  <thead>\n",
       "    <tr style=\"text-align: right;\">\n",
       "      <th></th>\n",
       "      <th>general_health_scale</th>\n",
       "      <th>days_of_poor_mental_health</th>\n",
       "      <th>physical_illness_injury_days</th>\n",
       "      <th>body_mass_index</th>\n",
       "      <th>age</th>\n",
       "      <th>education</th>\n",
       "      <th>income</th>\n",
       "    </tr>\n",
       "    <tr>\n",
       "      <th>diabetes</th>\n",
       "      <th></th>\n",
       "      <th></th>\n",
       "      <th></th>\n",
       "      <th></th>\n",
       "      <th></th>\n",
       "      <th></th>\n",
       "      <th></th>\n",
       "    </tr>\n",
       "  </thead>\n",
       "  <tbody>\n",
       "    <tr>\n",
       "      <th>0</th>\n",
       "      <td>2.476497</td>\n",
       "      <td>3.332277</td>\n",
       "      <td>4.080442</td>\n",
       "      <td>28.095855</td>\n",
       "      <td>7.851984</td>\n",
       "      <td>5.023069</td>\n",
       "      <td>6.013705</td>\n",
       "    </tr>\n",
       "    <tr>\n",
       "      <th>1</th>\n",
       "      <td>3.295894</td>\n",
       "      <td>4.493404</td>\n",
       "      <td>8.008491</td>\n",
       "      <td>31.964242</td>\n",
       "      <td>9.375958</td>\n",
       "      <td>4.739778</td>\n",
       "      <td>5.195829</td>\n",
       "    </tr>\n",
       "  </tbody>\n",
       "</table>\n",
       "</div>"
      ],
      "text/plain": [
       "          general_health_scale  days_of_poor_mental_health  \\\n",
       "diabetes                                                     \n",
       "0                     2.476497                    3.332277   \n",
       "1                     3.295894                    4.493404   \n",
       "\n",
       "          physical_illness_injury_days  body_mass_index       age  education  \\\n",
       "diabetes                                                                       \n",
       "0                             4.080442        28.095855  7.851984   5.023069   \n",
       "1                             8.008491        31.964242  9.375958   4.739778   \n",
       "\n",
       "            income  \n",
       "diabetes            \n",
       "0         6.013705  \n",
       "1         5.195829  "
      ]
     },
     "execution_count": 45,
     "metadata": {},
     "output_type": "execute_result"
    }
   ],
   "source": [
    "df_diabetes_indcators[['general_health_scale', 'days_of_poor_mental_health', 'physical_illness_injury_days', \n",
    "                       'body_mass_index', 'age', 'education', 'income', 'diabetes']].groupby('diabetes').mean()"
   ]
  },
  {
   "cell_type": "markdown",
   "id": "c808a805",
   "metadata": {},
   "source": [
    "### Definição das escalas das variáveis.\n",
    "\n",
    "#### Idade segundo a seguinte escala\n",
    "https://www.icpsr.umich.edu/web/NAHDAP/studies/34085/datasets/0001/variables/AGEG5YR?archive=NAHDAP\n",
    "\n",
    "#### Educação segundo a seguinte escala:\n",
    "- 1 = Não frequentou a escola ou apenas jardim de infância.\n",
    "- 2 = Fundamental completo ou não.\n",
    "- 3 = Ensino médio incompleto.\n",
    "- 4 = Ensino médio completo.\n",
    "- 5 = Superior incompleto.\n",
    "- 6 = Superior completo.\n",
    "\n",
    "#### Renda segundo a seguinte escala (Dólares):\n",
    "- 1 = Menos do que 10000.\n",
    "- 5 = Menos do que 35000.\n",
    "- 8 = 75000 ou mais.\n",
    "\n",
    "#### Escala de saúde geral:\n",
    "\n",
    "- 1 = Excelente\n",
    "- 2 = Muito bom \n",
    "- 3 = Bom \n",
    "- 4 = Razoável \n",
    "- 5 = Ruim\n",
    "\n",
    "#### Saúde mental:\n",
    "Quantos dos últimos 30 dias representam dias com estresse, depressão e outros problemas emocionais.\n",
    "\n",
    "#### Saúde física:\n",
    "Quantos dos últimos 30 dias representam dias com doenças físicas e lesões e outros problemas físicos."
   ]
  },
  {
   "cell_type": "markdown",
   "id": "98b7ce4c",
   "metadata": {},
   "source": [
    "### Considerações estatísticas\n",
    "\n",
    "- A base está bem desbalanceada, com apenas 17% de casos de diabetes ou pré-diabetes.\n",
    "- Há forte tendência de que pessoas com maior frequência de problemas físicos e emocionais desenvolvam diabetes.\n",
    "- Também há maior tendência da doença em pessoas mais velhas e com IMC acima de 30.\n",
    "- Inicialmente, há leve relação do nível de escolaridade e renda com a doença.\n",
    "- A maioria das pessoas possui pouquíssimos dias com ocorrência de problemas físicos e emocionais.\n",
    "\n",
    "### Possíveis fatores.\n",
    "\n",
    "De acordo com estudos:\n",
    "- https://www.saude.pr.gov.br/Pagina/Diabetes-diabetes-mellitus\n",
    "- https://linhasdecuidado.saude.gov.br/portal/diabetes-mellitus-tipo-2-(DM2)-no-adulto/unidade-de-atencao-primaria/dm2-cronica/questionario-finnish-diabetes-risk-score\n",
    "\n",
    "Variáveis de interesse podem ser: \n",
    "- Hábitos aliementares.\n",
    "- Hábito de fumar.\n",
    "- Pressão e colesterol altos.\n",
    "- Prática de atividades físicas.\n",
    "- IMC alto.\n",
    "- Problemas físicos e emocionais.\n",
    "- Idade.\n"
   ]
  },
  {
   "cell_type": "markdown",
   "id": "c430fd4d",
   "metadata": {},
   "source": [
    "#### Calculando a matriz de correlação de variáveis numéricas."
   ]
  },
  {
   "cell_type": "code",
   "execution_count": 46,
   "id": "4ba08825",
   "metadata": {},
   "outputs": [
    {
     "data": {
      "text/html": [
       "<div>\n",
       "<style scoped>\n",
       "    .dataframe tbody tr th:only-of-type {\n",
       "        vertical-align: middle;\n",
       "    }\n",
       "\n",
       "    .dataframe tbody tr th {\n",
       "        vertical-align: top;\n",
       "    }\n",
       "\n",
       "    .dataframe thead th {\n",
       "        text-align: right;\n",
       "    }\n",
       "</style>\n",
       "<table border=\"1\" class=\"dataframe\">\n",
       "  <thead>\n",
       "    <tr style=\"text-align: right;\">\n",
       "      <th></th>\n",
       "      <th>general_health_scale</th>\n",
       "      <th>days_of_poor_mental_health</th>\n",
       "      <th>physical_illness_injury_days</th>\n",
       "      <th>body_mass_index</th>\n",
       "      <th>age</th>\n",
       "      <th>education</th>\n",
       "      <th>income</th>\n",
       "      <th>diabetes</th>\n",
       "    </tr>\n",
       "  </thead>\n",
       "  <tbody>\n",
       "    <tr>\n",
       "      <th>general_health_scale</th>\n",
       "      <td>1.000000</td>\n",
       "      <td>0.283822</td>\n",
       "      <td>0.516476</td>\n",
       "      <td>0.208351</td>\n",
       "      <td>0.145769</td>\n",
       "      <td>-0.244752</td>\n",
       "      <td>-0.331782</td>\n",
       "      <td>0.276940</td>\n",
       "    </tr>\n",
       "    <tr>\n",
       "      <th>days_of_poor_mental_health</th>\n",
       "      <td>0.283822</td>\n",
       "      <td>1.000000</td>\n",
       "      <td>0.340191</td>\n",
       "      <td>0.068569</td>\n",
       "      <td>-0.103355</td>\n",
       "      <td>-0.076122</td>\n",
       "      <td>-0.185689</td>\n",
       "      <td>0.054153</td>\n",
       "    </tr>\n",
       "    <tr>\n",
       "      <th>physical_illness_injury_days</th>\n",
       "      <td>0.516476</td>\n",
       "      <td>0.340191</td>\n",
       "      <td>1.000000</td>\n",
       "      <td>0.102768</td>\n",
       "      <td>0.095483</td>\n",
       "      <td>-0.127687</td>\n",
       "      <td>-0.240929</td>\n",
       "      <td>0.156211</td>\n",
       "    </tr>\n",
       "    <tr>\n",
       "      <th>body_mass_index</th>\n",
       "      <td>0.208351</td>\n",
       "      <td>0.068569</td>\n",
       "      <td>0.102768</td>\n",
       "      <td>1.000000</td>\n",
       "      <td>-0.049223</td>\n",
       "      <td>-0.074433</td>\n",
       "      <td>-0.069097</td>\n",
       "      <td>0.205086</td>\n",
       "    </tr>\n",
       "    <tr>\n",
       "      <th>age</th>\n",
       "      <td>0.145769</td>\n",
       "      <td>-0.103355</td>\n",
       "      <td>0.095483</td>\n",
       "      <td>-0.049223</td>\n",
       "      <td>1.000000</td>\n",
       "      <td>-0.092747</td>\n",
       "      <td>-0.116361</td>\n",
       "      <td>0.177263</td>\n",
       "    </tr>\n",
       "    <tr>\n",
       "      <th>education</th>\n",
       "      <td>-0.244752</td>\n",
       "      <td>-0.076122</td>\n",
       "      <td>-0.127687</td>\n",
       "      <td>-0.074433</td>\n",
       "      <td>-0.092747</td>\n",
       "      <td>1.000000</td>\n",
       "      <td>0.419045</td>\n",
       "      <td>-0.102686</td>\n",
       "    </tr>\n",
       "    <tr>\n",
       "      <th>income</th>\n",
       "      <td>-0.331782</td>\n",
       "      <td>-0.185689</td>\n",
       "      <td>-0.240929</td>\n",
       "      <td>-0.069097</td>\n",
       "      <td>-0.116361</td>\n",
       "      <td>0.419045</td>\n",
       "      <td>1.000000</td>\n",
       "      <td>-0.140659</td>\n",
       "    </tr>\n",
       "    <tr>\n",
       "      <th>diabetes</th>\n",
       "      <td>0.276940</td>\n",
       "      <td>0.054153</td>\n",
       "      <td>0.156211</td>\n",
       "      <td>0.205086</td>\n",
       "      <td>0.177263</td>\n",
       "      <td>-0.102686</td>\n",
       "      <td>-0.140659</td>\n",
       "      <td>1.000000</td>\n",
       "    </tr>\n",
       "  </tbody>\n",
       "</table>\n",
       "</div>"
      ],
      "text/plain": [
       "                              general_health_scale  \\\n",
       "general_health_scale                      1.000000   \n",
       "days_of_poor_mental_health                0.283822   \n",
       "physical_illness_injury_days              0.516476   \n",
       "body_mass_index                           0.208351   \n",
       "age                                       0.145769   \n",
       "education                                -0.244752   \n",
       "income                                   -0.331782   \n",
       "diabetes                                  0.276940   \n",
       "\n",
       "                              days_of_poor_mental_health  \\\n",
       "general_health_scale                            0.283822   \n",
       "days_of_poor_mental_health                      1.000000   \n",
       "physical_illness_injury_days                    0.340191   \n",
       "body_mass_index                                 0.068569   \n",
       "age                                            -0.103355   \n",
       "education                                      -0.076122   \n",
       "income                                         -0.185689   \n",
       "diabetes                                        0.054153   \n",
       "\n",
       "                              physical_illness_injury_days  body_mass_index  \\\n",
       "general_health_scale                              0.516476         0.208351   \n",
       "days_of_poor_mental_health                        0.340191         0.068569   \n",
       "physical_illness_injury_days                      1.000000         0.102768   \n",
       "body_mass_index                                   0.102768         1.000000   \n",
       "age                                               0.095483        -0.049223   \n",
       "education                                        -0.127687        -0.074433   \n",
       "income                                           -0.240929        -0.069097   \n",
       "diabetes                                          0.156211         0.205086   \n",
       "\n",
       "                                   age  education    income  diabetes  \n",
       "general_health_scale          0.145769  -0.244752 -0.331782  0.276940  \n",
       "days_of_poor_mental_health   -0.103355  -0.076122 -0.185689  0.054153  \n",
       "physical_illness_injury_days  0.095483  -0.127687 -0.240929  0.156211  \n",
       "body_mass_index              -0.049223  -0.074433 -0.069097  0.205086  \n",
       "age                           1.000000  -0.092747 -0.116361  0.177263  \n",
       "education                    -0.092747   1.000000  0.419045 -0.102686  \n",
       "income                       -0.116361   0.419045  1.000000 -0.140659  \n",
       "diabetes                      0.177263  -0.102686 -0.140659  1.000000  "
      ]
     },
     "execution_count": 46,
     "metadata": {},
     "output_type": "execute_result"
    },
    {
     "data": {
      "image/png": "[encoded data removed]",
      "text/plain": [
       "<Figure size 432x288 with 2 Axes>"
      ]
     },
     "metadata": {
      "needs_background": "light"
     },
     "output_type": "display_data"
    }
   ],
   "source": [
    "corr = (df_diabetes_indcators[['general_health_scale', 'days_of_poor_mental_health', 'physical_illness_injury_days', \n",
    "                               'body_mass_index', 'age', 'education', 'income', 'diabetes']].corr())\n",
    "sns.heatmap(corr, \n",
    "            xticklabels=corr.columns.values,\n",
    "            yticklabels=corr.columns.values)\n",
    "\n",
    "corr"
   ]
  },
  {
   "cell_type": "markdown",
   "id": "83faa3b3",
   "metadata": {},
   "source": [
    "###  Correlation Matrix & Heatmap\n",
    "\n",
    "**Questões:**\n",
    "- Quais atributos afetam nossa variável alvo (diabetes)?\n",
    "- Existem atributos com alta correlação entre eles?\n",
    "- Como podemos aprofundar para entender as correlações?\n",
    "\n",
    "**Resumo:**\n",
    "\n",
    "**correlação positiva**\n",
    "\n",
    "Existe uma correlação consideravelmente forte do atributo de escala geral de saúde com os atributos referentes aos dias com mal estar físico e emocional.\n",
    "\n",
    "Faz sentido que pessoas que se consideram com melhor saúde, de forma geral, se sintam bem na maioria dos dias e vice-versa.\n",
    "Então podemos descartar algum deles, a fim de reduzir a dimensionalidade.\n",
    "\n",
    "Também há uma correlação moderada entre os atributos de saúde física e emocional, o que pode ser explicado pelo fato de a diabete causar impacto em ambos, além de que alguém com fortes incômodos físicos pode se sentir emocionalmente abalado. \n",
    "\n",
    "Educação e renda estão fortemente relacionado, o que pode ser explicado por, normalmente, pessoas com maior graduação terem melhores empregos. Então, talvez possamos considerar apenas um deles.\n",
    "\n",
    "**correlação negativa**\n",
    "\n",
    "Há uma correlação moderada entre a renda/educação e qualidade de saúde, em geral. Isso é plausível, já que pessoas mais ricas e estudas tendem a poder cuidar melhor da saúde, bem como ter mais atenção com a mesma.\n",
    "\n",
    "**diabetes**\n",
    "\n",
    "Considerável correlação positiva com a qualidade de saúde. Faz sentido que quem se sente mais saudável e possui menor frequência de síntomas físicos e emocionais, tenha menor chance de possuir a doença.\n",
    "\n",
    "Também há correlação positiva com idade e IMC, o que é reforçado por estudos que mostram que pessoas mais velhas e acima do peso, tenham chances maiores de desenvolver a doença.\n",
    "\n",
    "Há razoável correlação negativa com renda e educação, o que pode ser devido ao fato de que pessoas mais ricas e estudadas possam cuidar melhor da saúde."
   ]
  },
  {
   "cell_type": "markdown",
   "id": "f90db908",
   "metadata": {},
   "source": [
    "#### Calculando distribuições dos atributos."
   ]
  },
  {
   "cell_type": "code",
   "execution_count": 47,
   "id": "1cd41d8c",
   "metadata": {},
   "outputs": [
    {
     "name": "stderr",
     "output_type": "stream",
     "text": [
      "C:\\Users\\Joaquim Aniceto\\AppData\\Roaming\\Python\\Python38\\site-packages\\seaborn\\distributions.py:2619: FutureWarning: `distplot` is a deprecated function and will be removed in a future version. Please adapt your code to use either `displot` (a figure-level function with similar flexibility) or `histplot` (an axes-level function for histograms).\n",
      "  warnings.warn(msg, FutureWarning)\n"
     ]
    },
    {
     "data": {
      "image/png": "[encoded data removed]",
      "text/plain": [
       "<Figure size 1080x432 with 3 Axes>"
      ]
     },
     "metadata": {
      "needs_background": "light"
     },
     "output_type": "display_data"
    }
   ],
   "source": [
    "fig, axes = plt.subplots(ncols=3, figsize=(15, 6))\n",
    "\n",
    "sns.distplot(df_diabetes_indcators['days_of_poor_mental_health'], kde=False, color=\"g\", \n",
    "             ax=axes[0]).set_title('Saúde Mental Ruim (Dias)')\n",
    "axes[0].set_ylabel('Quantidade de Pessoas')\n",
    "\n",
    "sns.distplot(df_diabetes_indcators['physical_illness_injury_days'], kde=False, color=\"r\", \n",
    "             ax=axes[1]).set_title('Doenças/Lesões Físicas (Dias)')\n",
    "axes[1].set_ylabel('Quantidade de Pessoas')\n",
    "\n",
    "sns.distplot(df_diabetes_indcators['body_mass_index'], kde=False, color=\"b\",\n",
    "             ax=axes[2]).set_title('IMC')\n",
    "axes[2].set_ylabel('Quantidade de Pessoas')\n",
    "\n",
    "plt.show()"
   ]
  },
  {
   "cell_type": "markdown",
   "id": "a0860ae2",
   "metadata": {},
   "source": [
    "### Distribuiçöes (Saúde Mental - Saúde Física - IMC)\n",
    "***\n",
    "**Resuomo:** Examinando a distribuição de alguns atributos do conjunto de dados:\n",
    " - **Saúde Mental** - A grande maioria das pessoas tem menos de 5 dias de mal estar, mas há um pico de extremos.\n",
    " - **Saúde Física** - Distribuição quase igual a da saúde mental, com ainda mais casos extremos.\n",
    " - **IMC** - Maioria das pessoas com IMC em torno da média de 30, tendo poucas obesas.\n",
    " \n",
    "**Pontos:** \n",
    " - Frequência de dias com estado físico e emocional ruim é equivalente."
   ]
  },
  {
   "cell_type": "markdown",
   "id": "1ff9405d",
   "metadata": {},
   "source": [
    "#### Verificando distribuição de IMC em relação à diabete."
   ]
  },
  {
   "cell_type": "code",
   "execution_count": 48,
   "id": "7f12a5d5",
   "metadata": {},
   "outputs": [
    {
     "data": {
      "image/png": "[encoded data removed]",
      "text/plain": [
       "<Figure size 1080x432 with 2 Axes>"
      ]
     },
     "metadata": {
      "needs_background": "light"
     },
     "output_type": "display_data"
    }
   ],
   "source": [
    "fig, axes = plt.subplots(ncols=2, figsize=(15, 6))\n",
    "\n",
    "data_without_diabetes = df_diabetes_indcators[df_diabetes_indcators['diabetes'] == 0]['body_mass_index']\n",
    "sns.distplot(data_without_diabetes, kde=False, color=\"g\", ax=axes[0]).set_title('Distribuição de IMC - sem diabetes')\n",
    "axes[0].set_ylabel('Quantidade de Pessoas')\n",
    "\n",
    "data_with_diabetes = df_diabetes_indcators[df_diabetes_indcators['diabetes'] == 1]['body_mass_index']\n",
    "sns.distplot(data_with_diabetes, kde=False, color=\"r\", ax=axes[1]).set_title('Distribuição de IMC  - com diabetes')\n",
    "axes[1].set_ylabel('Quantidade de Pessoas')\n",
    "\n",
    "plt.show()"
   ]
  },
  {
   "cell_type": "markdown",
   "id": "7a98c48c",
   "metadata": {},
   "source": [
    "##  IMC V.S. Diabetes\n",
    "***\n",
    "**Resumo:**\n",
    " - A distribuição é bem parecida, porém pessoas com diabetes tendem a maior IMC, e se concentram mais entre 25 e 30.\n",
    " - Quantidade razoável de pessoas entre 25 e 30 que não possuem diabetes. Pode confundir o modelo?\n",
    " - Considerar faixas de IMC."
   ]
  },
  {
   "cell_type": "markdown",
   "id": "9b0829da",
   "metadata": {},
   "source": [
    "#### Verificando distribuição de dias de saúde física ruim em relação à diabete."
   ]
  },
  {
   "cell_type": "code",
   "execution_count": 49,
   "id": "a5942162",
   "metadata": {},
   "outputs": [
    {
     "data": {
      "image/png": "[encoded data removed]",
      "text/plain": [
       "<Figure size 1080x432 with 2 Axes>"
      ]
     },
     "metadata": {
      "needs_background": "light"
     },
     "output_type": "display_data"
    }
   ],
   "source": [
    "fig, axes = plt.subplots(ncols=2, figsize=(15, 6))\n",
    "\n",
    "data_without_diabetes = df_diabetes_indcators[df_diabetes_indcators['diabetes'] == 0]['physical_illness_injury_days']\n",
    "sns.distplot(data_without_diabetes, kde=False, color=\"g\", ax=axes[0]).set_title('Dias com estado físico ruim - sem diabetes')\n",
    "axes[0].set_ylabel('Quantidade de Pessoas')\n",
    "\n",
    "data_with_diabetes = df_diabetes_indcators[df_diabetes_indcators['diabetes'] == 1]['physical_illness_injury_days']\n",
    "sns.distplot(data_with_diabetes, kde=False, color=\"r\", ax=axes[1]).set_title('Dias com estado físico ruim - com diabetes')\n",
    "axes[1].set_ylabel('Quantidade de Pessoas')\n",
    "\n",
    "plt.show()"
   ]
  },
  {
   "cell_type": "markdown",
   "id": "96d2fa59",
   "metadata": {},
   "source": [
    "##  Saúde Física V.S. Diabetes\n",
    "***\n",
    "**Resumo:**\n",
    " - Pessoas com diabetes formam mais picos de dias ruins do estado físico.\n",
    " - Distribuição é quase a mesma para poucos dias ruins, com e sem diabetes.\n",
    " \n",
    "**Questões:**\n",
    " - A semelhança na distribuição pode confundir o modelo de classificação?\n",
    " - Considerar bins de 10 dias pode ajudar a diferenciar?"
   ]
  },
  {
   "cell_type": "markdown",
   "id": "10869352",
   "metadata": {},
   "source": [
    "#### Verificando a ocorrência de diabete em relação à qualidade da saúde."
   ]
  },
  {
   "cell_type": "code",
   "execution_count": 50,
   "id": "7299616d",
   "metadata": {},
   "outputs": [
    {
     "data": {
      "image/png": "[encoded data removed]",
      "text/plain": [
       "<Figure size 1080x360 with 1 Axes>"
      ]
     },
     "metadata": {
      "needs_background": "light"
     },
     "output_type": "display_data"
    }
   ],
   "source": [
    "fig, ax = plt.subplots(figsize=(15, 5))\n",
    "color_types = ['#78C850','#F08030','#6890F0','#A8B820','#A8A878','#A040A0','#F8D030',  \n",
    "                '#E0C068','#EE99AC','#C03028','#F85888','#B8A038','#705898','#98D8D8','#7038F8']\n",
    "plt.xticks(rotation=-45)\n",
    "\n",
    "sns.countplot(x='general_health_scale', data=df_diabetes_indcators, \n",
    "              palette=color_types).set_title('Distribuição da Escala de Saúde');"
   ]
  },
  {
   "cell_type": "code",
   "execution_count": 51,
   "id": "479e5cff",
   "metadata": {},
   "outputs": [
    {
     "data": {
      "image/png": "[encoded data removed]",
      "text/plain": [
       "<Figure size 1080x360 with 1 Axes>"
      ]
     },
     "metadata": {
      "needs_background": "light"
     },
     "output_type": "display_data"
    }
   ],
   "source": [
    "fig, ax = plt.subplots(figsize=(15, 5))\n",
    "sns.countplot(y=\"general_health_scale\", hue='diabetes', data=df_diabetes_indcators)\\\n",
    "    .set_title('Qualidade da Saúde vs Diabetes');"
   ]
  },
  {
   "cell_type": "markdown",
   "id": "2248f9bd",
   "metadata": {},
   "source": [
    "## Escala de Sáude V.S. Diabetes \n",
    "***\n",
    "**Resumo:**\n",
    " - Comoe esperado, pessoas com maior qualidade de saúde possuem baixa ocorrência de diabetes.\n",
    " - À medida que a qualidade de saúde reduz, os casos de diabetes aumentam bastante, de modo que pessoas com saúde ruim, possuem alta frequência da doença."
   ]
  },
  {
   "cell_type": "markdown",
   "id": "0ce818f3",
   "metadata": {},
   "source": [
    "#### Verificando a ocorrência de diabete em relação à idade."
   ]
  },
  {
   "cell_type": "code",
   "execution_count": 52,
   "id": "010a94f5",
   "metadata": {},
   "outputs": [
    {
     "data": {
      "text/plain": [
       "[]"
      ]
     },
     "execution_count": 52,
     "metadata": {},
     "output_type": "execute_result"
    },
    {
     "data": {
      "image/png": "[encoded data removed]",
      "text/plain": [
       "<Figure size 576x288 with 1 Axes>"
      ]
     },
     "metadata": {
      "needs_background": "light"
     },
     "output_type": "display_data"
    }
   ],
   "source": [
    "fig = plt.figure(figsize=(8,4),)\n",
    "ax = sns.barplot(x=\"age\", y=\"age\", hue=\"diabetes\", data=df_diabetes_indcators, \n",
    "                 estimator=lambda x: len(x) / len(df_diabetes_indcators) * 100)\n",
    "ax.set(ylabel=\"Percent\")\n",
    "plt.title('Idade vs Diabetes')\n",
    "plt.plot()"
   ]
  },
  {
   "cell_type": "markdown",
   "id": "30f9f4e2",
   "metadata": {},
   "source": [
    "## Idade V.S. Diabetes \n",
    "***\n",
    "**Resumo:** Insights interessantes que encontramos aqui:\n",
    " - Existe um **tendência considerável de crescimento na taxa de diabates** em relação ao envelhecimento.\n",
    " - A imensa maioria das pessoas com diabates está acima dos **45 anos** (6).\n",
    " - Maior concentração de pessoas com diabetes entre 60 e 75 anos (9 e 11).\n",
    "\n",
    " \n",
    "**Questões:**\n",
    " - Podemos reduzir a escala das idades para melhorar a precisão?"
   ]
  },
  {
   "cell_type": "markdown",
   "id": "87bb56c7",
   "metadata": {},
   "source": [
    "#### Verificando a relação entre idade e IMC."
   ]
  },
  {
   "cell_type": "code",
   "execution_count": 53,
   "id": "71c0ad01",
   "metadata": {},
   "outputs": [
    {
     "data": {
      "image/png": "[encoded data removed]",
      "text/plain": [
       "<Figure size 864x576 with 1 Axes>"
      ]
     },
     "metadata": {
      "needs_background": "light"
     },
     "output_type": "display_data"
    }
   ],
   "source": [
    "fig = plt.figure(figsize=(12, 8))\n",
    "sns.boxplot(x=\"age\", y=\"body_mass_index\", hue=\"diabetes\", data=df_diabetes_indcators)\n",
    "plt.title(\"Idade e Nota de IMC\")\n",
    "plt.show()"
   ]
  },
  {
   "cell_type": "markdown",
   "id": "eb0be9e1",
   "metadata": {},
   "source": [
    "##  Idade VS IMC\n",
    "***\n",
    "**Resumo:** \n",
    "- Pessoas sem diabetes mantiveram um IMC consistente, normalmente próximo de 25, mesmo entre as mais velhas.\n",
    "- Para todas as faixas de idade, pessoas com diabetes possuem IMC consideravelmente maior do que as sem diabetes.\n",
    "- Maior parte das pessoas com diabetes estão com IMC entre 30 e 40, independente da idade.\n",
    "- Há muitos outliers (IMC extremamente altos), principalmente para maiores faixas de idade.\n",
    "- Maior parte dos outliers está em pessoas sem diabetes.\n",
    "\n",
    "**Questões:**\n",
    "  - Por que há tantas pessoas com IMC tão elevado sem diabetes, mesmo as mais velhas?\n",
    "  - Necessário tratar outliers para o modelo?"
   ]
  },
  {
   "cell_type": "markdown",
   "id": "f7fd5b9b",
   "metadata": {},
   "source": [
    "#### Verificando a ocorrência de diabete em relação à educação e renda."
   ]
  },
  {
   "cell_type": "code",
   "execution_count": 54,
   "id": "967bcc18",
   "metadata": {},
   "outputs": [
    {
     "data": {
      "text/plain": [
       "[]"
      ]
     },
     "execution_count": 54,
     "metadata": {},
     "output_type": "execute_result"
    },
    {
     "data": {
      "image/png": "[encoded data removed]",
      "text/plain": [
       "<Figure size 576x288 with 1 Axes>"
      ]
     },
     "metadata": {
      "needs_background": "light"
     },
     "output_type": "display_data"
    }
   ],
   "source": [
    "fig = plt.figure(figsize=(8,4),)\n",
    "ax = sns.barplot(x=\"education\", y=\"education\", hue=\"diabetes\", data=df_diabetes_indcators, \n",
    "                 estimator=lambda x: len(x) / len(df_diabetes_indcators) * 100)\n",
    "ax.set(ylabel=\"Percent\")\n",
    "plt.title('Educação vs Diabetes')\n",
    "plt.plot()"
   ]
  },
  {
   "cell_type": "code",
   "execution_count": 55,
   "id": "9631ba7a",
   "metadata": {},
   "outputs": [
    {
     "data": {
      "text/plain": [
       "[]"
      ]
     },
     "execution_count": 55,
     "metadata": {},
     "output_type": "execute_result"
    },
    {
     "data": {
      "image/png": "[encoded data removed]",
      "text/plain": [
       "<Figure size 576x288 with 1 Axes>"
      ]
     },
     "metadata": {
      "needs_background": "light"
     },
     "output_type": "display_data"
    }
   ],
   "source": [
    "fig = plt.figure(figsize=(8,4),)\n",
    "ax = sns.barplot(x=\"income\", y=\"income\", hue=\"diabetes\", data=df_diabetes_indcators, \n",
    "                 estimator=lambda x: len(x) / len(df_diabetes_indcators) * 100)\n",
    "ax.set(ylabel=\"Percent\")\n",
    "plt.title('Renda vs Diabetes')\n",
    "plt.plot()"
   ]
  },
  {
   "cell_type": "markdown",
   "id": "afa6d1f3",
   "metadata": {},
   "source": [
    "##  Renda e Educação VS IMC\n",
    "***\n",
    "**Resumo:** \n",
    "- O cenário é bem semelhante para as duas variáveis.\n",
    "- Com aumento da renda e educação, há um aumento considerável de pessoas sem diabetes.\n",
    "- Quantidade de pessoas com diabete é bem semelhante para todas as faixas de renda e idade.\n",
    "\n",
    "**Questões:**\n",
    "  - Usar apenas uma dessas features para o modelo, já que são tão próximas?\n",
    "  - Apesar de não haver diferenciação para os casos de diabetes, a diferenciação para os casos sem diabetes seria útil para o modelo?"
   ]
  },
  {
   "cell_type": "markdown",
   "id": "a23947d6",
   "metadata": {},
   "source": [
    "#### Calculando a matriz de correlação de variáveis categóricas."
   ]
  },
  {
   "cell_type": "code",
   "execution_count": 56,
   "id": "ee4685ca",
   "metadata": {},
   "outputs": [
    {
     "data": {
      "text/html": [
       "<div>\n",
       "<style scoped>\n",
       "    .dataframe tbody tr th:only-of-type {\n",
       "        vertical-align: middle;\n",
       "    }\n",
       "\n",
       "    .dataframe tbody tr th {\n",
       "        vertical-align: top;\n",
       "    }\n",
       "\n",
       "    .dataframe thead th {\n",
       "        text-align: right;\n",
       "    }\n",
       "</style>\n",
       "<table border=\"1\" class=\"dataframe\">\n",
       "  <thead>\n",
       "    <tr style=\"text-align: right;\">\n",
       "      <th></th>\n",
       "      <th>high_blood_preassure</th>\n",
       "      <th>high_cholesterol</th>\n",
       "      <th>smoker</th>\n",
       "      <th>physical_activity_in_past_30_days</th>\n",
       "      <th>at_least_one_fruit_a_day</th>\n",
       "      <th>at_least_one_veggies_a_day</th>\n",
       "      <th>diabetes</th>\n",
       "    </tr>\n",
       "  </thead>\n",
       "  <tbody>\n",
       "    <tr>\n",
       "      <th>high_blood_preassure</th>\n",
       "      <td>1.000000</td>\n",
       "      <td>0.283963</td>\n",
       "      <td>0.074264</td>\n",
       "      <td>-0.104382</td>\n",
       "      <td>-0.019467</td>\n",
       "      <td>-0.042994</td>\n",
       "      <td>0.254318</td>\n",
       "    </tr>\n",
       "    <tr>\n",
       "      <th>high_cholesterol</th>\n",
       "      <td>0.283963</td>\n",
       "      <td>1.000000</td>\n",
       "      <td>0.074583</td>\n",
       "      <td>-0.063443</td>\n",
       "      <td>-0.026257</td>\n",
       "      <td>-0.027399</td>\n",
       "      <td>0.194944</td>\n",
       "    </tr>\n",
       "    <tr>\n",
       "      <th>smoker</th>\n",
       "      <td>0.074264</td>\n",
       "      <td>0.074583</td>\n",
       "      <td>1.000000</td>\n",
       "      <td>-0.066869</td>\n",
       "      <td>-0.061731</td>\n",
       "      <td>-0.013744</td>\n",
       "      <td>0.045504</td>\n",
       "    </tr>\n",
       "    <tr>\n",
       "      <th>physical_activity_in_past_30_days</th>\n",
       "      <td>-0.104382</td>\n",
       "      <td>-0.063443</td>\n",
       "      <td>-0.066869</td>\n",
       "      <td>1.000000</td>\n",
       "      <td>0.125023</td>\n",
       "      <td>0.135240</td>\n",
       "      <td>-0.100404</td>\n",
       "    </tr>\n",
       "    <tr>\n",
       "      <th>at_least_one_fruit_a_day</th>\n",
       "      <td>-0.019467</td>\n",
       "      <td>-0.026257</td>\n",
       "      <td>-0.061731</td>\n",
       "      <td>0.125023</td>\n",
       "      <td>1.000000</td>\n",
       "      <td>0.242941</td>\n",
       "      <td>-0.024805</td>\n",
       "    </tr>\n",
       "    <tr>\n",
       "      <th>at_least_one_veggies_a_day</th>\n",
       "      <td>-0.042994</td>\n",
       "      <td>-0.027399</td>\n",
       "      <td>-0.013744</td>\n",
       "      <td>0.135240</td>\n",
       "      <td>0.242941</td>\n",
       "      <td>1.000000</td>\n",
       "      <td>-0.041734</td>\n",
       "    </tr>\n",
       "    <tr>\n",
       "      <th>diabetes</th>\n",
       "      <td>0.254318</td>\n",
       "      <td>0.194944</td>\n",
       "      <td>0.045504</td>\n",
       "      <td>-0.100404</td>\n",
       "      <td>-0.024805</td>\n",
       "      <td>-0.041734</td>\n",
       "      <td>1.000000</td>\n",
       "    </tr>\n",
       "  </tbody>\n",
       "</table>\n",
       "</div>"
      ],
      "text/plain": [
       "                                   high_blood_preassure  high_cholesterol  \\\n",
       "high_blood_preassure                           1.000000          0.283963   \n",
       "high_cholesterol                               0.283963          1.000000   \n",
       "smoker                                         0.074264          0.074583   \n",
       "physical_activity_in_past_30_days             -0.104382         -0.063443   \n",
       "at_least_one_fruit_a_day                      -0.019467         -0.026257   \n",
       "at_least_one_veggies_a_day                    -0.042994         -0.027399   \n",
       "diabetes                                       0.254318          0.194944   \n",
       "\n",
       "                                     smoker  \\\n",
       "high_blood_preassure               0.074264   \n",
       "high_cholesterol                   0.074583   \n",
       "smoker                             1.000000   \n",
       "physical_activity_in_past_30_days -0.066869   \n",
       "at_least_one_fruit_a_day          -0.061731   \n",
       "at_least_one_veggies_a_day        -0.013744   \n",
       "diabetes                           0.045504   \n",
       "\n",
       "                                   physical_activity_in_past_30_days  \\\n",
       "high_blood_preassure                                       -0.104382   \n",
       "high_cholesterol                                           -0.063443   \n",
       "smoker                                                     -0.066869   \n",
       "physical_activity_in_past_30_days                           1.000000   \n",
       "at_least_one_fruit_a_day                                    0.125023   \n",
       "at_least_one_veggies_a_day                                  0.135240   \n",
       "diabetes                                                   -0.100404   \n",
       "\n",
       "                                   at_least_one_fruit_a_day  \\\n",
       "high_blood_preassure                              -0.019467   \n",
       "high_cholesterol                                  -0.026257   \n",
       "smoker                                            -0.061731   \n",
       "physical_activity_in_past_30_days                  0.125023   \n",
       "at_least_one_fruit_a_day                           1.000000   \n",
       "at_least_one_veggies_a_day                         0.242941   \n",
       "diabetes                                          -0.024805   \n",
       "\n",
       "                                   at_least_one_veggies_a_day  diabetes  \n",
       "high_blood_preassure                                -0.042994  0.254318  \n",
       "high_cholesterol                                    -0.027399  0.194944  \n",
       "smoker                                              -0.013744  0.045504  \n",
       "physical_activity_in_past_30_days                    0.135240 -0.100404  \n",
       "at_least_one_fruit_a_day                             0.242941 -0.024805  \n",
       "at_least_one_veggies_a_day                           1.000000 -0.041734  \n",
       "diabetes                                            -0.041734  1.000000  "
      ]
     },
     "execution_count": 56,
     "metadata": {},
     "output_type": "execute_result"
    },
    {
     "data": {
      "image/png": "[encoded data removed]",
      "text/plain": [
       "<Figure size 432x288 with 2 Axes>"
      ]
     },
     "metadata": {
      "needs_background": "light"
     },
     "output_type": "display_data"
    }
   ],
   "source": [
    "corr = (df_diabetes_indcators[['high_blood_preassure', 'high_cholesterol', 'smoker', 'physical_activity_in_past_30_days',\n",
    "                               'at_least_one_fruit_a_day', 'at_least_one_veggies_a_day', 'diabetes']].corr())\n",
    "sns.heatmap(corr, \n",
    "            xticklabels=corr.columns.values,\n",
    "            yticklabels=corr.columns.values)\n",
    "\n",
    "corr"
   ]
  },
  {
   "cell_type": "markdown",
   "id": "79481934",
   "metadata": {},
   "source": [
    "###  Correlation Matrix & Heatmap\n",
    "\n",
    "**Questões:**\n",
    "- Quais atributos afetam nossa variável alvo (diabetes)?\n",
    "- Existem atributos com alta correlação entre eles?\n",
    "- Como podemos aprofundar para entender as correlações?\n",
    "\n",
    "**Resumo:**\n",
    "\n",
    "**correlação positiva**\n",
    "\n",
    "Existe uma correlação consideravelmente forte entre pressão sanguínea e colesterol.\n",
    "\n",
    "Faz sentido que pessoas pessoas com alto colesterol, normalmente, possuem maiores problemas de pressão alta. Verificar se podemos considerar só um deles para o modelo ou se será importante usar ambos.\n",
    "\n",
    "\n",
    "**correlação negativa**\n",
    "\n",
    "Há uma correlação razoável entre prática de atividade física e pressão sanguínea. Isso é plausível, já que realizar exercícios ajuda consideravelmente na redução da pressão e colesterol.\n",
    "\n",
    "**diabetes**\n",
    "\n",
    "Considerável correlação positiva com pressão e colesterol, já que alta pressão e colesterol influenciam no desenvolvimento da doença.\n",
    "\n",
    "Há razoável correlação negativa com a prática de atividades físicas, o que pode ser devido ao fato de que atividade física moderada diminui o risco de diabetes.\n",
    "\n",
    "De acordo com estudos, bons hábitos alimentares e não fumar influenciam na redução do risco da doença, porém, a correlação desses com a variável alvo está praticamente irrelevante. Além disso, essa imfluência é em relação à redução do colesterol e peso, que impactam na diabetes. Portanto, podemos desconsiderar atributos referentes à alimentação e fumo."
   ]
  },
  {
   "cell_type": "markdown",
   "id": "6bd1838e",
   "metadata": {},
   "source": [
    "#### Verificando a influência de pressão e colesterol na diabetes."
   ]
  },
  {
   "cell_type": "code",
   "execution_count": 57,
   "id": "fa6a7cdc",
   "metadata": {},
   "outputs": [
    {
     "data": {
      "text/plain": [
       "[]"
      ]
     },
     "execution_count": 57,
     "metadata": {},
     "output_type": "execute_result"
    },
    {
     "data": {
      "image/png": "[encoded data removed]",
      "text/plain": [
       "<Figure size 576x288 with 1 Axes>"
      ]
     },
     "metadata": {
      "needs_background": "light"
     },
     "output_type": "display_data"
    }
   ],
   "source": [
    "fig = plt.figure(figsize=(8,4),)\n",
    "ax = sns.barplot(x=\"high_blood_preassure\", y=\"high_blood_preassure\", hue=\"diabetes\", data=df_diabetes_indcators, \n",
    "                 estimator=lambda x: len(x) / len(df_diabetes_indcators) * 100)\n",
    "ax.set(ylabel=\"Percent\")\n",
    "plt.title('Pressão Alta vs Diabetes')\n",
    "plt.plot()"
   ]
  },
  {
   "cell_type": "code",
   "execution_count": 58,
   "id": "58e38dcd",
   "metadata": {},
   "outputs": [
    {
     "data": {
      "text/plain": [
       "[]"
      ]
     },
     "execution_count": 58,
     "metadata": {},
     "output_type": "execute_result"
    },
    {
     "data": {
      "image/png": "[encoded data removed]",
      "text/plain": [
       "<Figure size 576x288 with 1 Axes>"
      ]
     },
     "metadata": {
      "needs_background": "light"
     },
     "output_type": "display_data"
    }
   ],
   "source": [
    "fig = plt.figure(figsize=(8,4),)\n",
    "ax = sns.barplot(x=\"high_cholesterol\", y=\"high_cholesterol\", hue=\"diabetes\", data=df_diabetes_indcators, \n",
    "                 estimator=lambda x: len(x) / len(df_diabetes_indcators) * 100)\n",
    "ax.set(ylabel=\"Percent\")\n",
    "plt.title('Colesterol Alto vs Diabetes')\n",
    "plt.plot()"
   ]
  },
  {
   "cell_type": "markdown",
   "id": "08728485",
   "metadata": {},
   "source": [
    "##  Pressão e Colesterol VS Diabetes\n",
    "***\n",
    "**Resumo:** \n",
    "- O cenário é praticamente o mesmo para as duas variáveis.\n",
    "- A grande maioria das pessoas sem pressão e colesterol altos não possui diabetes.\n",
    "- Pressão e colesterol altos aumentam consideravelmente a ocorrência de diabetes.\n",
    "\n",
    "**Questões:**\n",
    "  - Usar apenas uma dessas features para o modelo, já que são tão próximas?"
   ]
  },
  {
   "cell_type": "markdown",
   "id": "0cf1a13b",
   "metadata": {},
   "source": [
    "#### Verificando a influência de atividades físicas na diabetes."
   ]
  },
  {
   "cell_type": "code",
   "execution_count": 59,
   "id": "93c807fb",
   "metadata": {},
   "outputs": [
    {
     "data": {
      "text/plain": [
       "[]"
      ]
     },
     "execution_count": 59,
     "metadata": {},
     "output_type": "execute_result"
    },
    {
     "data": {
      "image/png": "[encoded data removed]",
      "text/plain": [
       "<Figure size 576x288 with 1 Axes>"
      ]
     },
     "metadata": {
      "needs_background": "light"
     },
     "output_type": "display_data"
    }
   ],
   "source": [
    "fig = plt.figure(figsize=(8,4),)\n",
    "ax = sns.barplot(x=\"physical_activity_in_past_30_days\", y=\"physical_activity_in_past_30_days\", hue=\"diabetes\", \n",
    "                 data=df_diabetes_indcators, \n",
    "                 estimator=lambda x: len(x) / len(df_diabetes_indcators) * 100)\n",
    "ax.set(ylabel=\"Percent\")\n",
    "plt.title('Realização de Atividades Físicas vs Diabetes')\n",
    "plt.plot()"
   ]
  },
  {
   "cell_type": "markdown",
   "id": "b4c59c1a",
   "metadata": {},
   "source": [
    "##  Realização de Atividades Físicas VS Diabetes\n",
    "***\n",
    "**Resumo:** \n",
    "- A grande maioria das pessoas que realizam atividades físicas não possui diabetes."
   ]
  },
  {
   "cell_type": "markdown",
   "id": "c835f730",
   "metadata": {},
   "source": [
    "# Sweetviz"
   ]
  },
  {
   "cell_type": "code",
   "execution_count": null,
   "id": "c757ef03",
   "metadata": {},
   "outputs": [],
   "source": [
    "pip install sweetviz"
   ]
  },
  {
   "cell_type": "code",
   "execution_count": 100,
   "id": "ea5be5cf",
   "metadata": {},
   "outputs": [
    {
     "data": {
      "application/vnd.jupyter.widget-view+json": {
       "model_id": "cefe2f296b414410938d606f708a79a8",
       "version_major": 2,
       "version_minor": 0
      },
      "text/plain": [
       "                                             |          | [  0%]   00:00 -> (? left)"
      ]
     },
     "metadata": {},
     "output_type": "display_data"
    },
    {
     "name": "stdout",
     "output_type": "stream",
     "text": [
      "Report SWEETVIZ_REPORT.html was generated! NOTEBOOK/COLAB USERS: the web browser MAY not pop up, regardless, the report IS saved in your notebook/colab files.\n"
     ]
    }
   ],
   "source": [
    "import sweetviz as sv\n",
    "\n",
    "my_report = sv.analyze(df_diabetes_indcators,\"diabetes\")\n",
    "my_report.show_html()"
   ]
  },
  {
   "cell_type": "markdown",
   "id": "ce50d548",
   "metadata": {},
   "source": [
    "# Salvando dados selecionados e pré-processados"
   ]
  },
  {
   "cell_type": "code",
   "execution_count": 29,
   "id": "c8f52152",
   "metadata": {},
   "outputs": [
    {
     "data": {
      "text/plain": [
       "Index(['high_blood_preassure', 'high_cholesterol', 'cholesterol_check',\n",
       "       'body_mass_index', 'avc', 'heart_diseaseor_attack', 'smoker',\n",
       "       'physical_activity_in_past_30_days', 'at_least_one_fruit_a_day',\n",
       "       'at_least_one_veggies_a_day', 'high_consumption_of_alcohol',\n",
       "       'any_healthcare', 'no_doctor_because_cost', 'general_health_scale',\n",
       "       'days_of_poor_mental_health', 'physical_illness_injury_days',\n",
       "       'serious_difficulty_walking', 'sex', 'age', 'education', 'income',\n",
       "       'diabetes'],\n",
       "      dtype='object')"
      ]
     },
     "execution_count": 29,
     "metadata": {},
     "output_type": "execute_result"
    }
   ],
   "source": [
    "df_diabetes_indcators.columns"
   ]
  },
  {
   "cell_type": "code",
   "execution_count": 62,
   "id": "779b7c24",
   "metadata": {},
   "outputs": [],
   "source": [
    "df_diabetes_indcators[[\"high_blood_preassure\", \"high_cholesterol\", \"body_mass_index\", \"age\", \n",
    "                       \"physical_activity_in_past_30_days\", \"physical_illness_injury_days\", \n",
    "                       \"education\", \"income\", \"diabetes\"]]\\\n",
    "    .to_csv(\"..\\\\datalake\\\\processing\\\\diabetes_indcators.csv\")"
   ]
  },
  {
   "cell_type": "code",
   "execution_count": null,
   "id": "695a2512",
   "metadata": {},
   "outputs": [],
   "source": []
  }
 ],
 "metadata": {
  "kernelspec": {
   "display_name": "Python 3 (ipykernel)",
   "language": "python",
   "name": "python3"
  },
  "language_info": {
   "codemirror_mode": {
    "name": "ipython",
    "version": 3
   },
   "file_extension": ".py",
   "mimetype": "text/x-python",
   "name": "python",
   "nbconvert_exporter": "python",
   "pygments_lexer": "ipython3",
   "version": "3.8.12"
  }
 },
 "nbformat": 4,
 "nbformat_minor": 5
}
