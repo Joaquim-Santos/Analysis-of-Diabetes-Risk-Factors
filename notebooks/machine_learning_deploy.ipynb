{
 "cells": [
  {
   "cell_type": "markdown",
   "id": "a4a4527c",
   "metadata": {},
   "source": [
    "## Projeto Analysis of Diabetes Risk Factor"
   ]
  },
  {
   "cell_type": "markdown",
   "id": "8c061a3a",
   "metadata": {},
   "source": [
    "### Machine Learning."
   ]
  },
  {
   "cell_type": "code",
   "execution_count": 1,
   "id": "497c75c3",
   "metadata": {},
   "outputs": [],
   "source": [
    "import pandas as pd\n",
    "import numpy as np\n",
    "import matplotlib.pyplot as plt\n",
    "from sklearn.preprocessing import MinMaxScaler\n",
    "from sklearn.model_selection import train_test_split"
   ]
  },
  {
   "cell_type": "markdown",
   "id": "46977a99",
   "metadata": {},
   "source": [
    "### Carregando o Dataset pré-processado"
   ]
  },
  {
   "cell_type": "code",
   "execution_count": 2,
   "id": "fa4d8dc4",
   "metadata": {},
   "outputs": [],
   "source": [
    "df_diabetes_indcators = pd.read_csv(\"..\\\\datalake\\\\processing\\\\diabetes_indcators.csv\", index_col=0)"
   ]
  },
  {
   "cell_type": "code",
   "execution_count": 3,
   "id": "638ea3fb",
   "metadata": {},
   "outputs": [
    {
     "data": {
      "text/html": [
       "<div>\n",
       "<style scoped>\n",
       "    .dataframe tbody tr th:only-of-type {\n",
       "        vertical-align: middle;\n",
       "    }\n",
       "\n",
       "    .dataframe tbody tr th {\n",
       "        vertical-align: top;\n",
       "    }\n",
       "\n",
       "    .dataframe thead th {\n",
       "        text-align: right;\n",
       "    }\n",
       "</style>\n",
       "<table border=\"1\" class=\"dataframe\">\n",
       "  <thead>\n",
       "    <tr style=\"text-align: right;\">\n",
       "      <th></th>\n",
       "      <th>high_blood_preassure</th>\n",
       "      <th>high_cholesterol</th>\n",
       "      <th>body_mass_index</th>\n",
       "      <th>age</th>\n",
       "      <th>physical_activity_in_past_30_days</th>\n",
       "      <th>physical_illness_injury_days</th>\n",
       "      <th>education</th>\n",
       "      <th>income</th>\n",
       "      <th>diabetes</th>\n",
       "    </tr>\n",
       "  </thead>\n",
       "  <tbody>\n",
       "    <tr>\n",
       "      <th>0</th>\n",
       "      <td>1</td>\n",
       "      <td>1</td>\n",
       "      <td>40.0</td>\n",
       "      <td>9</td>\n",
       "      <td>0</td>\n",
       "      <td>15</td>\n",
       "      <td>4</td>\n",
       "      <td>3</td>\n",
       "      <td>0</td>\n",
       "    </tr>\n",
       "    <tr>\n",
       "      <th>1</th>\n",
       "      <td>0</td>\n",
       "      <td>0</td>\n",
       "      <td>25.0</td>\n",
       "      <td>7</td>\n",
       "      <td>1</td>\n",
       "      <td>0</td>\n",
       "      <td>6</td>\n",
       "      <td>1</td>\n",
       "      <td>0</td>\n",
       "    </tr>\n",
       "    <tr>\n",
       "      <th>2</th>\n",
       "      <td>1</td>\n",
       "      <td>1</td>\n",
       "      <td>28.0</td>\n",
       "      <td>9</td>\n",
       "      <td>0</td>\n",
       "      <td>30</td>\n",
       "      <td>4</td>\n",
       "      <td>8</td>\n",
       "      <td>0</td>\n",
       "    </tr>\n",
       "    <tr>\n",
       "      <th>3</th>\n",
       "      <td>1</td>\n",
       "      <td>0</td>\n",
       "      <td>27.0</td>\n",
       "      <td>11</td>\n",
       "      <td>1</td>\n",
       "      <td>0</td>\n",
       "      <td>3</td>\n",
       "      <td>6</td>\n",
       "      <td>0</td>\n",
       "    </tr>\n",
       "    <tr>\n",
       "      <th>4</th>\n",
       "      <td>1</td>\n",
       "      <td>1</td>\n",
       "      <td>24.0</td>\n",
       "      <td>11</td>\n",
       "      <td>1</td>\n",
       "      <td>0</td>\n",
       "      <td>5</td>\n",
       "      <td>4</td>\n",
       "      <td>0</td>\n",
       "    </tr>\n",
       "  </tbody>\n",
       "</table>\n",
       "</div>"
      ],
      "text/plain": [
       "   high_blood_preassure  high_cholesterol  body_mass_index  age  \\\n",
       "0                     1                 1             40.0    9   \n",
       "1                     0                 0             25.0    7   \n",
       "2                     1                 1             28.0    9   \n",
       "3                     1                 0             27.0   11   \n",
       "4                     1                 1             24.0   11   \n",
       "\n",
       "   physical_activity_in_past_30_days  physical_illness_injury_days  education  \\\n",
       "0                                  0                            15          4   \n",
       "1                                  1                             0          6   \n",
       "2                                  0                            30          4   \n",
       "3                                  1                             0          3   \n",
       "4                                  1                             0          5   \n",
       "\n",
       "   income  diabetes  \n",
       "0       3         0  \n",
       "1       1         0  \n",
       "2       8         0  \n",
       "3       6         0  \n",
       "4       4         0  "
      ]
     },
     "execution_count": 3,
     "metadata": {},
     "output_type": "execute_result"
    }
   ],
   "source": [
    "df_diabetes_indcators.head()"
   ]
  },
  {
   "cell_type": "markdown",
   "id": "b03b9906",
   "metadata": {},
   "source": [
    "### Transformação de Features"
   ]
  },
  {
   "cell_type": "code",
   "execution_count": 4,
   "id": "6c074ef6",
   "metadata": {},
   "outputs": [],
   "source": [
    "def map_imc_ranges(x):\n",
    "    if x < 25:\n",
    "        return 0\n",
    "    elif x >= 25 and x <= 30:\n",
    "        return 1\n",
    "    else:\n",
    "        return 2"
   ]
  },
  {
   "cell_type": "code",
   "execution_count": 5,
   "id": "f39e2e87",
   "metadata": {},
   "outputs": [],
   "source": [
    "df_diabetes_indcators['body_mass_index'] = df_diabetes_indcators['body_mass_index'].map(lambda x:map_imc_ranges(x))"
   ]
  },
  {
   "cell_type": "code",
   "execution_count": 6,
   "id": "aa8a7e81",
   "metadata": {},
   "outputs": [],
   "source": [
    "def map_age_ranges(x):\n",
    "    if x < 6:\n",
    "        return 0\n",
    "    elif x >= 6 and x <= 7:\n",
    "        return 1\n",
    "    elif x >= 8 and x <= 9:\n",
    "        return 2\n",
    "    else:\n",
    "        return 3"
   ]
  },
  {
   "cell_type": "code",
   "execution_count": 7,
   "id": "979a8cf4",
   "metadata": {},
   "outputs": [],
   "source": [
    "df_diabetes_indcators['age'] = df_diabetes_indcators['age'].map(lambda x:map_age_ranges(x))"
   ]
  },
  {
   "cell_type": "code",
   "execution_count": 8,
   "id": "d2d338af",
   "metadata": {},
   "outputs": [],
   "source": [
    "def map_physical_illness_days(x):\n",
    "    if x < 10:\n",
    "        return 0\n",
    "    elif x >= 10 and x <= 20:\n",
    "        return 1\n",
    "    else:\n",
    "        return 2"
   ]
  },
  {
   "cell_type": "code",
   "execution_count": 9,
   "id": "fcdf25d1",
   "metadata": {},
   "outputs": [],
   "source": [
    "df_diabetes_indcators['physical_illness_injury_days'] = df_diabetes_indcators['physical_illness_injury_days']\\\n",
    "    .map(lambda x:map_physical_illness_days(x))"
   ]
  },
  {
   "cell_type": "code",
   "execution_count": 10,
   "id": "bb5c05cd",
   "metadata": {},
   "outputs": [],
   "source": [
    "def map_education_scale(x):\n",
    "    if x < 4:\n",
    "        return 1\n",
    "    elif x >= 4 and x <= 5:\n",
    "        return 2\n",
    "    else:\n",
    "        return 3"
   ]
  },
  {
   "cell_type": "code",
   "execution_count": 11,
   "id": "31136abe",
   "metadata": {},
   "outputs": [],
   "source": [
    "df_diabetes_indcators['education'] = df_diabetes_indcators['education'].map(lambda x:map_education_scale(x))"
   ]
  },
  {
   "cell_type": "code",
   "execution_count": 12,
   "id": "451fb7e5",
   "metadata": {},
   "outputs": [],
   "source": [
    "def map_income_scale(x):\n",
    "    if x < 3:\n",
    "        return 1\n",
    "    elif x >= 3 and x <= 5:\n",
    "        return 2\n",
    "    else:\n",
    "        return 3"
   ]
  },
  {
   "cell_type": "code",
   "execution_count": 13,
   "id": "878ad332",
   "metadata": {},
   "outputs": [],
   "source": [
    "df_diabetes_indcators['income'] = df_diabetes_indcators['income'].map(lambda x:map_income_scale(x))"
   ]
  },
  {
   "cell_type": "code",
   "execution_count": 14,
   "id": "57f3f739",
   "metadata": {},
   "outputs": [
    {
     "data": {
      "text/html": [
       "<div>\n",
       "<style scoped>\n",
       "    .dataframe tbody tr th:only-of-type {\n",
       "        vertical-align: middle;\n",
       "    }\n",
       "\n",
       "    .dataframe tbody tr th {\n",
       "        vertical-align: top;\n",
       "    }\n",
       "\n",
       "    .dataframe thead th {\n",
       "        text-align: right;\n",
       "    }\n",
       "</style>\n",
       "<table border=\"1\" class=\"dataframe\">\n",
       "  <thead>\n",
       "    <tr style=\"text-align: right;\">\n",
       "      <th></th>\n",
       "      <th>high_blood_preassure</th>\n",
       "      <th>high_cholesterol</th>\n",
       "      <th>body_mass_index</th>\n",
       "      <th>age</th>\n",
       "      <th>physical_activity_in_past_30_days</th>\n",
       "      <th>physical_illness_injury_days</th>\n",
       "      <th>education</th>\n",
       "      <th>income</th>\n",
       "      <th>diabetes</th>\n",
       "    </tr>\n",
       "  </thead>\n",
       "  <tbody>\n",
       "    <tr>\n",
       "      <th>0</th>\n",
       "      <td>1</td>\n",
       "      <td>1</td>\n",
       "      <td>2</td>\n",
       "      <td>2</td>\n",
       "      <td>0</td>\n",
       "      <td>1</td>\n",
       "      <td>2</td>\n",
       "      <td>2</td>\n",
       "      <td>0</td>\n",
       "    </tr>\n",
       "    <tr>\n",
       "      <th>1</th>\n",
       "      <td>0</td>\n",
       "      <td>0</td>\n",
       "      <td>1</td>\n",
       "      <td>1</td>\n",
       "      <td>1</td>\n",
       "      <td>0</td>\n",
       "      <td>3</td>\n",
       "      <td>1</td>\n",
       "      <td>0</td>\n",
       "    </tr>\n",
       "    <tr>\n",
       "      <th>2</th>\n",
       "      <td>1</td>\n",
       "      <td>1</td>\n",
       "      <td>1</td>\n",
       "      <td>2</td>\n",
       "      <td>0</td>\n",
       "      <td>2</td>\n",
       "      <td>2</td>\n",
       "      <td>3</td>\n",
       "      <td>0</td>\n",
       "    </tr>\n",
       "    <tr>\n",
       "      <th>3</th>\n",
       "      <td>1</td>\n",
       "      <td>0</td>\n",
       "      <td>1</td>\n",
       "      <td>3</td>\n",
       "      <td>1</td>\n",
       "      <td>0</td>\n",
       "      <td>1</td>\n",
       "      <td>3</td>\n",
       "      <td>0</td>\n",
       "    </tr>\n",
       "    <tr>\n",
       "      <th>4</th>\n",
       "      <td>1</td>\n",
       "      <td>1</td>\n",
       "      <td>0</td>\n",
       "      <td>3</td>\n",
       "      <td>1</td>\n",
       "      <td>0</td>\n",
       "      <td>2</td>\n",
       "      <td>2</td>\n",
       "      <td>0</td>\n",
       "    </tr>\n",
       "  </tbody>\n",
       "</table>\n",
       "</div>"
      ],
      "text/plain": [
       "   high_blood_preassure  high_cholesterol  body_mass_index  age  \\\n",
       "0                     1                 1                2    2   \n",
       "1                     0                 0                1    1   \n",
       "2                     1                 1                1    2   \n",
       "3                     1                 0                1    3   \n",
       "4                     1                 1                0    3   \n",
       "\n",
       "   physical_activity_in_past_30_days  physical_illness_injury_days  education  \\\n",
       "0                                  0                             1          2   \n",
       "1                                  1                             0          3   \n",
       "2                                  0                             2          2   \n",
       "3                                  1                             0          1   \n",
       "4                                  1                             0          2   \n",
       "\n",
       "   income  diabetes  \n",
       "0       2         0  \n",
       "1       1         0  \n",
       "2       3         0  \n",
       "3       3         0  \n",
       "4       2         0  "
      ]
     },
     "execution_count": 14,
     "metadata": {},
     "output_type": "execute_result"
    }
   ],
   "source": [
    "df_diabetes_indcators.head()"
   ]
  },
  {
   "cell_type": "markdown",
   "id": "a7740903",
   "metadata": {},
   "source": [
    "#### Separando os conjuntos de dados."
   ]
  },
  {
   "cell_type": "code",
   "execution_count": 15,
   "id": "30538187",
   "metadata": {},
   "outputs": [],
   "source": [
    "target_name = 'diabetes'\n",
    "X = df_diabetes_indcators.drop('diabetes', axis=1)\n",
    "y = df_diabetes_indcators[target_name]"
   ]
  },
  {
   "cell_type": "code",
   "execution_count": 16,
   "id": "dee8d2ba",
   "metadata": {},
   "outputs": [],
   "source": [
    "X_train, X_test, y_train, y_test = train_test_split(\n",
    "        X\n",
    "       ,y\n",
    "       ,test_size = 0.2\n",
    "       ,random_state = 123\n",
    "       ,stratify = y\n",
    ")"
   ]
  },
  {
   "cell_type": "markdown",
   "id": "5fb67a60",
   "metadata": {},
   "source": [
    "#### Treinando o algoritmo de arvore de decisão."
   ]
  },
  {
   "cell_type": "code",
   "execution_count": 17,
   "id": "8d542693",
   "metadata": {},
   "outputs": [],
   "source": [
    "from sklearn.tree import DecisionTreeClassifier"
   ]
  },
  {
   "cell_type": "code",
   "execution_count": 18,
   "id": "e63f4597",
   "metadata": {},
   "outputs": [],
   "source": [
    "decision_tree = DecisionTreeClassifier()\n",
    "decision_tree = decision_tree.fit(X_train,y_train)"
   ]
  },
  {
   "cell_type": "code",
   "execution_count": 19,
   "id": "321cd674",
   "metadata": {},
   "outputs": [],
   "source": [
    "importances = decision_tree.feature_importances_\n",
    "feat_names = df_diabetes_indcators.drop(['diabetes'],axis=1).columns"
   ]
  },
  {
   "cell_type": "code",
   "execution_count": 20,
   "id": "e0f0cab6",
   "metadata": {},
   "outputs": [
    {
     "data": {
      "image/png": "[encoded data removed]",
      "text/plain": [
       "<Figure size 864x288 with 1 Axes>"
      ]
     },
     "metadata": {
      "needs_background": "light"
     },
     "output_type": "display_data"
    }
   ],
   "source": [
    "indices = np.argsort(importances)[::-1]\n",
    "plt.figure(figsize=(12,4))\n",
    "plt.title(\"Feature importances by DecisionTreeClassifier\")\n",
    "plt.bar(range(len(indices)), importances[indices], color='lightblue',  align=\"center\")\n",
    "plt.xticks(range(len(indices)), feat_names[indices], rotation='vertical',fontsize=14)\n",
    "plt.xlim([-1, len(indices)])\n",
    "plt.show()"
   ]
  },
  {
   "cell_type": "markdown",
   "id": "88c354b7",
   "metadata": {},
   "source": [
    "#### Filtrando apenas os atributos relevantes."
   ]
  },
  {
   "cell_type": "code",
   "execution_count": 21,
   "id": "8e3c9bee",
   "metadata": {},
   "outputs": [],
   "source": [
    "X = df_diabetes_indcators[[\"high_blood_preassure\",\"body_mass_index\",\"high_cholesterol\",\"age\", \n",
    "                           \"physical_illness_injury_days\", \"income\", \"education\", \"physical_activity_in_past_30_days\"]]"
   ]
  },
  {
   "cell_type": "markdown",
   "id": "001cc120",
   "metadata": {},
   "source": [
    "#### Realizando balanceamento de classes."
   ]
  },
  {
   "cell_type": "code",
   "execution_count": 22,
   "id": "78f57fe4",
   "metadata": {},
   "outputs": [],
   "source": [
    "from imblearn.over_sampling import SMOTE\n",
    "from imblearn.under_sampling import NearMiss"
   ]
  },
  {
   "cell_type": "code",
   "execution_count": 23,
   "id": "f09e3865",
   "metadata": {},
   "outputs": [],
   "source": [
    "nm = NearMiss(sampling_strategy=0.40)"
   ]
  },
  {
   "cell_type": "code",
   "execution_count": 24,
   "id": "b7e73450",
   "metadata": {},
   "outputs": [],
   "source": [
    "x_nm, y_nm = nm.fit_resample(X, y)"
   ]
  },
  {
   "cell_type": "code",
   "execution_count": 25,
   "id": "f033dbd5",
   "metadata": {},
   "outputs": [],
   "source": [
    "smote = SMOTE(sampling_strategy=0.60, random_state=33)"
   ]
  },
  {
   "cell_type": "code",
   "execution_count": 26,
   "id": "00046cc3",
   "metadata": {},
   "outputs": [],
   "source": [
    "x_smote, y_smote = smote.fit_resample(x_nm, y_nm)"
   ]
  },
  {
   "cell_type": "markdown",
   "id": "e90a82bd",
   "metadata": {},
   "source": [
    "#### Separando os conjuntos de dados."
   ]
  },
  {
   "cell_type": "code",
   "execution_count": 27,
   "id": "5e2c3798",
   "metadata": {},
   "outputs": [
    {
     "data": {
      "text/plain": [
       "0    87742\n",
       "1    52645\n",
       "Name: diabetes, dtype: int64"
      ]
     },
     "execution_count": 27,
     "metadata": {},
     "output_type": "execute_result"
    }
   ],
   "source": [
    "y_smote.value_counts()"
   ]
  },
  {
   "cell_type": "code",
   "execution_count": 581,
   "id": "0f0a4633",
   "metadata": {},
   "outputs": [],
   "source": [
    "scaler = MinMaxScaler()"
   ]
  },
  {
   "cell_type": "code",
   "execution_count": 582,
   "id": "87f5a5ae",
   "metadata": {},
   "outputs": [],
   "source": [
    "X = scaler.fit_transform(x_smote)"
   ]
  },
  {
   "cell_type": "code",
   "execution_count": 583,
   "id": "7bd2d627",
   "metadata": {},
   "outputs": [],
   "source": [
    "X_train, X_test, y_train, y_test = train_test_split(\n",
    "        X\n",
    "       ,y_smote\n",
    "       ,test_size = 0.2\n",
    "       ,random_state = 123\n",
    ")"
   ]
  },
  {
   "cell_type": "markdown",
   "id": "32b59df7",
   "metadata": {},
   "source": [
    "#### Função do modelo de base."
   ]
  },
  {
   "cell_type": "code",
   "execution_count": 413,
   "id": "5d0751be",
   "metadata": {},
   "outputs": [],
   "source": [
    "def base_rate_model(X) :\n",
    "    return np.zeros(X.shape[0])"
   ]
  },
  {
   "cell_type": "markdown",
   "id": "838237a9",
   "metadata": {},
   "source": [
    "#### Importando métodos de métrica de avaliação."
   ]
  },
  {
   "cell_type": "code",
   "execution_count": 414,
   "id": "8ec0735b",
   "metadata": {},
   "outputs": [],
   "source": [
    "from sklearn.metrics import roc_auc_score, accuracy_score, classification_report"
   ]
  },
  {
   "cell_type": "code",
   "execution_count": 415,
   "id": "2368c61b",
   "metadata": {},
   "outputs": [],
   "source": [
    "def roc_classification_report_results(model,y_test,y_predict):\n",
    "    roc_ = roc_auc_score(y_test, y_predict)\n",
    "    classfication_report = classification_report(y_test, y_predict)\n",
    "    \n",
    "    print (\"\\n{} AUC = {}\\n\".format(model, roc_))\n",
    "    print(classfication_report)"
   ]
  },
  {
   "cell_type": "markdown",
   "id": "5f3cd252",
   "metadata": {},
   "source": [
    "#### Análise do modelo de baseline"
   ]
  },
  {
   "cell_type": "code",
   "execution_count": 416,
   "id": "96d37873",
   "metadata": {},
   "outputs": [],
   "source": [
    "y_predict = base_rate_model(X_test)"
   ]
  },
  {
   "cell_type": "code",
   "execution_count": 417,
   "id": "166a4b80",
   "metadata": {},
   "outputs": [
    {
     "name": "stdout",
     "output_type": "stream",
     "text": [
      "\n",
      "Base Model AUC = 0.5\n",
      "\n",
      "              precision    recall  f1-score   support\n",
      "\n",
      "           0       0.62      1.00      0.77     22544\n",
      "           1       0.00      0.00      0.00     13685\n",
      "\n",
      "    accuracy                           0.62     36229\n",
      "   macro avg       0.31      0.50      0.38     36229\n",
      "weighted avg       0.39      0.62      0.48     36229\n",
      "\n"
     ]
    },
    {
     "name": "stderr",
     "output_type": "stream",
     "text": [
      "C:\\Users\\Joaquim Aniceto\\AppData\\Roaming\\Python\\Python38\\site-packages\\sklearn\\metrics\\_classification.py:1221: UndefinedMetricWarning: Precision and F-score are ill-defined and being set to 0.0 in labels with no predicted samples. Use `zero_division` parameter to control this behavior.\n",
      "  _warn_prf(average, modifier, msg_start, len(result))\n"
     ]
    }
   ],
   "source": [
    "roc_classification_report_results(\"Base Model\", y_test, y_predict)"
   ]
  },
  {
   "cell_type": "markdown",
   "id": "e433f596",
   "metadata": {},
   "source": [
    "### Modelo de Árvore de Decisão"
   ]
  },
  {
   "cell_type": "markdown",
   "id": "33524aac",
   "metadata": {},
   "source": [
    "#### Instânciando o algoritmo."
   ]
  },
  {
   "cell_type": "code",
   "execution_count": 584,
   "id": "95c50872",
   "metadata": {},
   "outputs": [],
   "source": [
    "from sklearn.tree import DecisionTreeClassifier\n",
    "decision_tree = DecisionTreeClassifier()"
   ]
  },
  {
   "cell_type": "markdown",
   "id": "3d7ad1c8",
   "metadata": {},
   "source": [
    "#### Realizando o treinamento."
   ]
  },
  {
   "cell_type": "code",
   "execution_count": 585,
   "id": "edcca31f",
   "metadata": {
    "scrolled": true
   },
   "outputs": [
    {
     "data": {
      "text/plain": [
       "DecisionTreeClassifier()"
      ]
     },
     "execution_count": 585,
     "metadata": {},
     "output_type": "execute_result"
    }
   ],
   "source": [
    "decision_tree.fit(X_train,y_train)"
   ]
  },
  {
   "cell_type": "markdown",
   "id": "d3ac4673",
   "metadata": {},
   "source": [
    "#### Calculando as predições."
   ]
  },
  {
   "cell_type": "code",
   "execution_count": 586,
   "id": "9197176d",
   "metadata": {},
   "outputs": [],
   "source": [
    "y_predict = decision_tree.predict(X_test)"
   ]
  },
  {
   "cell_type": "markdown",
   "id": "56a32296",
   "metadata": {},
   "source": [
    "#### Avaliando o resultado."
   ]
  },
  {
   "cell_type": "code",
   "execution_count": 587,
   "id": "93b86d22",
   "metadata": {},
   "outputs": [
    {
     "name": "stdout",
     "output_type": "stream",
     "text": [
      "\n",
      "Decision Tree AUC = 0.6976525848435982\n",
      "\n",
      "              precision    recall  f1-score   support\n",
      "\n",
      "           0       0.76      0.82      0.79     17507\n",
      "           1       0.66      0.58      0.61     10571\n",
      "\n",
      "    accuracy                           0.73     28078\n",
      "   macro avg       0.71      0.70      0.70     28078\n",
      "weighted avg       0.72      0.73      0.72     28078\n",
      "\n"
     ]
    }
   ],
   "source": [
    "roc_classification_report_results(\"Decision Tree\", y_test, y_predict)"
   ]
  },
  {
   "cell_type": "markdown",
   "id": "946707cf",
   "metadata": {},
   "source": [
    "### Modelo de Arvore Aleatória (Random Forest)"
   ]
  },
  {
   "cell_type": "markdown",
   "id": "73489b11",
   "metadata": {},
   "source": [
    "#### Instânciando o algoritmo."
   ]
  },
  {
   "cell_type": "code",
   "execution_count": 588,
   "id": "6dab769b",
   "metadata": {},
   "outputs": [],
   "source": [
    "from sklearn.ensemble import RandomForestClassifier"
   ]
  },
  {
   "cell_type": "code",
   "execution_count": 589,
   "id": "3e0c74f5",
   "metadata": {},
   "outputs": [],
   "source": [
    "random_forest = RandomForestClassifier()"
   ]
  },
  {
   "cell_type": "markdown",
   "id": "193d0577",
   "metadata": {},
   "source": [
    "#### Realizando o treinamento."
   ]
  },
  {
   "cell_type": "code",
   "execution_count": 590,
   "id": "8469a48a",
   "metadata": {
    "scrolled": true
   },
   "outputs": [
    {
     "data": {
      "text/plain": [
       "RandomForestClassifier()"
      ]
     },
     "execution_count": 590,
     "metadata": {},
     "output_type": "execute_result"
    }
   ],
   "source": [
    "random_forest.fit(X_train,y_train)"
   ]
  },
  {
   "cell_type": "markdown",
   "id": "3a77f475",
   "metadata": {},
   "source": [
    "#### Calculando as predições."
   ]
  },
  {
   "cell_type": "code",
   "execution_count": 591,
   "id": "58e16f6c",
   "metadata": {},
   "outputs": [],
   "source": [
    "y_predict = random_forest.predict(X_test)"
   ]
  },
  {
   "cell_type": "markdown",
   "id": "5b56117a",
   "metadata": {},
   "source": [
    "#### Avaliando o resultado."
   ]
  },
  {
   "cell_type": "code",
   "execution_count": 592,
   "id": "8853f34b",
   "metadata": {},
   "outputs": [
    {
     "name": "stdout",
     "output_type": "stream",
     "text": [
      "\n",
      "Random Forest AUC = 0.699644566136679\n",
      "\n",
      "              precision    recall  f1-score   support\n",
      "\n",
      "           0       0.76      0.82      0.79     17507\n",
      "           1       0.66      0.58      0.62     10571\n",
      "\n",
      "    accuracy                           0.73     28078\n",
      "   macro avg       0.71      0.70      0.70     28078\n",
      "weighted avg       0.72      0.73      0.73     28078\n",
      "\n"
     ]
    }
   ],
   "source": [
    "roc_classification_report_results(\"Random Forest\", y_test, y_predict)"
   ]
  },
  {
   "cell_type": "markdown",
   "id": "6fa32588",
   "metadata": {},
   "source": [
    "### Pycaret"
   ]
  },
  {
   "cell_type": "code",
   "execution_count": null,
   "id": "04eb1242",
   "metadata": {},
   "outputs": [],
   "source": [
    "pip install pycaret"
   ]
  },
  {
   "cell_type": "markdown",
   "id": "bb6777d1",
   "metadata": {},
   "source": [
    "#### Importando os métodos."
   ]
  },
  {
   "cell_type": "code",
   "execution_count": 29,
   "id": "d44eb2b0",
   "metadata": {},
   "outputs": [],
   "source": [
    "from pycaret.classification import *\n",
    "from imblearn.over_sampling import ADASYN"
   ]
  },
  {
   "cell_type": "markdown",
   "id": "3c8e58d1",
   "metadata": {},
   "source": [
    "#### Definindo o Setup."
   ]
  },
  {
   "cell_type": "code",
   "execution_count": 35,
   "id": "ac5ffb83",
   "metadata": {},
   "outputs": [
    {
     "data": {
      "text/html": [
       "<style type=\"text/css\">\n",
       "#T_326ea_row44_col1, #T_326ea_row58_col1 {\n",
       "  background-color: lightgreen;\n",
       "}\n",
       "</style>\n",
       "<table id=\"T_326ea_\">\n",
       "  <thead>\n",
       "    <tr>\n",
       "      <th class=\"blank level0\" >&nbsp;</th>\n",
       "      <th class=\"col_heading level0 col0\" >Description</th>\n",
       "      <th class=\"col_heading level0 col1\" >Value</th>\n",
       "    </tr>\n",
       "  </thead>\n",
       "  <tbody>\n",
       "    <tr>\n",
       "      <th id=\"T_326ea_level0_row0\" class=\"row_heading level0 row0\" >0</th>\n",
       "      <td id=\"T_326ea_row0_col0\" class=\"data row0 col0\" >session_id</td>\n",
       "      <td id=\"T_326ea_row0_col1\" class=\"data row0 col1\" >8457</td>\n",
       "    </tr>\n",
       "    <tr>\n",
       "      <th id=\"T_326ea_level0_row1\" class=\"row_heading level0 row1\" >1</th>\n",
       "      <td id=\"T_326ea_row1_col0\" class=\"data row1 col0\" >Target</td>\n",
       "      <td id=\"T_326ea_row1_col1\" class=\"data row1 col1\" >diabetes</td>\n",
       "    </tr>\n",
       "    <tr>\n",
       "      <th id=\"T_326ea_level0_row2\" class=\"row_heading level0 row2\" >2</th>\n",
       "      <td id=\"T_326ea_row2_col0\" class=\"data row2 col0\" >Target Type</td>\n",
       "      <td id=\"T_326ea_row2_col1\" class=\"data row2 col1\" >Binary</td>\n",
       "    </tr>\n",
       "    <tr>\n",
       "      <th id=\"T_326ea_level0_row3\" class=\"row_heading level0 row3\" >3</th>\n",
       "      <td id=\"T_326ea_row3_col0\" class=\"data row3 col0\" >Label Encoded</td>\n",
       "      <td id=\"T_326ea_row3_col1\" class=\"data row3 col1\" >None</td>\n",
       "    </tr>\n",
       "    <tr>\n",
       "      <th id=\"T_326ea_level0_row4\" class=\"row_heading level0 row4\" >4</th>\n",
       "      <td id=\"T_326ea_row4_col0\" class=\"data row4 col0\" >Original Data</td>\n",
       "      <td id=\"T_326ea_row4_col1\" class=\"data row4 col1\" >(140387, 9)</td>\n",
       "    </tr>\n",
       "    <tr>\n",
       "      <th id=\"T_326ea_level0_row5\" class=\"row_heading level0 row5\" >5</th>\n",
       "      <td id=\"T_326ea_row5_col0\" class=\"data row5 col0\" >Missing Values</td>\n",
       "      <td id=\"T_326ea_row5_col1\" class=\"data row5 col1\" >False</td>\n",
       "    </tr>\n",
       "    <tr>\n",
       "      <th id=\"T_326ea_level0_row6\" class=\"row_heading level0 row6\" >6</th>\n",
       "      <td id=\"T_326ea_row6_col0\" class=\"data row6 col0\" >Numeric Features</td>\n",
       "      <td id=\"T_326ea_row6_col1\" class=\"data row6 col1\" >0</td>\n",
       "    </tr>\n",
       "    <tr>\n",
       "      <th id=\"T_326ea_level0_row7\" class=\"row_heading level0 row7\" >7</th>\n",
       "      <td id=\"T_326ea_row7_col0\" class=\"data row7 col0\" >Categorical Features</td>\n",
       "      <td id=\"T_326ea_row7_col1\" class=\"data row7 col1\" >8</td>\n",
       "    </tr>\n",
       "    <tr>\n",
       "      <th id=\"T_326ea_level0_row8\" class=\"row_heading level0 row8\" >8</th>\n",
       "      <td id=\"T_326ea_row8_col0\" class=\"data row8 col0\" >Ordinal Features</td>\n",
       "      <td id=\"T_326ea_row8_col1\" class=\"data row8 col1\" >False</td>\n",
       "    </tr>\n",
       "    <tr>\n",
       "      <th id=\"T_326ea_level0_row9\" class=\"row_heading level0 row9\" >9</th>\n",
       "      <td id=\"T_326ea_row9_col0\" class=\"data row9 col0\" >High Cardinality Features</td>\n",
       "      <td id=\"T_326ea_row9_col1\" class=\"data row9 col1\" >False</td>\n",
       "    </tr>\n",
       "    <tr>\n",
       "      <th id=\"T_326ea_level0_row10\" class=\"row_heading level0 row10\" >10</th>\n",
       "      <td id=\"T_326ea_row10_col0\" class=\"data row10 col0\" >High Cardinality Method</td>\n",
       "      <td id=\"T_326ea_row10_col1\" class=\"data row10 col1\" >None</td>\n",
       "    </tr>\n",
       "    <tr>\n",
       "      <th id=\"T_326ea_level0_row11\" class=\"row_heading level0 row11\" >11</th>\n",
       "      <td id=\"T_326ea_row11_col0\" class=\"data row11 col0\" >Transformed Train Set</td>\n",
       "      <td id=\"T_326ea_row11_col1\" class=\"data row11 col1\" >(98270, 19)</td>\n",
       "    </tr>\n",
       "    <tr>\n",
       "      <th id=\"T_326ea_level0_row12\" class=\"row_heading level0 row12\" >12</th>\n",
       "      <td id=\"T_326ea_row12_col0\" class=\"data row12 col0\" >Transformed Test Set</td>\n",
       "      <td id=\"T_326ea_row12_col1\" class=\"data row12 col1\" >(42117, 19)</td>\n",
       "    </tr>\n",
       "    <tr>\n",
       "      <th id=\"T_326ea_level0_row13\" class=\"row_heading level0 row13\" >13</th>\n",
       "      <td id=\"T_326ea_row13_col0\" class=\"data row13 col0\" >Shuffle Train-Test</td>\n",
       "      <td id=\"T_326ea_row13_col1\" class=\"data row13 col1\" >True</td>\n",
       "    </tr>\n",
       "    <tr>\n",
       "      <th id=\"T_326ea_level0_row14\" class=\"row_heading level0 row14\" >14</th>\n",
       "      <td id=\"T_326ea_row14_col0\" class=\"data row14 col0\" >Stratify Train-Test</td>\n",
       "      <td id=\"T_326ea_row14_col1\" class=\"data row14 col1\" >True</td>\n",
       "    </tr>\n",
       "    <tr>\n",
       "      <th id=\"T_326ea_level0_row15\" class=\"row_heading level0 row15\" >15</th>\n",
       "      <td id=\"T_326ea_row15_col0\" class=\"data row15 col0\" >Fold Generator</td>\n",
       "      <td id=\"T_326ea_row15_col1\" class=\"data row15 col1\" >StratifiedKFold</td>\n",
       "    </tr>\n",
       "    <tr>\n",
       "      <th id=\"T_326ea_level0_row16\" class=\"row_heading level0 row16\" >16</th>\n",
       "      <td id=\"T_326ea_row16_col0\" class=\"data row16 col0\" >Fold Number</td>\n",
       "      <td id=\"T_326ea_row16_col1\" class=\"data row16 col1\" >10</td>\n",
       "    </tr>\n",
       "    <tr>\n",
       "      <th id=\"T_326ea_level0_row17\" class=\"row_heading level0 row17\" >17</th>\n",
       "      <td id=\"T_326ea_row17_col0\" class=\"data row17 col0\" >CPU Jobs</td>\n",
       "      <td id=\"T_326ea_row17_col1\" class=\"data row17 col1\" >-1</td>\n",
       "    </tr>\n",
       "    <tr>\n",
       "      <th id=\"T_326ea_level0_row18\" class=\"row_heading level0 row18\" >18</th>\n",
       "      <td id=\"T_326ea_row18_col0\" class=\"data row18 col0\" >Use GPU</td>\n",
       "      <td id=\"T_326ea_row18_col1\" class=\"data row18 col1\" >False</td>\n",
       "    </tr>\n",
       "    <tr>\n",
       "      <th id=\"T_326ea_level0_row19\" class=\"row_heading level0 row19\" >19</th>\n",
       "      <td id=\"T_326ea_row19_col0\" class=\"data row19 col0\" >Log Experiment</td>\n",
       "      <td id=\"T_326ea_row19_col1\" class=\"data row19 col1\" >False</td>\n",
       "    </tr>\n",
       "    <tr>\n",
       "      <th id=\"T_326ea_level0_row20\" class=\"row_heading level0 row20\" >20</th>\n",
       "      <td id=\"T_326ea_row20_col0\" class=\"data row20 col0\" >Experiment Name</td>\n",
       "      <td id=\"T_326ea_row20_col1\" class=\"data row20 col1\" >clf-default-name</td>\n",
       "    </tr>\n",
       "    <tr>\n",
       "      <th id=\"T_326ea_level0_row21\" class=\"row_heading level0 row21\" >21</th>\n",
       "      <td id=\"T_326ea_row21_col0\" class=\"data row21 col0\" >USI</td>\n",
       "      <td id=\"T_326ea_row21_col1\" class=\"data row21 col1\" >2ab1</td>\n",
       "    </tr>\n",
       "    <tr>\n",
       "      <th id=\"T_326ea_level0_row22\" class=\"row_heading level0 row22\" >22</th>\n",
       "      <td id=\"T_326ea_row22_col0\" class=\"data row22 col0\" >Imputation Type</td>\n",
       "      <td id=\"T_326ea_row22_col1\" class=\"data row22 col1\" >simple</td>\n",
       "    </tr>\n",
       "    <tr>\n",
       "      <th id=\"T_326ea_level0_row23\" class=\"row_heading level0 row23\" >23</th>\n",
       "      <td id=\"T_326ea_row23_col0\" class=\"data row23 col0\" >Iterative Imputation Iteration</td>\n",
       "      <td id=\"T_326ea_row23_col1\" class=\"data row23 col1\" >None</td>\n",
       "    </tr>\n",
       "    <tr>\n",
       "      <th id=\"T_326ea_level0_row24\" class=\"row_heading level0 row24\" >24</th>\n",
       "      <td id=\"T_326ea_row24_col0\" class=\"data row24 col0\" >Numeric Imputer</td>\n",
       "      <td id=\"T_326ea_row24_col1\" class=\"data row24 col1\" >mean</td>\n",
       "    </tr>\n",
       "    <tr>\n",
       "      <th id=\"T_326ea_level0_row25\" class=\"row_heading level0 row25\" >25</th>\n",
       "      <td id=\"T_326ea_row25_col0\" class=\"data row25 col0\" >Iterative Imputation Numeric Model</td>\n",
       "      <td id=\"T_326ea_row25_col1\" class=\"data row25 col1\" >None</td>\n",
       "    </tr>\n",
       "    <tr>\n",
       "      <th id=\"T_326ea_level0_row26\" class=\"row_heading level0 row26\" >26</th>\n",
       "      <td id=\"T_326ea_row26_col0\" class=\"data row26 col0\" >Categorical Imputer</td>\n",
       "      <td id=\"T_326ea_row26_col1\" class=\"data row26 col1\" >constant</td>\n",
       "    </tr>\n",
       "    <tr>\n",
       "      <th id=\"T_326ea_level0_row27\" class=\"row_heading level0 row27\" >27</th>\n",
       "      <td id=\"T_326ea_row27_col0\" class=\"data row27 col0\" >Iterative Imputation Categorical Model</td>\n",
       "      <td id=\"T_326ea_row27_col1\" class=\"data row27 col1\" >None</td>\n",
       "    </tr>\n",
       "    <tr>\n",
       "      <th id=\"T_326ea_level0_row28\" class=\"row_heading level0 row28\" >28</th>\n",
       "      <td id=\"T_326ea_row28_col0\" class=\"data row28 col0\" >Unknown Categoricals Handling</td>\n",
       "      <td id=\"T_326ea_row28_col1\" class=\"data row28 col1\" >least_frequent</td>\n",
       "    </tr>\n",
       "    <tr>\n",
       "      <th id=\"T_326ea_level0_row29\" class=\"row_heading level0 row29\" >29</th>\n",
       "      <td id=\"T_326ea_row29_col0\" class=\"data row29 col0\" >Normalize</td>\n",
       "      <td id=\"T_326ea_row29_col1\" class=\"data row29 col1\" >False</td>\n",
       "    </tr>\n",
       "    <tr>\n",
       "      <th id=\"T_326ea_level0_row30\" class=\"row_heading level0 row30\" >30</th>\n",
       "      <td id=\"T_326ea_row30_col0\" class=\"data row30 col0\" >Normalize Method</td>\n",
       "      <td id=\"T_326ea_row30_col1\" class=\"data row30 col1\" >None</td>\n",
       "    </tr>\n",
       "    <tr>\n",
       "      <th id=\"T_326ea_level0_row31\" class=\"row_heading level0 row31\" >31</th>\n",
       "      <td id=\"T_326ea_row31_col0\" class=\"data row31 col0\" >Transformation</td>\n",
       "      <td id=\"T_326ea_row31_col1\" class=\"data row31 col1\" >False</td>\n",
       "    </tr>\n",
       "    <tr>\n",
       "      <th id=\"T_326ea_level0_row32\" class=\"row_heading level0 row32\" >32</th>\n",
       "      <td id=\"T_326ea_row32_col0\" class=\"data row32 col0\" >Transformation Method</td>\n",
       "      <td id=\"T_326ea_row32_col1\" class=\"data row32 col1\" >None</td>\n",
       "    </tr>\n",
       "    <tr>\n",
       "      <th id=\"T_326ea_level0_row33\" class=\"row_heading level0 row33\" >33</th>\n",
       "      <td id=\"T_326ea_row33_col0\" class=\"data row33 col0\" >PCA</td>\n",
       "      <td id=\"T_326ea_row33_col1\" class=\"data row33 col1\" >False</td>\n",
       "    </tr>\n",
       "    <tr>\n",
       "      <th id=\"T_326ea_level0_row34\" class=\"row_heading level0 row34\" >34</th>\n",
       "      <td id=\"T_326ea_row34_col0\" class=\"data row34 col0\" >PCA Method</td>\n",
       "      <td id=\"T_326ea_row34_col1\" class=\"data row34 col1\" >None</td>\n",
       "    </tr>\n",
       "    <tr>\n",
       "      <th id=\"T_326ea_level0_row35\" class=\"row_heading level0 row35\" >35</th>\n",
       "      <td id=\"T_326ea_row35_col0\" class=\"data row35 col0\" >PCA Components</td>\n",
       "      <td id=\"T_326ea_row35_col1\" class=\"data row35 col1\" >None</td>\n",
       "    </tr>\n",
       "    <tr>\n",
       "      <th id=\"T_326ea_level0_row36\" class=\"row_heading level0 row36\" >36</th>\n",
       "      <td id=\"T_326ea_row36_col0\" class=\"data row36 col0\" >Ignore Low Variance</td>\n",
       "      <td id=\"T_326ea_row36_col1\" class=\"data row36 col1\" >False</td>\n",
       "    </tr>\n",
       "    <tr>\n",
       "      <th id=\"T_326ea_level0_row37\" class=\"row_heading level0 row37\" >37</th>\n",
       "      <td id=\"T_326ea_row37_col0\" class=\"data row37 col0\" >Combine Rare Levels</td>\n",
       "      <td id=\"T_326ea_row37_col1\" class=\"data row37 col1\" >False</td>\n",
       "    </tr>\n",
       "    <tr>\n",
       "      <th id=\"T_326ea_level0_row38\" class=\"row_heading level0 row38\" >38</th>\n",
       "      <td id=\"T_326ea_row38_col0\" class=\"data row38 col0\" >Rare Level Threshold</td>\n",
       "      <td id=\"T_326ea_row38_col1\" class=\"data row38 col1\" >None</td>\n",
       "    </tr>\n",
       "    <tr>\n",
       "      <th id=\"T_326ea_level0_row39\" class=\"row_heading level0 row39\" >39</th>\n",
       "      <td id=\"T_326ea_row39_col0\" class=\"data row39 col0\" >Numeric Binning</td>\n",
       "      <td id=\"T_326ea_row39_col1\" class=\"data row39 col1\" >False</td>\n",
       "    </tr>\n",
       "    <tr>\n",
       "      <th id=\"T_326ea_level0_row40\" class=\"row_heading level0 row40\" >40</th>\n",
       "      <td id=\"T_326ea_row40_col0\" class=\"data row40 col0\" >Remove Outliers</td>\n",
       "      <td id=\"T_326ea_row40_col1\" class=\"data row40 col1\" >False</td>\n",
       "    </tr>\n",
       "    <tr>\n",
       "      <th id=\"T_326ea_level0_row41\" class=\"row_heading level0 row41\" >41</th>\n",
       "      <td id=\"T_326ea_row41_col0\" class=\"data row41 col0\" >Outliers Threshold</td>\n",
       "      <td id=\"T_326ea_row41_col1\" class=\"data row41 col1\" >None</td>\n",
       "    </tr>\n",
       "    <tr>\n",
       "      <th id=\"T_326ea_level0_row42\" class=\"row_heading level0 row42\" >42</th>\n",
       "      <td id=\"T_326ea_row42_col0\" class=\"data row42 col0\" >Remove Multicollinearity</td>\n",
       "      <td id=\"T_326ea_row42_col1\" class=\"data row42 col1\" >False</td>\n",
       "    </tr>\n",
       "    <tr>\n",
       "      <th id=\"T_326ea_level0_row43\" class=\"row_heading level0 row43\" >43</th>\n",
       "      <td id=\"T_326ea_row43_col0\" class=\"data row43 col0\" >Multicollinearity Threshold</td>\n",
       "      <td id=\"T_326ea_row43_col1\" class=\"data row43 col1\" >None</td>\n",
       "    </tr>\n",
       "    <tr>\n",
       "      <th id=\"T_326ea_level0_row44\" class=\"row_heading level0 row44\" >44</th>\n",
       "      <td id=\"T_326ea_row44_col0\" class=\"data row44 col0\" >Remove Perfect Collinearity</td>\n",
       "      <td id=\"T_326ea_row44_col1\" class=\"data row44 col1\" >True</td>\n",
       "    </tr>\n",
       "    <tr>\n",
       "      <th id=\"T_326ea_level0_row45\" class=\"row_heading level0 row45\" >45</th>\n",
       "      <td id=\"T_326ea_row45_col0\" class=\"data row45 col0\" >Clustering</td>\n",
       "      <td id=\"T_326ea_row45_col1\" class=\"data row45 col1\" >False</td>\n",
       "    </tr>\n",
       "    <tr>\n",
       "      <th id=\"T_326ea_level0_row46\" class=\"row_heading level0 row46\" >46</th>\n",
       "      <td id=\"T_326ea_row46_col0\" class=\"data row46 col0\" >Clustering Iteration</td>\n",
       "      <td id=\"T_326ea_row46_col1\" class=\"data row46 col1\" >None</td>\n",
       "    </tr>\n",
       "    <tr>\n",
       "      <th id=\"T_326ea_level0_row47\" class=\"row_heading level0 row47\" >47</th>\n",
       "      <td id=\"T_326ea_row47_col0\" class=\"data row47 col0\" >Polynomial Features</td>\n",
       "      <td id=\"T_326ea_row47_col1\" class=\"data row47 col1\" >False</td>\n",
       "    </tr>\n",
       "    <tr>\n",
       "      <th id=\"T_326ea_level0_row48\" class=\"row_heading level0 row48\" >48</th>\n",
       "      <td id=\"T_326ea_row48_col0\" class=\"data row48 col0\" >Polynomial Degree</td>\n",
       "      <td id=\"T_326ea_row48_col1\" class=\"data row48 col1\" >None</td>\n",
       "    </tr>\n",
       "    <tr>\n",
       "      <th id=\"T_326ea_level0_row49\" class=\"row_heading level0 row49\" >49</th>\n",
       "      <td id=\"T_326ea_row49_col0\" class=\"data row49 col0\" >Trignometry Features</td>\n",
       "      <td id=\"T_326ea_row49_col1\" class=\"data row49 col1\" >False</td>\n",
       "    </tr>\n",
       "    <tr>\n",
       "      <th id=\"T_326ea_level0_row50\" class=\"row_heading level0 row50\" >50</th>\n",
       "      <td id=\"T_326ea_row50_col0\" class=\"data row50 col0\" >Polynomial Threshold</td>\n",
       "      <td id=\"T_326ea_row50_col1\" class=\"data row50 col1\" >None</td>\n",
       "    </tr>\n",
       "    <tr>\n",
       "      <th id=\"T_326ea_level0_row51\" class=\"row_heading level0 row51\" >51</th>\n",
       "      <td id=\"T_326ea_row51_col0\" class=\"data row51 col0\" >Group Features</td>\n",
       "      <td id=\"T_326ea_row51_col1\" class=\"data row51 col1\" >False</td>\n",
       "    </tr>\n",
       "    <tr>\n",
       "      <th id=\"T_326ea_level0_row52\" class=\"row_heading level0 row52\" >52</th>\n",
       "      <td id=\"T_326ea_row52_col0\" class=\"data row52 col0\" >Feature Selection</td>\n",
       "      <td id=\"T_326ea_row52_col1\" class=\"data row52 col1\" >False</td>\n",
       "    </tr>\n",
       "    <tr>\n",
       "      <th id=\"T_326ea_level0_row53\" class=\"row_heading level0 row53\" >53</th>\n",
       "      <td id=\"T_326ea_row53_col0\" class=\"data row53 col0\" >Feature Selection Method</td>\n",
       "      <td id=\"T_326ea_row53_col1\" class=\"data row53 col1\" >classic</td>\n",
       "    </tr>\n",
       "    <tr>\n",
       "      <th id=\"T_326ea_level0_row54\" class=\"row_heading level0 row54\" >54</th>\n",
       "      <td id=\"T_326ea_row54_col0\" class=\"data row54 col0\" >Features Selection Threshold</td>\n",
       "      <td id=\"T_326ea_row54_col1\" class=\"data row54 col1\" >None</td>\n",
       "    </tr>\n",
       "    <tr>\n",
       "      <th id=\"T_326ea_level0_row55\" class=\"row_heading level0 row55\" >55</th>\n",
       "      <td id=\"T_326ea_row55_col0\" class=\"data row55 col0\" >Feature Interaction</td>\n",
       "      <td id=\"T_326ea_row55_col1\" class=\"data row55 col1\" >False</td>\n",
       "    </tr>\n",
       "    <tr>\n",
       "      <th id=\"T_326ea_level0_row56\" class=\"row_heading level0 row56\" >56</th>\n",
       "      <td id=\"T_326ea_row56_col0\" class=\"data row56 col0\" >Feature Ratio</td>\n",
       "      <td id=\"T_326ea_row56_col1\" class=\"data row56 col1\" >False</td>\n",
       "    </tr>\n",
       "    <tr>\n",
       "      <th id=\"T_326ea_level0_row57\" class=\"row_heading level0 row57\" >57</th>\n",
       "      <td id=\"T_326ea_row57_col0\" class=\"data row57 col0\" >Interaction Threshold</td>\n",
       "      <td id=\"T_326ea_row57_col1\" class=\"data row57 col1\" >None</td>\n",
       "    </tr>\n",
       "    <tr>\n",
       "      <th id=\"T_326ea_level0_row58\" class=\"row_heading level0 row58\" >58</th>\n",
       "      <td id=\"T_326ea_row58_col0\" class=\"data row58 col0\" >Fix Imbalance</td>\n",
       "      <td id=\"T_326ea_row58_col1\" class=\"data row58 col1\" >True</td>\n",
       "    </tr>\n",
       "    <tr>\n",
       "      <th id=\"T_326ea_level0_row59\" class=\"row_heading level0 row59\" >59</th>\n",
       "      <td id=\"T_326ea_row59_col0\" class=\"data row59 col0\" >Fix Imbalance Method</td>\n",
       "      <td id=\"T_326ea_row59_col1\" class=\"data row59 col1\" >NearMiss</td>\n",
       "    </tr>\n",
       "  </tbody>\n",
       "</table>\n"
      ],
      "text/plain": [
       "<pandas.io.formats.style.Styler at 0x15b3c4c5250>"
      ]
     },
     "metadata": {},
     "output_type": "display_data"
    }
   ],
   "source": [
    "x_smote['diabetes']=y_smote\n",
    "defined_setup = setup(x_smote\n",
    "          ,target = \"diabetes\"\n",
    "          ,normalize = False\n",
    "          ,normalize_method = \"minmax\"\n",
    "          ,data_split_stratify = True\n",
    "          ,fix_imbalance = True,\n",
    "         )\n"
   ]
  },
  {
   "cell_type": "markdown",
   "id": "382c12e8",
   "metadata": {},
   "source": [
    "#### Comparando diferentes modelos."
   ]
  },
  {
   "cell_type": "code",
   "execution_count": 31,
   "id": "8fb872d6",
   "metadata": {},
   "outputs": [
    {
     "data": {
      "text/html": [
       "<style type=\"text/css\">\n",
       "#T_b729a_ th {\n",
       "  text-align: left;\n",
       "}\n",
       "#T_b729a_row0_col0, #T_b729a_row0_col1, #T_b729a_row0_col3, #T_b729a_row0_col4, #T_b729a_row0_col6, #T_b729a_row1_col0, #T_b729a_row1_col2, #T_b729a_row1_col3, #T_b729a_row1_col4, #T_b729a_row1_col5, #T_b729a_row1_col7, #T_b729a_row2_col0, #T_b729a_row2_col1, #T_b729a_row2_col2, #T_b729a_row2_col3, #T_b729a_row2_col4, #T_b729a_row2_col5, #T_b729a_row2_col6, #T_b729a_row2_col7, #T_b729a_row3_col0, #T_b729a_row3_col1, #T_b729a_row3_col2, #T_b729a_row3_col3, #T_b729a_row3_col4, #T_b729a_row3_col5, #T_b729a_row3_col6, #T_b729a_row3_col7, #T_b729a_row4_col0, #T_b729a_row4_col2, #T_b729a_row4_col3, #T_b729a_row4_col4, #T_b729a_row4_col5, #T_b729a_row4_col6, #T_b729a_row4_col7, #T_b729a_row5_col0, #T_b729a_row5_col1, #T_b729a_row5_col2, #T_b729a_row5_col3, #T_b729a_row5_col4, #T_b729a_row5_col5, #T_b729a_row5_col6, #T_b729a_row5_col7, #T_b729a_row6_col0, #T_b729a_row6_col1, #T_b729a_row6_col2, #T_b729a_row6_col3, #T_b729a_row6_col4, #T_b729a_row6_col5, #T_b729a_row6_col6, #T_b729a_row6_col7, #T_b729a_row7_col0, #T_b729a_row7_col1, #T_b729a_row7_col2, #T_b729a_row7_col3, #T_b729a_row7_col4, #T_b729a_row7_col5, #T_b729a_row7_col6, #T_b729a_row7_col7, #T_b729a_row8_col0, #T_b729a_row8_col1, #T_b729a_row8_col2, #T_b729a_row8_col3, #T_b729a_row8_col4, #T_b729a_row8_col5, #T_b729a_row8_col6, #T_b729a_row8_col7, #T_b729a_row9_col0, #T_b729a_row9_col1, #T_b729a_row9_col2, #T_b729a_row9_col3, #T_b729a_row9_col5, #T_b729a_row9_col6, #T_b729a_row9_col7, #T_b729a_row10_col0, #T_b729a_row10_col1, #T_b729a_row10_col2, #T_b729a_row10_col3, #T_b729a_row10_col4, #T_b729a_row10_col5, #T_b729a_row10_col6, #T_b729a_row10_col7, #T_b729a_row11_col0, #T_b729a_row11_col1, #T_b729a_row11_col2, #T_b729a_row11_col4, #T_b729a_row11_col5, #T_b729a_row11_col6, #T_b729a_row11_col7, #T_b729a_row12_col0, #T_b729a_row12_col1, #T_b729a_row12_col2, #T_b729a_row12_col3, #T_b729a_row12_col4, #T_b729a_row12_col5, #T_b729a_row12_col6, #T_b729a_row12_col7, #T_b729a_row13_col0, #T_b729a_row13_col1, #T_b729a_row13_col2, #T_b729a_row13_col3, #T_b729a_row13_col4, #T_b729a_row13_col5, #T_b729a_row13_col6, #T_b729a_row13_col7, #T_b729a_row14_col0, #T_b729a_row14_col1, #T_b729a_row14_col2, #T_b729a_row14_col3, #T_b729a_row14_col4, #T_b729a_row14_col5, #T_b729a_row14_col6, #T_b729a_row14_col7 {\n",
       "  text-align: left;\n",
       "}\n",
       "#T_b729a_row0_col2, #T_b729a_row0_col5, #T_b729a_row0_col7, #T_b729a_row1_col1, #T_b729a_row1_col6, #T_b729a_row4_col1, #T_b729a_row9_col4, #T_b729a_row11_col3 {\n",
       "  text-align: left;\n",
       "  background-color: yellow;\n",
       "}\n",
       "#T_b729a_row0_col8, #T_b729a_row1_col8, #T_b729a_row2_col8, #T_b729a_row3_col8, #T_b729a_row4_col8, #T_b729a_row5_col8, #T_b729a_row6_col8, #T_b729a_row7_col8, #T_b729a_row8_col8, #T_b729a_row9_col8, #T_b729a_row10_col8, #T_b729a_row11_col8, #T_b729a_row12_col8, #T_b729a_row13_col8 {\n",
       "  text-align: left;\n",
       "  background-color: lightgrey;\n",
       "}\n",
       "#T_b729a_row14_col8 {\n",
       "  text-align: left;\n",
       "  background-color: yellow;\n",
       "  background-color: lightgrey;\n",
       "}\n",
       "</style>\n",
       "<table id=\"T_b729a_\">\n",
       "  <thead>\n",
       "    <tr>\n",
       "      <th class=\"blank level0\" >&nbsp;</th>\n",
       "      <th class=\"col_heading level0 col0\" >Model</th>\n",
       "      <th class=\"col_heading level0 col1\" >Accuracy</th>\n",
       "      <th class=\"col_heading level0 col2\" >AUC</th>\n",
       "      <th class=\"col_heading level0 col3\" >Recall</th>\n",
       "      <th class=\"col_heading level0 col4\" >Prec.</th>\n",
       "      <th class=\"col_heading level0 col5\" >F1</th>\n",
       "      <th class=\"col_heading level0 col6\" >Kappa</th>\n",
       "      <th class=\"col_heading level0 col7\" >MCC</th>\n",
       "      <th class=\"col_heading level0 col8\" >TT (Sec)</th>\n",
       "    </tr>\n",
       "  </thead>\n",
       "  <tbody>\n",
       "    <tr>\n",
       "      <th id=\"T_b729a_level0_row0\" class=\"row_heading level0 row0\" >lightgbm</th>\n",
       "      <td id=\"T_b729a_row0_col0\" class=\"data row0 col0\" >Light Gradient Boosting Machine</td>\n",
       "      <td id=\"T_b729a_row0_col1\" class=\"data row0 col1\" >0.7071</td>\n",
       "      <td id=\"T_b729a_row0_col2\" class=\"data row0 col2\" >0.7906</td>\n",
       "      <td id=\"T_b729a_row0_col3\" class=\"data row0 col3\" >0.7694</td>\n",
       "      <td id=\"T_b729a_row0_col4\" class=\"data row0 col4\" >0.5829</td>\n",
       "      <td id=\"T_b729a_row0_col5\" class=\"data row0 col5\" >0.6633</td>\n",
       "      <td id=\"T_b729a_row0_col6\" class=\"data row0 col6\" >0.4126</td>\n",
       "      <td id=\"T_b729a_row0_col7\" class=\"data row0 col7\" >0.4252</td>\n",
       "      <td id=\"T_b729a_row0_col8\" class=\"data row0 col8\" >4.4860</td>\n",
       "    </tr>\n",
       "    <tr>\n",
       "      <th id=\"T_b729a_level0_row1\" class=\"row_heading level0 row1\" >xgboost</th>\n",
       "      <td id=\"T_b729a_row1_col0\" class=\"data row1 col0\" >Extreme Gradient Boosting</td>\n",
       "      <td id=\"T_b729a_row1_col1\" class=\"data row1 col1\" >0.7085</td>\n",
       "      <td id=\"T_b729a_row1_col2\" class=\"data row1 col2\" >0.7897</td>\n",
       "      <td id=\"T_b729a_row1_col3\" class=\"data row1 col3\" >0.7599</td>\n",
       "      <td id=\"T_b729a_row1_col4\" class=\"data row1 col4\" >0.5858</td>\n",
       "      <td id=\"T_b729a_row1_col5\" class=\"data row1 col5\" >0.6616</td>\n",
       "      <td id=\"T_b729a_row1_col6\" class=\"data row1 col6\" >0.4130</td>\n",
       "      <td id=\"T_b729a_row1_col7\" class=\"data row1 col7\" >0.4238</td>\n",
       "      <td id=\"T_b729a_row1_col8\" class=\"data row1 col8\" >6.2820</td>\n",
       "    </tr>\n",
       "    <tr>\n",
       "      <th id=\"T_b729a_level0_row2\" class=\"row_heading level0 row2\" >gbc</th>\n",
       "      <td id=\"T_b729a_row2_col0\" class=\"data row2 col0\" >Gradient Boosting Classifier</td>\n",
       "      <td id=\"T_b729a_row2_col1\" class=\"data row2 col1\" >0.7074</td>\n",
       "      <td id=\"T_b729a_row2_col2\" class=\"data row2 col2\" >0.7882</td>\n",
       "      <td id=\"T_b729a_row2_col3\" class=\"data row2 col3\" >0.7565</td>\n",
       "      <td id=\"T_b729a_row2_col4\" class=\"data row2 col4\" >0.5851</td>\n",
       "      <td id=\"T_b729a_row2_col5\" class=\"data row2 col5\" >0.6598</td>\n",
       "      <td id=\"T_b729a_row2_col6\" class=\"data row2 col6\" >0.4105</td>\n",
       "      <td id=\"T_b729a_row2_col7\" class=\"data row2 col7\" >0.4209</td>\n",
       "      <td id=\"T_b729a_row2_col8\" class=\"data row2 col8\" >5.8920</td>\n",
       "    </tr>\n",
       "    <tr>\n",
       "      <th id=\"T_b729a_level0_row3\" class=\"row_heading level0 row3\" >rf</th>\n",
       "      <td id=\"T_b729a_row3_col0\" class=\"data row3 col0\" >Random Forest Classifier</td>\n",
       "      <td id=\"T_b729a_row3_col1\" class=\"data row3 col1\" >0.7077</td>\n",
       "      <td id=\"T_b729a_row3_col2\" class=\"data row3 col2\" >0.7861</td>\n",
       "      <td id=\"T_b729a_row3_col3\" class=\"data row3 col3\" >0.7529</td>\n",
       "      <td id=\"T_b729a_row3_col4\" class=\"data row3 col4\" >0.5859</td>\n",
       "      <td id=\"T_b729a_row3_col5\" class=\"data row3 col5\" >0.6590</td>\n",
       "      <td id=\"T_b729a_row3_col6\" class=\"data row3 col6\" >0.4102</td>\n",
       "      <td id=\"T_b729a_row3_col7\" class=\"data row3 col7\" >0.4201</td>\n",
       "      <td id=\"T_b729a_row3_col8\" class=\"data row3 col8\" >5.2100</td>\n",
       "    </tr>\n",
       "    <tr>\n",
       "      <th id=\"T_b729a_level0_row4\" class=\"row_heading level0 row4\" >et</th>\n",
       "      <td id=\"T_b729a_row4_col0\" class=\"data row4 col0\" >Extra Trees Classifier</td>\n",
       "      <td id=\"T_b729a_row4_col1\" class=\"data row4 col1\" >0.7085</td>\n",
       "      <td id=\"T_b729a_row4_col2\" class=\"data row4 col2\" >0.7861</td>\n",
       "      <td id=\"T_b729a_row4_col3\" class=\"data row4 col3\" >0.7462</td>\n",
       "      <td id=\"T_b729a_row4_col4\" class=\"data row4 col4\" >0.5877</td>\n",
       "      <td id=\"T_b729a_row4_col5\" class=\"data row4 col5\" >0.6575</td>\n",
       "      <td id=\"T_b729a_row4_col6\" class=\"data row4 col6\" >0.4099</td>\n",
       "      <td id=\"T_b729a_row4_col7\" class=\"data row4 col7\" >0.4188</td>\n",
       "      <td id=\"T_b729a_row4_col8\" class=\"data row4 col8\" >6.2320</td>\n",
       "    </tr>\n",
       "    <tr>\n",
       "      <th id=\"T_b729a_level0_row5\" class=\"row_heading level0 row5\" >dt</th>\n",
       "      <td id=\"T_b729a_row5_col0\" class=\"data row5 col0\" >Decision Tree Classifier</td>\n",
       "      <td id=\"T_b729a_row5_col1\" class=\"data row5 col1\" >0.7078</td>\n",
       "      <td id=\"T_b729a_row5_col2\" class=\"data row5 col2\" >0.7854</td>\n",
       "      <td id=\"T_b729a_row5_col3\" class=\"data row5 col3\" >0.7446</td>\n",
       "      <td id=\"T_b729a_row5_col4\" class=\"data row5 col4\" >0.5871</td>\n",
       "      <td id=\"T_b729a_row5_col5\" class=\"data row5 col5\" >0.6565</td>\n",
       "      <td id=\"T_b729a_row5_col6\" class=\"data row5 col6\" >0.4085</td>\n",
       "      <td id=\"T_b729a_row5_col7\" class=\"data row5 col7\" >0.4173</td>\n",
       "      <td id=\"T_b729a_row5_col8\" class=\"data row5 col8\" >3.4480</td>\n",
       "    </tr>\n",
       "    <tr>\n",
       "      <th id=\"T_b729a_level0_row6\" class=\"row_heading level0 row6\" >lr</th>\n",
       "      <td id=\"T_b729a_row6_col0\" class=\"data row6 col0\" >Logistic Regression</td>\n",
       "      <td id=\"T_b729a_row6_col1\" class=\"data row6 col1\" >0.7072</td>\n",
       "      <td id=\"T_b729a_row6_col2\" class=\"data row6 col2\" >0.7842</td>\n",
       "      <td id=\"T_b729a_row6_col3\" class=\"data row6 col3\" >0.7339</td>\n",
       "      <td id=\"T_b729a_row6_col4\" class=\"data row6 col4\" >0.5878</td>\n",
       "      <td id=\"T_b729a_row6_col5\" class=\"data row6 col5\" >0.6528</td>\n",
       "      <td id=\"T_b729a_row6_col6\" class=\"data row6 col6\" >0.4050</td>\n",
       "      <td id=\"T_b729a_row6_col7\" class=\"data row6 col7\" >0.4125</td>\n",
       "      <td id=\"T_b729a_row6_col8\" class=\"data row6 col8\" >4.0900</td>\n",
       "    </tr>\n",
       "    <tr>\n",
       "      <th id=\"T_b729a_level0_row7\" class=\"row_heading level0 row7\" >lda</th>\n",
       "      <td id=\"T_b729a_row7_col0\" class=\"data row7 col0\" >Linear Discriminant Analysis</td>\n",
       "      <td id=\"T_b729a_row7_col1\" class=\"data row7 col1\" >0.7066</td>\n",
       "      <td id=\"T_b729a_row7_col2\" class=\"data row7 col2\" >0.7840</td>\n",
       "      <td id=\"T_b729a_row7_col3\" class=\"data row7 col3\" >0.7417</td>\n",
       "      <td id=\"T_b729a_row7_col4\" class=\"data row7 col4\" >0.5860</td>\n",
       "      <td id=\"T_b729a_row7_col5\" class=\"data row7 col5\" >0.6547</td>\n",
       "      <td id=\"T_b729a_row7_col6\" class=\"data row7 col6\" >0.4056</td>\n",
       "      <td id=\"T_b729a_row7_col7\" class=\"data row7 col7\" >0.4142</td>\n",
       "      <td id=\"T_b729a_row7_col8\" class=\"data row7 col8\" >3.5960</td>\n",
       "    </tr>\n",
       "    <tr>\n",
       "      <th id=\"T_b729a_level0_row8\" class=\"row_heading level0 row8\" >ada</th>\n",
       "      <td id=\"T_b729a_row8_col0\" class=\"data row8 col0\" >Ada Boost Classifier</td>\n",
       "      <td id=\"T_b729a_row8_col1\" class=\"data row8 col1\" >0.7076</td>\n",
       "      <td id=\"T_b729a_row8_col2\" class=\"data row8 col2\" >0.7839</td>\n",
       "      <td id=\"T_b729a_row8_col3\" class=\"data row8 col3\" >0.7295</td>\n",
       "      <td id=\"T_b729a_row8_col4\" class=\"data row8 col4\" >0.5890</td>\n",
       "      <td id=\"T_b729a_row8_col5\" class=\"data row8 col5\" >0.6517</td>\n",
       "      <td id=\"T_b729a_row8_col6\" class=\"data row8 col6\" >0.4047</td>\n",
       "      <td id=\"T_b729a_row8_col7\" class=\"data row8 col7\" >0.4116</td>\n",
       "      <td id=\"T_b729a_row8_col8\" class=\"data row8 col8\" >4.1980</td>\n",
       "    </tr>\n",
       "    <tr>\n",
       "      <th id=\"T_b729a_level0_row9\" class=\"row_heading level0 row9\" >nb</th>\n",
       "      <td id=\"T_b729a_row9_col0\" class=\"data row9 col0\" >Naive Bayes</td>\n",
       "      <td id=\"T_b729a_row9_col1\" class=\"data row9 col1\" >0.7046</td>\n",
       "      <td id=\"T_b729a_row9_col2\" class=\"data row9 col2\" >0.7651</td>\n",
       "      <td id=\"T_b729a_row9_col3\" class=\"data row9 col3\" >0.5946</td>\n",
       "      <td id=\"T_b729a_row9_col4\" class=\"data row9 col4\" >0.6087</td>\n",
       "      <td id=\"T_b729a_row9_col5\" class=\"data row9 col5\" >0.6016</td>\n",
       "      <td id=\"T_b729a_row9_col6\" class=\"data row9 col6\" >0.3670</td>\n",
       "      <td id=\"T_b729a_row9_col7\" class=\"data row9 col7\" >0.3670</td>\n",
       "      <td id=\"T_b729a_row9_col8\" class=\"data row9 col8\" >3.4260</td>\n",
       "    </tr>\n",
       "    <tr>\n",
       "      <th id=\"T_b729a_level0_row10\" class=\"row_heading level0 row10\" >knn</th>\n",
       "      <td id=\"T_b729a_row10_col0\" class=\"data row10 col0\" >K Neighbors Classifier</td>\n",
       "      <td id=\"T_b729a_row10_col1\" class=\"data row10 col1\" >0.6980</td>\n",
       "      <td id=\"T_b729a_row10_col2\" class=\"data row10 col2\" >0.7317</td>\n",
       "      <td id=\"T_b729a_row10_col3\" class=\"data row10 col3\" >0.5670</td>\n",
       "      <td id=\"T_b729a_row10_col4\" class=\"data row10 col4\" >0.6040</td>\n",
       "      <td id=\"T_b729a_row10_col5\" class=\"data row10 col5\" >0.5845</td>\n",
       "      <td id=\"T_b729a_row10_col6\" class=\"data row10 col6\" >0.3478</td>\n",
       "      <td id=\"T_b729a_row10_col7\" class=\"data row10 col7\" >0.3485</td>\n",
       "      <td id=\"T_b729a_row10_col8\" class=\"data row10 col8\" >15.6160</td>\n",
       "    </tr>\n",
       "    <tr>\n",
       "      <th id=\"T_b729a_level0_row11\" class=\"row_heading level0 row11\" >qda</th>\n",
       "      <td id=\"T_b729a_row11_col0\" class=\"data row11 col0\" >Quadratic Discriminant Analysis</td>\n",
       "      <td id=\"T_b729a_row11_col1\" class=\"data row11 col1\" >0.3750</td>\n",
       "      <td id=\"T_b729a_row11_col2\" class=\"data row11 col2\" >0.5000</td>\n",
       "      <td id=\"T_b729a_row11_col3\" class=\"data row11 col3\" >1.0000</td>\n",
       "      <td id=\"T_b729a_row11_col4\" class=\"data row11 col4\" >0.3750</td>\n",
       "      <td id=\"T_b729a_row11_col5\" class=\"data row11 col5\" >0.5455</td>\n",
       "      <td id=\"T_b729a_row11_col6\" class=\"data row11 col6\" >0.0000</td>\n",
       "      <td id=\"T_b729a_row11_col7\" class=\"data row11 col7\" >0.0000</td>\n",
       "      <td id=\"T_b729a_row11_col8\" class=\"data row11 col8\" >3.5280</td>\n",
       "    </tr>\n",
       "    <tr>\n",
       "      <th id=\"T_b729a_level0_row12\" class=\"row_heading level0 row12\" >dummy</th>\n",
       "      <td id=\"T_b729a_row12_col0\" class=\"data row12 col0\" >Dummy Classifier</td>\n",
       "      <td id=\"T_b729a_row12_col1\" class=\"data row12 col1\" >0.6250</td>\n",
       "      <td id=\"T_b729a_row12_col2\" class=\"data row12 col2\" >0.5000</td>\n",
       "      <td id=\"T_b729a_row12_col3\" class=\"data row12 col3\" >0.0000</td>\n",
       "      <td id=\"T_b729a_row12_col4\" class=\"data row12 col4\" >0.0000</td>\n",
       "      <td id=\"T_b729a_row12_col5\" class=\"data row12 col5\" >0.0000</td>\n",
       "      <td id=\"T_b729a_row12_col6\" class=\"data row12 col6\" >0.0000</td>\n",
       "      <td id=\"T_b729a_row12_col7\" class=\"data row12 col7\" >0.0000</td>\n",
       "      <td id=\"T_b729a_row12_col8\" class=\"data row12 col8\" >3.5060</td>\n",
       "    </tr>\n",
       "    <tr>\n",
       "      <th id=\"T_b729a_level0_row13\" class=\"row_heading level0 row13\" >svm</th>\n",
       "      <td id=\"T_b729a_row13_col0\" class=\"data row13 col0\" >SVM - Linear Kernel</td>\n",
       "      <td id=\"T_b729a_row13_col1\" class=\"data row13 col1\" >0.7014</td>\n",
       "      <td id=\"T_b729a_row13_col2\" class=\"data row13 col2\" >0.0000</td>\n",
       "      <td id=\"T_b729a_row13_col3\" class=\"data row13 col3\" >0.7276</td>\n",
       "      <td id=\"T_b729a_row13_col4\" class=\"data row13 col4\" >0.5824</td>\n",
       "      <td id=\"T_b729a_row13_col5\" class=\"data row13 col5\" >0.6462</td>\n",
       "      <td id=\"T_b729a_row13_col6\" class=\"data row13 col6\" >0.3936</td>\n",
       "      <td id=\"T_b729a_row13_col7\" class=\"data row13 col7\" >0.4017</td>\n",
       "      <td id=\"T_b729a_row13_col8\" class=\"data row13 col8\" >3.5240</td>\n",
       "    </tr>\n",
       "    <tr>\n",
       "      <th id=\"T_b729a_level0_row14\" class=\"row_heading level0 row14\" >ridge</th>\n",
       "      <td id=\"T_b729a_row14_col0\" class=\"data row14 col0\" >Ridge Classifier</td>\n",
       "      <td id=\"T_b729a_row14_col1\" class=\"data row14 col1\" >0.7066</td>\n",
       "      <td id=\"T_b729a_row14_col2\" class=\"data row14 col2\" >0.0000</td>\n",
       "      <td id=\"T_b729a_row14_col3\" class=\"data row14 col3\" >0.7416</td>\n",
       "      <td id=\"T_b729a_row14_col4\" class=\"data row14 col4\" >0.5859</td>\n",
       "      <td id=\"T_b729a_row14_col5\" class=\"data row14 col5\" >0.6546</td>\n",
       "      <td id=\"T_b729a_row14_col6\" class=\"data row14 col6\" >0.4056</td>\n",
       "      <td id=\"T_b729a_row14_col7\" class=\"data row14 col7\" >0.4141</td>\n",
       "      <td id=\"T_b729a_row14_col8\" class=\"data row14 col8\" >3.3980</td>\n",
       "    </tr>\n",
       "  </tbody>\n",
       "</table>\n"
      ],
      "text/plain": [
       "<pandas.io.formats.style.Styler at 0x15b24197a90>"
      ]
     },
     "metadata": {},
     "output_type": "display_data"
    }
   ],
   "source": [
    "best_model = compare_models(fold = 5,sort = 'AUC')"
   ]
  },
  {
   "cell_type": "code",
   "execution_count": null,
   "id": "c0553fc3",
   "metadata": {},
   "outputs": [],
   "source": []
  }
 ],
 "metadata": {
  "kernelspec": {
   "display_name": "Python 3 (ipykernel)",
   "language": "python",
   "name": "python3"
  },
  "language_info": {
   "codemirror_mode": {
    "name": "ipython",
    "version": 3
   },
   "file_extension": ".py",
   "mimetype": "text/x-python",
   "name": "python",
   "nbconvert_exporter": "python",
   "pygments_lexer": "ipython3",
   "version": "3.8.12"
  }
 },
 "nbformat": 4,
 "nbformat_minor": 5
}
