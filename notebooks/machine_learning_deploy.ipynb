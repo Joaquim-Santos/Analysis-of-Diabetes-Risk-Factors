{
 "cells": [
  {
   "cell_type": "markdown",
   "id": "a4a4527c",
   "metadata": {},
   "source": [
    "## Projeto Analysis of Diabetes Risk Factor"
   ]
  },
  {
   "cell_type": "markdown",
   "id": "8c061a3a",
   "metadata": {},
   "source": [
    "### Machine Learning."
   ]
  },
  {
   "cell_type": "code",
   "execution_count": 1,
   "id": "497c75c3",
   "metadata": {},
   "outputs": [],
   "source": [
    "import pandas as pd\n",
    "import numpy as np\n",
    "import matplotlib.pyplot as plt\n",
    "from sklearn.preprocessing import MinMaxScaler\n",
    "from sklearn.model_selection import train_test_split"
   ]
  },
  {
   "cell_type": "markdown",
   "id": "46977a99",
   "metadata": {},
   "source": [
    "### Carregando o Dataset pré-processado"
   ]
  },
  {
   "cell_type": "code",
   "execution_count": 2,
   "id": "fa4d8dc4",
   "metadata": {},
   "outputs": [],
   "source": [
    "df_diabetes_indcators = pd.read_csv(\"..\\\\datalake\\\\processing\\\\diabetes_indcators.csv\", index_col=0)"
   ]
  },
  {
   "cell_type": "code",
   "execution_count": 3,
   "id": "638ea3fb",
   "metadata": {},
   "outputs": [
    {
     "data": {
      "text/html": [
       "<div>\n",
       "<style scoped>\n",
       "    .dataframe tbody tr th:only-of-type {\n",
       "        vertical-align: middle;\n",
       "    }\n",
       "\n",
       "    .dataframe tbody tr th {\n",
       "        vertical-align: top;\n",
       "    }\n",
       "\n",
       "    .dataframe thead th {\n",
       "        text-align: right;\n",
       "    }\n",
       "</style>\n",
       "<table border=\"1\" class=\"dataframe\">\n",
       "  <thead>\n",
       "    <tr style=\"text-align: right;\">\n",
       "      <th></th>\n",
       "      <th>high_blood_preassure</th>\n",
       "      <th>high_cholesterol</th>\n",
       "      <th>body_mass_index</th>\n",
       "      <th>age</th>\n",
       "      <th>physical_activity_in_past_30_days</th>\n",
       "      <th>physical_illness_injury_days</th>\n",
       "      <th>education</th>\n",
       "      <th>income</th>\n",
       "      <th>serious_difficulty_walking</th>\n",
       "      <th>heart_diseaseor_attack</th>\n",
       "      <th>days_of_poor_mental_health</th>\n",
       "      <th>general_health_scale</th>\n",
       "      <th>avc</th>\n",
       "      <th>cholesterol_check</th>\n",
       "      <th>smoker</th>\n",
       "      <th>at_least_one_veggies_a_day</th>\n",
       "      <th>high_consumption_of_alcohol</th>\n",
       "      <th>diabetes</th>\n",
       "    </tr>\n",
       "  </thead>\n",
       "  <tbody>\n",
       "    <tr>\n",
       "      <th>0</th>\n",
       "      <td>1</td>\n",
       "      <td>1</td>\n",
       "      <td>40.0</td>\n",
       "      <td>9</td>\n",
       "      <td>0</td>\n",
       "      <td>15</td>\n",
       "      <td>4</td>\n",
       "      <td>3</td>\n",
       "      <td>1</td>\n",
       "      <td>0</td>\n",
       "      <td>18</td>\n",
       "      <td>5</td>\n",
       "      <td>0</td>\n",
       "      <td>1</td>\n",
       "      <td>1</td>\n",
       "      <td>1</td>\n",
       "      <td>0</td>\n",
       "      <td>0</td>\n",
       "    </tr>\n",
       "    <tr>\n",
       "      <th>1</th>\n",
       "      <td>0</td>\n",
       "      <td>0</td>\n",
       "      <td>25.0</td>\n",
       "      <td>7</td>\n",
       "      <td>1</td>\n",
       "      <td>0</td>\n",
       "      <td>6</td>\n",
       "      <td>1</td>\n",
       "      <td>0</td>\n",
       "      <td>0</td>\n",
       "      <td>0</td>\n",
       "      <td>3</td>\n",
       "      <td>0</td>\n",
       "      <td>0</td>\n",
       "      <td>1</td>\n",
       "      <td>0</td>\n",
       "      <td>0</td>\n",
       "      <td>0</td>\n",
       "    </tr>\n",
       "    <tr>\n",
       "      <th>2</th>\n",
       "      <td>1</td>\n",
       "      <td>1</td>\n",
       "      <td>28.0</td>\n",
       "      <td>9</td>\n",
       "      <td>0</td>\n",
       "      <td>30</td>\n",
       "      <td>4</td>\n",
       "      <td>8</td>\n",
       "      <td>1</td>\n",
       "      <td>0</td>\n",
       "      <td>30</td>\n",
       "      <td>5</td>\n",
       "      <td>0</td>\n",
       "      <td>1</td>\n",
       "      <td>0</td>\n",
       "      <td>0</td>\n",
       "      <td>0</td>\n",
       "      <td>0</td>\n",
       "    </tr>\n",
       "    <tr>\n",
       "      <th>3</th>\n",
       "      <td>1</td>\n",
       "      <td>0</td>\n",
       "      <td>27.0</td>\n",
       "      <td>11</td>\n",
       "      <td>1</td>\n",
       "      <td>0</td>\n",
       "      <td>3</td>\n",
       "      <td>6</td>\n",
       "      <td>0</td>\n",
       "      <td>0</td>\n",
       "      <td>0</td>\n",
       "      <td>2</td>\n",
       "      <td>0</td>\n",
       "      <td>1</td>\n",
       "      <td>0</td>\n",
       "      <td>1</td>\n",
       "      <td>0</td>\n",
       "      <td>0</td>\n",
       "    </tr>\n",
       "    <tr>\n",
       "      <th>4</th>\n",
       "      <td>1</td>\n",
       "      <td>1</td>\n",
       "      <td>24.0</td>\n",
       "      <td>11</td>\n",
       "      <td>1</td>\n",
       "      <td>0</td>\n",
       "      <td>5</td>\n",
       "      <td>4</td>\n",
       "      <td>0</td>\n",
       "      <td>0</td>\n",
       "      <td>3</td>\n",
       "      <td>2</td>\n",
       "      <td>0</td>\n",
       "      <td>1</td>\n",
       "      <td>0</td>\n",
       "      <td>1</td>\n",
       "      <td>0</td>\n",
       "      <td>0</td>\n",
       "    </tr>\n",
       "  </tbody>\n",
       "</table>\n",
       "</div>"
      ],
      "text/plain": [
       "   high_blood_preassure  high_cholesterol  body_mass_index  age  \\\n",
       "0                     1                 1             40.0    9   \n",
       "1                     0                 0             25.0    7   \n",
       "2                     1                 1             28.0    9   \n",
       "3                     1                 0             27.0   11   \n",
       "4                     1                 1             24.0   11   \n",
       "\n",
       "   physical_activity_in_past_30_days  physical_illness_injury_days  education  \\\n",
       "0                                  0                            15          4   \n",
       "1                                  1                             0          6   \n",
       "2                                  0                            30          4   \n",
       "3                                  1                             0          3   \n",
       "4                                  1                             0          5   \n",
       "\n",
       "   income  serious_difficulty_walking  heart_diseaseor_attack  \\\n",
       "0       3                           1                       0   \n",
       "1       1                           0                       0   \n",
       "2       8                           1                       0   \n",
       "3       6                           0                       0   \n",
       "4       4                           0                       0   \n",
       "\n",
       "   days_of_poor_mental_health  general_health_scale  avc  cholesterol_check  \\\n",
       "0                          18                     5    0                  1   \n",
       "1                           0                     3    0                  0   \n",
       "2                          30                     5    0                  1   \n",
       "3                           0                     2    0                  1   \n",
       "4                           3                     2    0                  1   \n",
       "\n",
       "   smoker  at_least_one_veggies_a_day  high_consumption_of_alcohol  diabetes  \n",
       "0       1                           1                            0         0  \n",
       "1       1                           0                            0         0  \n",
       "2       0                           0                            0         0  \n",
       "3       0                           1                            0         0  \n",
       "4       0                           1                            0         0  "
      ]
     },
     "execution_count": 3,
     "metadata": {},
     "output_type": "execute_result"
    }
   ],
   "source": [
    "df_diabetes_indcators.head()"
   ]
  },
  {
   "cell_type": "markdown",
   "id": "b03b9906",
   "metadata": {},
   "source": [
    "### Transformação de Features"
   ]
  },
  {
   "cell_type": "code",
   "execution_count": 4,
   "id": "6c074ef6",
   "metadata": {},
   "outputs": [],
   "source": [
    "def map_imc_ranges(x):\n",
    "    if x <= 18.49:\n",
    "        return 'under_weight'\n",
    "    elif x >= 18.50 and x <=24.99:\n",
    "        return 'normal_weight'\n",
    "    elif x >= 25 and x <=29.99:\n",
    "        return 'overweight'\n",
    "    elif x >= 30 and x <=34.99:\n",
    "        return 'obesity_I'\n",
    "    elif x >= 35 and x <=39.99:\n",
    "        return 'obesity_II'\n",
    "    elif x >= 40:\n",
    "        return 'obesity_III'\n",
    "    else:\n",
    "        return 'NaN'"
   ]
  },
  {
   "cell_type": "code",
   "execution_count": 5,
   "id": "f39e2e87",
   "metadata": {},
   "outputs": [],
   "source": [
    "df_diabetes_indcators['body_mass_index'] = df_diabetes_indcators['body_mass_index'].map(lambda x:map_imc_ranges(x))"
   ]
  },
  {
   "cell_type": "code",
   "execution_count": 6,
   "id": "aa8a7e81",
   "metadata": {},
   "outputs": [],
   "source": [
    "def map_age_ranges(x):\n",
    "    switcher = {\n",
    "        1: \"below_30\",\n",
    "        2: \"below_30\",\n",
    "        3: \"30_39\",\n",
    "        4: \"30_39\",\n",
    "        5: \"40_49\",\n",
    "        6: \"40_49\",\n",
    "        7: \"50_59\",\n",
    "        8: \"50_59\",\n",
    "        9: \"60_69\",\n",
    "        10: \"60_69\",\n",
    "        11: \"above_70\",\n",
    "        12: \"above_70\",\n",
    "        13: \"above_70\"\n",
    "    }\n",
    "    return switcher.get(x, 0)"
   ]
  },
  {
   "cell_type": "code",
   "execution_count": 7,
   "id": "979a8cf4",
   "metadata": {},
   "outputs": [],
   "source": [
    "df_diabetes_indcators['age'] = df_diabetes_indcators['age'].map(lambda x:map_age_ranges(x))"
   ]
  },
  {
   "cell_type": "code",
   "execution_count": 8,
   "id": "d2d338af",
   "metadata": {},
   "outputs": [],
   "source": [
    "def map_physical_mental_health_days(x):\n",
    "    if x == 0:\n",
    "        return 'zero'\n",
    "    elif x >= 1 and x <=7:\n",
    "        return '1_7'\n",
    "    elif x >= 8 and x <=13:\n",
    "        return '8_13'\n",
    "    elif x >= 14 and x <=21:\n",
    "        return '14_21'\n",
    "    elif x >= 22 and x <=30:\n",
    "        return '22_30'\n",
    "    else:\n",
    "        return 'NaN'"
   ]
  },
  {
   "cell_type": "code",
   "execution_count": 9,
   "id": "fcdf25d1",
   "metadata": {},
   "outputs": [],
   "source": [
    "df_diabetes_indcators['physical_illness_injury_days'] = df_diabetes_indcators['physical_illness_injury_days']\\\n",
    "    .map(lambda x:map_physical_mental_health_days(x))"
   ]
  },
  {
   "cell_type": "code",
   "execution_count": 10,
   "id": "451fb7e5",
   "metadata": {},
   "outputs": [],
   "source": [
    "def map_income_scale(x):\n",
    "    switcher = {\n",
    "        1: '1',\n",
    "        2: '1',\n",
    "        3: '2',\n",
    "        4: '2',\n",
    "        5: '3',\n",
    "        6: '3',\n",
    "        7: '4',\n",
    "        8: '4'\n",
    "    }\n",
    "    return switcher.get(x, 0)"
   ]
  },
  {
   "cell_type": "code",
   "execution_count": 11,
   "id": "878ad332",
   "metadata": {},
   "outputs": [],
   "source": [
    "df_diabetes_indcators['income'] = df_diabetes_indcators['income'].map(lambda x:map_income_scale(x))"
   ]
  },
  {
   "cell_type": "code",
   "execution_count": 12,
   "id": "f0c86b9e",
   "metadata": {},
   "outputs": [],
   "source": [
    "def map_health_scale(x):\n",
    "    switcher = {\n",
    "        1: '1',\n",
    "        2: '1',\n",
    "        3: '2',\n",
    "        4: '3',\n",
    "        5: '3'\n",
    "    }\n",
    "    return switcher.get(x, 0)"
   ]
  },
  {
   "cell_type": "code",
   "execution_count": 13,
   "id": "f4bf4453",
   "metadata": {},
   "outputs": [],
   "source": [
    "df_diabetes_indcators['general_health_scale'] = df_diabetes_indcators['general_health_scale']\\\n",
    "    .map(lambda x:map_health_scale(x))"
   ]
  },
  {
   "cell_type": "code",
   "execution_count": 14,
   "id": "57f3f739",
   "metadata": {},
   "outputs": [
    {
     "data": {
      "text/html": [
       "<div>\n",
       "<style scoped>\n",
       "    .dataframe tbody tr th:only-of-type {\n",
       "        vertical-align: middle;\n",
       "    }\n",
       "\n",
       "    .dataframe tbody tr th {\n",
       "        vertical-align: top;\n",
       "    }\n",
       "\n",
       "    .dataframe thead th {\n",
       "        text-align: right;\n",
       "    }\n",
       "</style>\n",
       "<table border=\"1\" class=\"dataframe\">\n",
       "  <thead>\n",
       "    <tr style=\"text-align: right;\">\n",
       "      <th></th>\n",
       "      <th>high_blood_preassure</th>\n",
       "      <th>high_cholesterol</th>\n",
       "      <th>body_mass_index</th>\n",
       "      <th>age</th>\n",
       "      <th>physical_activity_in_past_30_days</th>\n",
       "      <th>physical_illness_injury_days</th>\n",
       "      <th>education</th>\n",
       "      <th>income</th>\n",
       "      <th>serious_difficulty_walking</th>\n",
       "      <th>heart_diseaseor_attack</th>\n",
       "      <th>days_of_poor_mental_health</th>\n",
       "      <th>general_health_scale</th>\n",
       "      <th>avc</th>\n",
       "      <th>cholesterol_check</th>\n",
       "      <th>smoker</th>\n",
       "      <th>at_least_one_veggies_a_day</th>\n",
       "      <th>high_consumption_of_alcohol</th>\n",
       "      <th>diabetes</th>\n",
       "    </tr>\n",
       "  </thead>\n",
       "  <tbody>\n",
       "    <tr>\n",
       "      <th>0</th>\n",
       "      <td>1</td>\n",
       "      <td>1</td>\n",
       "      <td>obesity_III</td>\n",
       "      <td>60_69</td>\n",
       "      <td>0</td>\n",
       "      <td>14_21</td>\n",
       "      <td>4</td>\n",
       "      <td>2</td>\n",
       "      <td>1</td>\n",
       "      <td>0</td>\n",
       "      <td>18</td>\n",
       "      <td>3</td>\n",
       "      <td>0</td>\n",
       "      <td>1</td>\n",
       "      <td>1</td>\n",
       "      <td>1</td>\n",
       "      <td>0</td>\n",
       "      <td>0</td>\n",
       "    </tr>\n",
       "    <tr>\n",
       "      <th>1</th>\n",
       "      <td>0</td>\n",
       "      <td>0</td>\n",
       "      <td>overweight</td>\n",
       "      <td>50_59</td>\n",
       "      <td>1</td>\n",
       "      <td>zero</td>\n",
       "      <td>6</td>\n",
       "      <td>1</td>\n",
       "      <td>0</td>\n",
       "      <td>0</td>\n",
       "      <td>0</td>\n",
       "      <td>2</td>\n",
       "      <td>0</td>\n",
       "      <td>0</td>\n",
       "      <td>1</td>\n",
       "      <td>0</td>\n",
       "      <td>0</td>\n",
       "      <td>0</td>\n",
       "    </tr>\n",
       "    <tr>\n",
       "      <th>2</th>\n",
       "      <td>1</td>\n",
       "      <td>1</td>\n",
       "      <td>overweight</td>\n",
       "      <td>60_69</td>\n",
       "      <td>0</td>\n",
       "      <td>22_30</td>\n",
       "      <td>4</td>\n",
       "      <td>4</td>\n",
       "      <td>1</td>\n",
       "      <td>0</td>\n",
       "      <td>30</td>\n",
       "      <td>3</td>\n",
       "      <td>0</td>\n",
       "      <td>1</td>\n",
       "      <td>0</td>\n",
       "      <td>0</td>\n",
       "      <td>0</td>\n",
       "      <td>0</td>\n",
       "    </tr>\n",
       "    <tr>\n",
       "      <th>3</th>\n",
       "      <td>1</td>\n",
       "      <td>0</td>\n",
       "      <td>overweight</td>\n",
       "      <td>above_70</td>\n",
       "      <td>1</td>\n",
       "      <td>zero</td>\n",
       "      <td>3</td>\n",
       "      <td>3</td>\n",
       "      <td>0</td>\n",
       "      <td>0</td>\n",
       "      <td>0</td>\n",
       "      <td>1</td>\n",
       "      <td>0</td>\n",
       "      <td>1</td>\n",
       "      <td>0</td>\n",
       "      <td>1</td>\n",
       "      <td>0</td>\n",
       "      <td>0</td>\n",
       "    </tr>\n",
       "    <tr>\n",
       "      <th>4</th>\n",
       "      <td>1</td>\n",
       "      <td>1</td>\n",
       "      <td>normal_weight</td>\n",
       "      <td>above_70</td>\n",
       "      <td>1</td>\n",
       "      <td>zero</td>\n",
       "      <td>5</td>\n",
       "      <td>2</td>\n",
       "      <td>0</td>\n",
       "      <td>0</td>\n",
       "      <td>3</td>\n",
       "      <td>1</td>\n",
       "      <td>0</td>\n",
       "      <td>1</td>\n",
       "      <td>0</td>\n",
       "      <td>1</td>\n",
       "      <td>0</td>\n",
       "      <td>0</td>\n",
       "    </tr>\n",
       "  </tbody>\n",
       "</table>\n",
       "</div>"
      ],
      "text/plain": [
       "   high_blood_preassure  high_cholesterol body_mass_index       age  \\\n",
       "0                     1                 1     obesity_III     60_69   \n",
       "1                     0                 0      overweight     50_59   \n",
       "2                     1                 1      overweight     60_69   \n",
       "3                     1                 0      overweight  above_70   \n",
       "4                     1                 1   normal_weight  above_70   \n",
       "\n",
       "   physical_activity_in_past_30_days physical_illness_injury_days  education  \\\n",
       "0                                  0                        14_21          4   \n",
       "1                                  1                         zero          6   \n",
       "2                                  0                        22_30          4   \n",
       "3                                  1                         zero          3   \n",
       "4                                  1                         zero          5   \n",
       "\n",
       "  income  serious_difficulty_walking  heart_diseaseor_attack  \\\n",
       "0      2                           1                       0   \n",
       "1      1                           0                       0   \n",
       "2      4                           1                       0   \n",
       "3      3                           0                       0   \n",
       "4      2                           0                       0   \n",
       "\n",
       "   days_of_poor_mental_health general_health_scale  avc  cholesterol_check  \\\n",
       "0                          18                    3    0                  1   \n",
       "1                           0                    2    0                  0   \n",
       "2                          30                    3    0                  1   \n",
       "3                           0                    1    0                  1   \n",
       "4                           3                    1    0                  1   \n",
       "\n",
       "   smoker  at_least_one_veggies_a_day  high_consumption_of_alcohol  diabetes  \n",
       "0       1                           1                            0         0  \n",
       "1       1                           0                            0         0  \n",
       "2       0                           0                            0         0  \n",
       "3       0                           1                            0         0  \n",
       "4       0                           1                            0         0  "
      ]
     },
     "execution_count": 14,
     "metadata": {},
     "output_type": "execute_result"
    }
   ],
   "source": [
    "df_diabetes_indcators.head()"
   ]
  },
  {
   "cell_type": "markdown",
   "id": "a1ac6db7",
   "metadata": {},
   "source": [
    "### Dummy das variáveis categóricas"
   ]
  },
  {
   "cell_type": "code",
   "execution_count": 15,
   "id": "952b4a59",
   "metadata": {},
   "outputs": [],
   "source": [
    "df_diabetes_indcators = df_diabetes_indcators.drop(['education', 'days_of_poor_mental_health', 'cholesterol_check',\n",
    "                                                    'at_least_one_veggies_a_day'], axis = 1)"
   ]
  },
  {
   "cell_type": "code",
   "execution_count": 16,
   "id": "06844a8d",
   "metadata": {},
   "outputs": [],
   "source": [
    "variables_cat = ['income', 'age', 'general_health_scale',\n",
    "                 'physical_illness_injury_days','body_mass_index']\n",
    "df_diabetes_dummy = pd.get_dummies(df_diabetes_indcators, columns = variables_cat)"
   ]
  },
  {
   "cell_type": "code",
   "execution_count": 17,
   "id": "44e446b2",
   "metadata": {},
   "outputs": [
    {
     "data": {
      "text/html": [
       "<div>\n",
       "<style scoped>\n",
       "    .dataframe tbody tr th:only-of-type {\n",
       "        vertical-align: middle;\n",
       "    }\n",
       "\n",
       "    .dataframe tbody tr th {\n",
       "        vertical-align: top;\n",
       "    }\n",
       "\n",
       "    .dataframe thead th {\n",
       "        text-align: right;\n",
       "    }\n",
       "</style>\n",
       "<table border=\"1\" class=\"dataframe\">\n",
       "  <thead>\n",
       "    <tr style=\"text-align: right;\">\n",
       "      <th></th>\n",
       "      <th>high_blood_preassure</th>\n",
       "      <th>high_cholesterol</th>\n",
       "      <th>physical_activity_in_past_30_days</th>\n",
       "      <th>serious_difficulty_walking</th>\n",
       "      <th>heart_diseaseor_attack</th>\n",
       "      <th>avc</th>\n",
       "      <th>smoker</th>\n",
       "      <th>high_consumption_of_alcohol</th>\n",
       "      <th>diabetes</th>\n",
       "      <th>income_1</th>\n",
       "      <th>...</th>\n",
       "      <th>physical_illness_injury_days_1_7</th>\n",
       "      <th>physical_illness_injury_days_22_30</th>\n",
       "      <th>physical_illness_injury_days_8_13</th>\n",
       "      <th>physical_illness_injury_days_zero</th>\n",
       "      <th>body_mass_index_normal_weight</th>\n",
       "      <th>body_mass_index_obesity_I</th>\n",
       "      <th>body_mass_index_obesity_II</th>\n",
       "      <th>body_mass_index_obesity_III</th>\n",
       "      <th>body_mass_index_overweight</th>\n",
       "      <th>body_mass_index_under_weight</th>\n",
       "    </tr>\n",
       "  </thead>\n",
       "  <tbody>\n",
       "    <tr>\n",
       "      <th>0</th>\n",
       "      <td>1</td>\n",
       "      <td>1</td>\n",
       "      <td>0</td>\n",
       "      <td>1</td>\n",
       "      <td>0</td>\n",
       "      <td>0</td>\n",
       "      <td>1</td>\n",
       "      <td>0</td>\n",
       "      <td>0</td>\n",
       "      <td>0</td>\n",
       "      <td>...</td>\n",
       "      <td>0</td>\n",
       "      <td>0</td>\n",
       "      <td>0</td>\n",
       "      <td>0</td>\n",
       "      <td>0</td>\n",
       "      <td>0</td>\n",
       "      <td>0</td>\n",
       "      <td>1</td>\n",
       "      <td>0</td>\n",
       "      <td>0</td>\n",
       "    </tr>\n",
       "    <tr>\n",
       "      <th>1</th>\n",
       "      <td>0</td>\n",
       "      <td>0</td>\n",
       "      <td>1</td>\n",
       "      <td>0</td>\n",
       "      <td>0</td>\n",
       "      <td>0</td>\n",
       "      <td>1</td>\n",
       "      <td>0</td>\n",
       "      <td>0</td>\n",
       "      <td>1</td>\n",
       "      <td>...</td>\n",
       "      <td>0</td>\n",
       "      <td>0</td>\n",
       "      <td>0</td>\n",
       "      <td>1</td>\n",
       "      <td>0</td>\n",
       "      <td>0</td>\n",
       "      <td>0</td>\n",
       "      <td>0</td>\n",
       "      <td>1</td>\n",
       "      <td>0</td>\n",
       "    </tr>\n",
       "    <tr>\n",
       "      <th>2</th>\n",
       "      <td>1</td>\n",
       "      <td>1</td>\n",
       "      <td>0</td>\n",
       "      <td>1</td>\n",
       "      <td>0</td>\n",
       "      <td>0</td>\n",
       "      <td>0</td>\n",
       "      <td>0</td>\n",
       "      <td>0</td>\n",
       "      <td>0</td>\n",
       "      <td>...</td>\n",
       "      <td>0</td>\n",
       "      <td>1</td>\n",
       "      <td>0</td>\n",
       "      <td>0</td>\n",
       "      <td>0</td>\n",
       "      <td>0</td>\n",
       "      <td>0</td>\n",
       "      <td>0</td>\n",
       "      <td>1</td>\n",
       "      <td>0</td>\n",
       "    </tr>\n",
       "    <tr>\n",
       "      <th>3</th>\n",
       "      <td>1</td>\n",
       "      <td>0</td>\n",
       "      <td>1</td>\n",
       "      <td>0</td>\n",
       "      <td>0</td>\n",
       "      <td>0</td>\n",
       "      <td>0</td>\n",
       "      <td>0</td>\n",
       "      <td>0</td>\n",
       "      <td>0</td>\n",
       "      <td>...</td>\n",
       "      <td>0</td>\n",
       "      <td>0</td>\n",
       "      <td>0</td>\n",
       "      <td>1</td>\n",
       "      <td>0</td>\n",
       "      <td>0</td>\n",
       "      <td>0</td>\n",
       "      <td>0</td>\n",
       "      <td>1</td>\n",
       "      <td>0</td>\n",
       "    </tr>\n",
       "    <tr>\n",
       "      <th>4</th>\n",
       "      <td>1</td>\n",
       "      <td>1</td>\n",
       "      <td>1</td>\n",
       "      <td>0</td>\n",
       "      <td>0</td>\n",
       "      <td>0</td>\n",
       "      <td>0</td>\n",
       "      <td>0</td>\n",
       "      <td>0</td>\n",
       "      <td>0</td>\n",
       "      <td>...</td>\n",
       "      <td>0</td>\n",
       "      <td>0</td>\n",
       "      <td>0</td>\n",
       "      <td>1</td>\n",
       "      <td>1</td>\n",
       "      <td>0</td>\n",
       "      <td>0</td>\n",
       "      <td>0</td>\n",
       "      <td>0</td>\n",
       "      <td>0</td>\n",
       "    </tr>\n",
       "  </tbody>\n",
       "</table>\n",
       "<p>5 rows × 33 columns</p>\n",
       "</div>"
      ],
      "text/plain": [
       "   high_blood_preassure  high_cholesterol  physical_activity_in_past_30_days  \\\n",
       "0                     1                 1                                  0   \n",
       "1                     0                 0                                  1   \n",
       "2                     1                 1                                  0   \n",
       "3                     1                 0                                  1   \n",
       "4                     1                 1                                  1   \n",
       "\n",
       "   serious_difficulty_walking  heart_diseaseor_attack  avc  smoker  \\\n",
       "0                           1                       0    0       1   \n",
       "1                           0                       0    0       1   \n",
       "2                           1                       0    0       0   \n",
       "3                           0                       0    0       0   \n",
       "4                           0                       0    0       0   \n",
       "\n",
       "   high_consumption_of_alcohol  diabetes  income_1  ...  \\\n",
       "0                            0         0         0  ...   \n",
       "1                            0         0         1  ...   \n",
       "2                            0         0         0  ...   \n",
       "3                            0         0         0  ...   \n",
       "4                            0         0         0  ...   \n",
       "\n",
       "   physical_illness_injury_days_1_7  physical_illness_injury_days_22_30  \\\n",
       "0                                 0                                   0   \n",
       "1                                 0                                   0   \n",
       "2                                 0                                   1   \n",
       "3                                 0                                   0   \n",
       "4                                 0                                   0   \n",
       "\n",
       "   physical_illness_injury_days_8_13  physical_illness_injury_days_zero  \\\n",
       "0                                  0                                  0   \n",
       "1                                  0                                  1   \n",
       "2                                  0                                  0   \n",
       "3                                  0                                  1   \n",
       "4                                  0                                  1   \n",
       "\n",
       "   body_mass_index_normal_weight  body_mass_index_obesity_I  \\\n",
       "0                              0                          0   \n",
       "1                              0                          0   \n",
       "2                              0                          0   \n",
       "3                              0                          0   \n",
       "4                              1                          0   \n",
       "\n",
       "   body_mass_index_obesity_II  body_mass_index_obesity_III  \\\n",
       "0                           0                            1   \n",
       "1                           0                            0   \n",
       "2                           0                            0   \n",
       "3                           0                            0   \n",
       "4                           0                            0   \n",
       "\n",
       "   body_mass_index_overweight  body_mass_index_under_weight  \n",
       "0                           0                             0  \n",
       "1                           1                             0  \n",
       "2                           1                             0  \n",
       "3                           1                             0  \n",
       "4                           0                             0  \n",
       "\n",
       "[5 rows x 33 columns]"
      ]
     },
     "execution_count": 17,
     "metadata": {},
     "output_type": "execute_result"
    }
   ],
   "source": [
    "df_diabetes_dummy.head()"
   ]
  },
  {
   "cell_type": "code",
   "execution_count": 18,
   "id": "e2e400c8",
   "metadata": {},
   "outputs": [],
   "source": [
    "from sklearn.ensemble import RandomForestClassifier "
   ]
  },
  {
   "cell_type": "code",
   "execution_count": 19,
   "id": "5eebc7e2",
   "metadata": {},
   "outputs": [
    {
     "data": {
      "text/plain": [
       "RandomForestClassifier(max_depth=9)"
      ]
     },
     "execution_count": 19,
     "metadata": {},
     "output_type": "execute_result"
    }
   ],
   "source": [
    "X = df_diabetes_dummy.drop(['diabetes'], axis = 1)\n",
    "y = df_diabetes_dummy['diabetes']\n",
    "\n",
    "base_model = RandomForestClassifier(max_depth = 9) \n",
    "base_model.fit(X, y) "
   ]
  },
  {
   "cell_type": "code",
   "execution_count": 20,
   "id": "07e63e1a",
   "metadata": {},
   "outputs": [],
   "source": [
    "variables = pd.DataFrame()\n",
    "variables['variable'] = X.columns\n",
    "variables['importance'] = base_model.feature_importances_"
   ]
  },
  {
   "cell_type": "code",
   "execution_count": 21,
   "id": "07e553f7",
   "metadata": {},
   "outputs": [
    {
     "data": {
      "text/html": [
       "<div>\n",
       "<style scoped>\n",
       "    .dataframe tbody tr th:only-of-type {\n",
       "        vertical-align: middle;\n",
       "    }\n",
       "\n",
       "    .dataframe tbody tr th {\n",
       "        vertical-align: top;\n",
       "    }\n",
       "\n",
       "    .dataframe thead th {\n",
       "        text-align: right;\n",
       "    }\n",
       "</style>\n",
       "<table border=\"1\" class=\"dataframe\">\n",
       "  <thead>\n",
       "    <tr style=\"text-align: right;\">\n",
       "      <th></th>\n",
       "      <th>variable</th>\n",
       "      <th>importance</th>\n",
       "    </tr>\n",
       "  </thead>\n",
       "  <tbody>\n",
       "    <tr>\n",
       "      <th>0</th>\n",
       "      <td>high_blood_preassure</td>\n",
       "      <td>0.203978</td>\n",
       "    </tr>\n",
       "    <tr>\n",
       "      <th>18</th>\n",
       "      <td>general_health_scale_1</td>\n",
       "      <td>0.144837</td>\n",
       "    </tr>\n",
       "    <tr>\n",
       "      <th>20</th>\n",
       "      <td>general_health_scale_3</td>\n",
       "      <td>0.112046</td>\n",
       "    </tr>\n",
       "    <tr>\n",
       "      <th>1</th>\n",
       "      <td>high_cholesterol</td>\n",
       "      <td>0.107754</td>\n",
       "    </tr>\n",
       "    <tr>\n",
       "      <th>3</th>\n",
       "      <td>serious_difficulty_walking</td>\n",
       "      <td>0.083709</td>\n",
       "    </tr>\n",
       "    <tr>\n",
       "      <th>26</th>\n",
       "      <td>body_mass_index_normal_weight</td>\n",
       "      <td>0.054704</td>\n",
       "    </tr>\n",
       "    <tr>\n",
       "      <th>4</th>\n",
       "      <td>heart_diseaseor_attack</td>\n",
       "      <td>0.048489</td>\n",
       "    </tr>\n",
       "    <tr>\n",
       "      <th>29</th>\n",
       "      <td>body_mass_index_obesity_III</td>\n",
       "      <td>0.037179</td>\n",
       "    </tr>\n",
       "    <tr>\n",
       "      <th>19</th>\n",
       "      <td>general_health_scale_2</td>\n",
       "      <td>0.029355</td>\n",
       "    </tr>\n",
       "    <tr>\n",
       "      <th>28</th>\n",
       "      <td>body_mass_index_obesity_II</td>\n",
       "      <td>0.021001</td>\n",
       "    </tr>\n",
       "    <tr>\n",
       "      <th>12</th>\n",
       "      <td>age_30_39</td>\n",
       "      <td>0.016082</td>\n",
       "    </tr>\n",
       "    <tr>\n",
       "      <th>16</th>\n",
       "      <td>age_above_70</td>\n",
       "      <td>0.015705</td>\n",
       "    </tr>\n",
       "    <tr>\n",
       "      <th>15</th>\n",
       "      <td>age_60_69</td>\n",
       "      <td>0.014882</td>\n",
       "    </tr>\n",
       "    <tr>\n",
       "      <th>30</th>\n",
       "      <td>body_mass_index_overweight</td>\n",
       "      <td>0.014147</td>\n",
       "    </tr>\n",
       "    <tr>\n",
       "      <th>11</th>\n",
       "      <td>income_4</td>\n",
       "      <td>0.013220</td>\n",
       "    </tr>\n",
       "    <tr>\n",
       "      <th>23</th>\n",
       "      <td>physical_illness_injury_days_22_30</td>\n",
       "      <td>0.010961</td>\n",
       "    </tr>\n",
       "    <tr>\n",
       "      <th>27</th>\n",
       "      <td>body_mass_index_obesity_I</td>\n",
       "      <td>0.009494</td>\n",
       "    </tr>\n",
       "    <tr>\n",
       "      <th>7</th>\n",
       "      <td>high_consumption_of_alcohol</td>\n",
       "      <td>0.008862</td>\n",
       "    </tr>\n",
       "    <tr>\n",
       "      <th>25</th>\n",
       "      <td>physical_illness_injury_days_zero</td>\n",
       "      <td>0.007858</td>\n",
       "    </tr>\n",
       "    <tr>\n",
       "      <th>17</th>\n",
       "      <td>age_below_30</td>\n",
       "      <td>0.007659</td>\n",
       "    </tr>\n",
       "    <tr>\n",
       "      <th>5</th>\n",
       "      <td>avc</td>\n",
       "      <td>0.006033</td>\n",
       "    </tr>\n",
       "    <tr>\n",
       "      <th>13</th>\n",
       "      <td>age_40_49</td>\n",
       "      <td>0.005686</td>\n",
       "    </tr>\n",
       "    <tr>\n",
       "      <th>2</th>\n",
       "      <td>physical_activity_in_past_30_days</td>\n",
       "      <td>0.005045</td>\n",
       "    </tr>\n",
       "    <tr>\n",
       "      <th>8</th>\n",
       "      <td>income_1</td>\n",
       "      <td>0.004034</td>\n",
       "    </tr>\n",
       "    <tr>\n",
       "      <th>6</th>\n",
       "      <td>smoker</td>\n",
       "      <td>0.002713</td>\n",
       "    </tr>\n",
       "    <tr>\n",
       "      <th>31</th>\n",
       "      <td>body_mass_index_under_weight</td>\n",
       "      <td>0.002564</td>\n",
       "    </tr>\n",
       "    <tr>\n",
       "      <th>14</th>\n",
       "      <td>age_50_59</td>\n",
       "      <td>0.002438</td>\n",
       "    </tr>\n",
       "    <tr>\n",
       "      <th>9</th>\n",
       "      <td>income_2</td>\n",
       "      <td>0.002380</td>\n",
       "    </tr>\n",
       "    <tr>\n",
       "      <th>22</th>\n",
       "      <td>physical_illness_injury_days_1_7</td>\n",
       "      <td>0.002015</td>\n",
       "    </tr>\n",
       "    <tr>\n",
       "      <th>21</th>\n",
       "      <td>physical_illness_injury_days_14_21</td>\n",
       "      <td>0.001989</td>\n",
       "    </tr>\n",
       "    <tr>\n",
       "      <th>10</th>\n",
       "      <td>income_3</td>\n",
       "      <td>0.001668</td>\n",
       "    </tr>\n",
       "    <tr>\n",
       "      <th>24</th>\n",
       "      <td>physical_illness_injury_days_8_13</td>\n",
       "      <td>0.001512</td>\n",
       "    </tr>\n",
       "  </tbody>\n",
       "</table>\n",
       "</div>"
      ],
      "text/plain": [
       "                              variable  importance\n",
       "0                 high_blood_preassure    0.203978\n",
       "18              general_health_scale_1    0.144837\n",
       "20              general_health_scale_3    0.112046\n",
       "1                     high_cholesterol    0.107754\n",
       "3           serious_difficulty_walking    0.083709\n",
       "26       body_mass_index_normal_weight    0.054704\n",
       "4               heart_diseaseor_attack    0.048489\n",
       "29         body_mass_index_obesity_III    0.037179\n",
       "19              general_health_scale_2    0.029355\n",
       "28          body_mass_index_obesity_II    0.021001\n",
       "12                           age_30_39    0.016082\n",
       "16                        age_above_70    0.015705\n",
       "15                           age_60_69    0.014882\n",
       "30          body_mass_index_overweight    0.014147\n",
       "11                            income_4    0.013220\n",
       "23  physical_illness_injury_days_22_30    0.010961\n",
       "27           body_mass_index_obesity_I    0.009494\n",
       "7          high_consumption_of_alcohol    0.008862\n",
       "25   physical_illness_injury_days_zero    0.007858\n",
       "17                        age_below_30    0.007659\n",
       "5                                  avc    0.006033\n",
       "13                           age_40_49    0.005686\n",
       "2    physical_activity_in_past_30_days    0.005045\n",
       "8                             income_1    0.004034\n",
       "6                               smoker    0.002713\n",
       "31        body_mass_index_under_weight    0.002564\n",
       "14                           age_50_59    0.002438\n",
       "9                             income_2    0.002380\n",
       "22    physical_illness_injury_days_1_7    0.002015\n",
       "21  physical_illness_injury_days_14_21    0.001989\n",
       "10                            income_3    0.001668\n",
       "24   physical_illness_injury_days_8_13    0.001512"
      ]
     },
     "execution_count": 21,
     "metadata": {},
     "output_type": "execute_result"
    }
   ],
   "source": [
    "variables.sort_values(by = 'importance', ascending = False)"
   ]
  },
  {
   "cell_type": "code",
   "execution_count": 22,
   "id": "38cab910",
   "metadata": {},
   "outputs": [
    {
     "data": {
      "text/plain": [
       "<AxesSubplot:ylabel='variable'>"
      ]
     },
     "execution_count": 22,
     "metadata": {},
     "output_type": "execute_result"
    },
    {
     "data": {
      "image/png": "[encoded data removed]",
      "text/plain": [
       "<Figure size 1440x720 with 1 Axes>"
      ]
     },
     "metadata": {
      "needs_background": "light"
     },
     "output_type": "display_data"
    }
   ],
   "source": [
    "variables.sort_values(by = 'importance', ascending = True, inplace = True)\n",
    "variables.set_index('variable', inplace = True)\n",
    "variables.plot(kind='barh', figsize=(20, 10))"
   ]
  },
  {
   "cell_type": "markdown",
   "id": "88c354b7",
   "metadata": {},
   "source": [
    "#### Filtrando apenas os atributos relevantes."
   ]
  },
  {
   "cell_type": "code",
   "execution_count": 23,
   "id": "8e3c9bee",
   "metadata": {},
   "outputs": [],
   "source": [
    "X = df_diabetes_dummy.drop([\"diabetes\"], axis=1)\n",
    "y = df_diabetes_dummy['diabetes']"
   ]
  },
  {
   "cell_type": "markdown",
   "id": "001cc120",
   "metadata": {},
   "source": [
    "#### Realizando balanceamento de classes."
   ]
  },
  {
   "cell_type": "code",
   "execution_count": 24,
   "id": "78f57fe4",
   "metadata": {},
   "outputs": [],
   "source": [
    "from imblearn.over_sampling import SMOTE\n",
    "from imblearn.under_sampling import NearMiss"
   ]
  },
  {
   "cell_type": "code",
   "execution_count": 25,
   "id": "f09e3865",
   "metadata": {},
   "outputs": [],
   "source": [
    "nm = NearMiss(sampling_strategy=0.40)"
   ]
  },
  {
   "cell_type": "code",
   "execution_count": 26,
   "id": "b7e73450",
   "metadata": {},
   "outputs": [],
   "source": [
    "x_nm, y_nm = nm.fit_resample(X, y)"
   ]
  },
  {
   "cell_type": "code",
   "execution_count": 27,
   "id": "f033dbd5",
   "metadata": {},
   "outputs": [],
   "source": [
    "smote = SMOTE(sampling_strategy=0.60, random_state=33)"
   ]
  },
  {
   "cell_type": "code",
   "execution_count": 28,
   "id": "00046cc3",
   "metadata": {},
   "outputs": [],
   "source": [
    "x_smote, y_smote = smote.fit_resample(x_nm, y_nm)"
   ]
  },
  {
   "cell_type": "markdown",
   "id": "e90a82bd",
   "metadata": {},
   "source": [
    "#### Separando os conjuntos de dados."
   ]
  },
  {
   "cell_type": "code",
   "execution_count": 29,
   "id": "5e2c3798",
   "metadata": {},
   "outputs": [
    {
     "data": {
      "text/plain": [
       "0    87742\n",
       "1    52645\n",
       "Name: diabetes, dtype: int64"
      ]
     },
     "execution_count": 29,
     "metadata": {},
     "output_type": "execute_result"
    }
   ],
   "source": [
    "y_smote.value_counts()"
   ]
  },
  {
   "cell_type": "code",
   "execution_count": 29,
   "id": "0f0a4633",
   "metadata": {},
   "outputs": [],
   "source": [
    "scaler = MinMaxScaler()"
   ]
  },
  {
   "cell_type": "code",
   "execution_count": 125,
   "id": "87f5a5ae",
   "metadata": {},
   "outputs": [],
   "source": [
    "X = scaler.fit_transform(x_smote)"
   ]
  },
  {
   "cell_type": "code",
   "execution_count": 126,
   "id": "7bd2d627",
   "metadata": {},
   "outputs": [],
   "source": [
    "X_train, X_test, y_train, y_test = train_test_split(\n",
    "        X\n",
    "       ,y_smote\n",
    "       ,test_size = 0.2\n",
    "       ,random_state = 123\n",
    ")"
   ]
  },
  {
   "cell_type": "markdown",
   "id": "32b59df7",
   "metadata": {},
   "source": [
    "#### Função do modelo de base."
   ]
  },
  {
   "cell_type": "code",
   "execution_count": 127,
   "id": "5d0751be",
   "metadata": {},
   "outputs": [],
   "source": [
    "def base_rate_model(X) :\n",
    "    return np.zeros(X.shape[0])"
   ]
  },
  {
   "cell_type": "markdown",
   "id": "838237a9",
   "metadata": {},
   "source": [
    "#### Importando métodos de métrica de avaliação."
   ]
  },
  {
   "cell_type": "code",
   "execution_count": 128,
   "id": "8ec0735b",
   "metadata": {},
   "outputs": [],
   "source": [
    "from sklearn.metrics import roc_auc_score, accuracy_score, classification_report"
   ]
  },
  {
   "cell_type": "code",
   "execution_count": 129,
   "id": "2368c61b",
   "metadata": {},
   "outputs": [],
   "source": [
    "def roc_classification_report_results(model,y_test,y_predict):\n",
    "    roc_ = roc_auc_score(y_test, y_predict)\n",
    "    classfication_report = classification_report(y_test, y_predict)\n",
    "    \n",
    "    print (\"\\n{} AUC = {}\\n\".format(model, roc_))\n",
    "    print(classfication_report)"
   ]
  },
  {
   "cell_type": "markdown",
   "id": "5f3cd252",
   "metadata": {},
   "source": [
    "#### Análise do modelo de baseline"
   ]
  },
  {
   "cell_type": "code",
   "execution_count": 130,
   "id": "96d37873",
   "metadata": {},
   "outputs": [],
   "source": [
    "y_predict = base_rate_model(X_test)"
   ]
  },
  {
   "cell_type": "code",
   "execution_count": 131,
   "id": "166a4b80",
   "metadata": {},
   "outputs": [
    {
     "name": "stdout",
     "output_type": "stream",
     "text": [
      "\n",
      "Base Model AUC = 0.5\n",
      "\n",
      "              precision    recall  f1-score   support\n",
      "\n",
      "           0       0.62      1.00      0.77     17507\n",
      "           1       0.00      0.00      0.00     10571\n",
      "\n",
      "    accuracy                           0.62     28078\n",
      "   macro avg       0.31      0.50      0.38     28078\n",
      "weighted avg       0.39      0.62      0.48     28078\n",
      "\n"
     ]
    },
    {
     "name": "stderr",
     "output_type": "stream",
     "text": [
      "C:\\Users\\Joaquim Aniceto\\AppData\\Roaming\\Python\\Python38\\site-packages\\sklearn\\metrics\\_classification.py:1221: UndefinedMetricWarning: Precision and F-score are ill-defined and being set to 0.0 in labels with no predicted samples. Use `zero_division` parameter to control this behavior.\n",
      "  _warn_prf(average, modifier, msg_start, len(result))\n"
     ]
    }
   ],
   "source": [
    "roc_classification_report_results(\"Base Model\", y_test, y_predict)"
   ]
  },
  {
   "cell_type": "markdown",
   "id": "e433f596",
   "metadata": {},
   "source": [
    "### Modelo de Árvore de Decisão"
   ]
  },
  {
   "cell_type": "markdown",
   "id": "33524aac",
   "metadata": {},
   "source": [
    "#### Instânciando o algoritmo."
   ]
  },
  {
   "cell_type": "code",
   "execution_count": 132,
   "id": "95c50872",
   "metadata": {},
   "outputs": [],
   "source": [
    "from sklearn.tree import DecisionTreeClassifier\n",
    "decision_tree = DecisionTreeClassifier()"
   ]
  },
  {
   "cell_type": "markdown",
   "id": "3d7ad1c8",
   "metadata": {},
   "source": [
    "#### Realizando o treinamento."
   ]
  },
  {
   "cell_type": "code",
   "execution_count": 133,
   "id": "edcca31f",
   "metadata": {
    "scrolled": true
   },
   "outputs": [
    {
     "data": {
      "text/plain": [
       "DecisionTreeClassifier()"
      ]
     },
     "execution_count": 133,
     "metadata": {},
     "output_type": "execute_result"
    }
   ],
   "source": [
    "decision_tree.fit(X_train,y_train)"
   ]
  },
  {
   "cell_type": "markdown",
   "id": "d3ac4673",
   "metadata": {},
   "source": [
    "#### Calculando as predições."
   ]
  },
  {
   "cell_type": "code",
   "execution_count": 134,
   "id": "9197176d",
   "metadata": {},
   "outputs": [],
   "source": [
    "y_predict = decision_tree.predict(X_test)"
   ]
  },
  {
   "cell_type": "markdown",
   "id": "56a32296",
   "metadata": {},
   "source": [
    "#### Avaliando o resultado."
   ]
  },
  {
   "cell_type": "code",
   "execution_count": 135,
   "id": "93b86d22",
   "metadata": {},
   "outputs": [
    {
     "name": "stdout",
     "output_type": "stream",
     "text": [
      "\n",
      "Decision Tree AUC = 0.6933812498758216\n",
      "\n",
      "              precision    recall  f1-score   support\n",
      "\n",
      "           0       0.75      0.89      0.81     17507\n",
      "           1       0.73      0.50      0.59     10571\n",
      "\n",
      "    accuracy                           0.74     28078\n",
      "   macro avg       0.74      0.69      0.70     28078\n",
      "weighted avg       0.74      0.74      0.73     28078\n",
      "\n"
     ]
    }
   ],
   "source": [
    "roc_classification_report_results(\"Decision Tree\", y_test, y_predict)"
   ]
  },
  {
   "cell_type": "markdown",
   "id": "946707cf",
   "metadata": {},
   "source": [
    "### Modelo de Arvore Aleatória (Random Forest)"
   ]
  },
  {
   "cell_type": "markdown",
   "id": "73489b11",
   "metadata": {},
   "source": [
    "#### Instânciando o algoritmo."
   ]
  },
  {
   "cell_type": "code",
   "execution_count": 136,
   "id": "6dab769b",
   "metadata": {},
   "outputs": [],
   "source": [
    "from sklearn.ensemble import RandomForestClassifier"
   ]
  },
  {
   "cell_type": "code",
   "execution_count": 137,
   "id": "3e0c74f5",
   "metadata": {},
   "outputs": [],
   "source": [
    "random_forest = RandomForestClassifier()"
   ]
  },
  {
   "cell_type": "markdown",
   "id": "193d0577",
   "metadata": {},
   "source": [
    "#### Realizando o treinamento."
   ]
  },
  {
   "cell_type": "code",
   "execution_count": 138,
   "id": "8469a48a",
   "metadata": {
    "scrolled": true
   },
   "outputs": [
    {
     "data": {
      "text/plain": [
       "RandomForestClassifier()"
      ]
     },
     "execution_count": 138,
     "metadata": {},
     "output_type": "execute_result"
    }
   ],
   "source": [
    "random_forest.fit(X_train,y_train)"
   ]
  },
  {
   "cell_type": "markdown",
   "id": "3a77f475",
   "metadata": {},
   "source": [
    "#### Calculando as predições."
   ]
  },
  {
   "cell_type": "code",
   "execution_count": 139,
   "id": "58e16f6c",
   "metadata": {},
   "outputs": [],
   "source": [
    "y_predict = random_forest.predict(X_test)"
   ]
  },
  {
   "cell_type": "markdown",
   "id": "5b56117a",
   "metadata": {},
   "source": [
    "#### Avaliando o resultado."
   ]
  },
  {
   "cell_type": "code",
   "execution_count": 140,
   "id": "8853f34b",
   "metadata": {},
   "outputs": [
    {
     "name": "stdout",
     "output_type": "stream",
     "text": [
      "\n",
      "Random Forest AUC = 0.7212843419195425\n",
      "\n",
      "              precision    recall  f1-score   support\n",
      "\n",
      "           0       0.77      0.87      0.82     17507\n",
      "           1       0.72      0.57      0.64     10571\n",
      "\n",
      "    accuracy                           0.76     28078\n",
      "   macro avg       0.75      0.72      0.73     28078\n",
      "weighted avg       0.75      0.76      0.75     28078\n",
      "\n"
     ]
    }
   ],
   "source": [
    "roc_classification_report_results(\"Random Forest\", y_test, y_predict)"
   ]
  },
  {
   "cell_type": "markdown",
   "id": "6fa32588",
   "metadata": {},
   "source": [
    "### Pycaret"
   ]
  },
  {
   "cell_type": "code",
   "execution_count": null,
   "id": "04eb1242",
   "metadata": {},
   "outputs": [],
   "source": [
    "pip install pycaret"
   ]
  },
  {
   "cell_type": "markdown",
   "id": "bb6777d1",
   "metadata": {},
   "source": [
    "#### Importando os métodos."
   ]
  },
  {
   "cell_type": "code",
   "execution_count": 31,
   "id": "d44eb2b0",
   "metadata": {},
   "outputs": [],
   "source": [
    "from pycaret.classification import *"
   ]
  },
  {
   "cell_type": "markdown",
   "id": "3c8e58d1",
   "metadata": {},
   "source": [
    "#### Definindo o Setup."
   ]
  },
  {
   "cell_type": "code",
   "execution_count": 35,
   "id": "ac5ffb83",
   "metadata": {},
   "outputs": [
    {
     "data": {
      "text/html": [
       "<style type=\"text/css\">\n",
       "#T_8932b_row29_col1, #T_8932b_row44_col1, #T_8932b_row58_col1 {\n",
       "  background-color: lightgreen;\n",
       "}\n",
       "</style>\n",
       "<table id=\"T_8932b_\">\n",
       "  <thead>\n",
       "    <tr>\n",
       "      <th class=\"blank level0\" >&nbsp;</th>\n",
       "      <th class=\"col_heading level0 col0\" >Description</th>\n",
       "      <th class=\"col_heading level0 col1\" >Value</th>\n",
       "    </tr>\n",
       "  </thead>\n",
       "  <tbody>\n",
       "    <tr>\n",
       "      <th id=\"T_8932b_level0_row0\" class=\"row_heading level0 row0\" >0</th>\n",
       "      <td id=\"T_8932b_row0_col0\" class=\"data row0 col0\" >session_id</td>\n",
       "      <td id=\"T_8932b_row0_col1\" class=\"data row0 col1\" >1672</td>\n",
       "    </tr>\n",
       "    <tr>\n",
       "      <th id=\"T_8932b_level0_row1\" class=\"row_heading level0 row1\" >1</th>\n",
       "      <td id=\"T_8932b_row1_col0\" class=\"data row1 col0\" >Target</td>\n",
       "      <td id=\"T_8932b_row1_col1\" class=\"data row1 col1\" >diabetes</td>\n",
       "    </tr>\n",
       "    <tr>\n",
       "      <th id=\"T_8932b_level0_row2\" class=\"row_heading level0 row2\" >2</th>\n",
       "      <td id=\"T_8932b_row2_col0\" class=\"data row2 col0\" >Target Type</td>\n",
       "      <td id=\"T_8932b_row2_col1\" class=\"data row2 col1\" >Binary</td>\n",
       "    </tr>\n",
       "    <tr>\n",
       "      <th id=\"T_8932b_level0_row3\" class=\"row_heading level0 row3\" >3</th>\n",
       "      <td id=\"T_8932b_row3_col0\" class=\"data row3 col0\" >Label Encoded</td>\n",
       "      <td id=\"T_8932b_row3_col1\" class=\"data row3 col1\" >None</td>\n",
       "    </tr>\n",
       "    <tr>\n",
       "      <th id=\"T_8932b_level0_row4\" class=\"row_heading level0 row4\" >4</th>\n",
       "      <td id=\"T_8932b_row4_col0\" class=\"data row4 col0\" >Original Data</td>\n",
       "      <td id=\"T_8932b_row4_col1\" class=\"data row4 col1\" >(140387, 33)</td>\n",
       "    </tr>\n",
       "    <tr>\n",
       "      <th id=\"T_8932b_level0_row5\" class=\"row_heading level0 row5\" >5</th>\n",
       "      <td id=\"T_8932b_row5_col0\" class=\"data row5 col0\" >Missing Values</td>\n",
       "      <td id=\"T_8932b_row5_col1\" class=\"data row5 col1\" >False</td>\n",
       "    </tr>\n",
       "    <tr>\n",
       "      <th id=\"T_8932b_level0_row6\" class=\"row_heading level0 row6\" >6</th>\n",
       "      <td id=\"T_8932b_row6_col0\" class=\"data row6 col0\" >Numeric Features</td>\n",
       "      <td id=\"T_8932b_row6_col1\" class=\"data row6 col1\" >0</td>\n",
       "    </tr>\n",
       "    <tr>\n",
       "      <th id=\"T_8932b_level0_row7\" class=\"row_heading level0 row7\" >7</th>\n",
       "      <td id=\"T_8932b_row7_col0\" class=\"data row7 col0\" >Categorical Features</td>\n",
       "      <td id=\"T_8932b_row7_col1\" class=\"data row7 col1\" >32</td>\n",
       "    </tr>\n",
       "    <tr>\n",
       "      <th id=\"T_8932b_level0_row8\" class=\"row_heading level0 row8\" >8</th>\n",
       "      <td id=\"T_8932b_row8_col0\" class=\"data row8 col0\" >Ordinal Features</td>\n",
       "      <td id=\"T_8932b_row8_col1\" class=\"data row8 col1\" >False</td>\n",
       "    </tr>\n",
       "    <tr>\n",
       "      <th id=\"T_8932b_level0_row9\" class=\"row_heading level0 row9\" >9</th>\n",
       "      <td id=\"T_8932b_row9_col0\" class=\"data row9 col0\" >High Cardinality Features</td>\n",
       "      <td id=\"T_8932b_row9_col1\" class=\"data row9 col1\" >False</td>\n",
       "    </tr>\n",
       "    <tr>\n",
       "      <th id=\"T_8932b_level0_row10\" class=\"row_heading level0 row10\" >10</th>\n",
       "      <td id=\"T_8932b_row10_col0\" class=\"data row10 col0\" >High Cardinality Method</td>\n",
       "      <td id=\"T_8932b_row10_col1\" class=\"data row10 col1\" >None</td>\n",
       "    </tr>\n",
       "    <tr>\n",
       "      <th id=\"T_8932b_level0_row11\" class=\"row_heading level0 row11\" >11</th>\n",
       "      <td id=\"T_8932b_row11_col0\" class=\"data row11 col0\" >Transformed Train Set</td>\n",
       "      <td id=\"T_8932b_row11_col1\" class=\"data row11 col1\" >(98270, 32)</td>\n",
       "    </tr>\n",
       "    <tr>\n",
       "      <th id=\"T_8932b_level0_row12\" class=\"row_heading level0 row12\" >12</th>\n",
       "      <td id=\"T_8932b_row12_col0\" class=\"data row12 col0\" >Transformed Test Set</td>\n",
       "      <td id=\"T_8932b_row12_col1\" class=\"data row12 col1\" >(42117, 32)</td>\n",
       "    </tr>\n",
       "    <tr>\n",
       "      <th id=\"T_8932b_level0_row13\" class=\"row_heading level0 row13\" >13</th>\n",
       "      <td id=\"T_8932b_row13_col0\" class=\"data row13 col0\" >Shuffle Train-Test</td>\n",
       "      <td id=\"T_8932b_row13_col1\" class=\"data row13 col1\" >True</td>\n",
       "    </tr>\n",
       "    <tr>\n",
       "      <th id=\"T_8932b_level0_row14\" class=\"row_heading level0 row14\" >14</th>\n",
       "      <td id=\"T_8932b_row14_col0\" class=\"data row14 col0\" >Stratify Train-Test</td>\n",
       "      <td id=\"T_8932b_row14_col1\" class=\"data row14 col1\" >True</td>\n",
       "    </tr>\n",
       "    <tr>\n",
       "      <th id=\"T_8932b_level0_row15\" class=\"row_heading level0 row15\" >15</th>\n",
       "      <td id=\"T_8932b_row15_col0\" class=\"data row15 col0\" >Fold Generator</td>\n",
       "      <td id=\"T_8932b_row15_col1\" class=\"data row15 col1\" >StratifiedKFold</td>\n",
       "    </tr>\n",
       "    <tr>\n",
       "      <th id=\"T_8932b_level0_row16\" class=\"row_heading level0 row16\" >16</th>\n",
       "      <td id=\"T_8932b_row16_col0\" class=\"data row16 col0\" >Fold Number</td>\n",
       "      <td id=\"T_8932b_row16_col1\" class=\"data row16 col1\" >10</td>\n",
       "    </tr>\n",
       "    <tr>\n",
       "      <th id=\"T_8932b_level0_row17\" class=\"row_heading level0 row17\" >17</th>\n",
       "      <td id=\"T_8932b_row17_col0\" class=\"data row17 col0\" >CPU Jobs</td>\n",
       "      <td id=\"T_8932b_row17_col1\" class=\"data row17 col1\" >-1</td>\n",
       "    </tr>\n",
       "    <tr>\n",
       "      <th id=\"T_8932b_level0_row18\" class=\"row_heading level0 row18\" >18</th>\n",
       "      <td id=\"T_8932b_row18_col0\" class=\"data row18 col0\" >Use GPU</td>\n",
       "      <td id=\"T_8932b_row18_col1\" class=\"data row18 col1\" >False</td>\n",
       "    </tr>\n",
       "    <tr>\n",
       "      <th id=\"T_8932b_level0_row19\" class=\"row_heading level0 row19\" >19</th>\n",
       "      <td id=\"T_8932b_row19_col0\" class=\"data row19 col0\" >Log Experiment</td>\n",
       "      <td id=\"T_8932b_row19_col1\" class=\"data row19 col1\" >False</td>\n",
       "    </tr>\n",
       "    <tr>\n",
       "      <th id=\"T_8932b_level0_row20\" class=\"row_heading level0 row20\" >20</th>\n",
       "      <td id=\"T_8932b_row20_col0\" class=\"data row20 col0\" >Experiment Name</td>\n",
       "      <td id=\"T_8932b_row20_col1\" class=\"data row20 col1\" >clf-default-name</td>\n",
       "    </tr>\n",
       "    <tr>\n",
       "      <th id=\"T_8932b_level0_row21\" class=\"row_heading level0 row21\" >21</th>\n",
       "      <td id=\"T_8932b_row21_col0\" class=\"data row21 col0\" >USI</td>\n",
       "      <td id=\"T_8932b_row21_col1\" class=\"data row21 col1\" >79b7</td>\n",
       "    </tr>\n",
       "    <tr>\n",
       "      <th id=\"T_8932b_level0_row22\" class=\"row_heading level0 row22\" >22</th>\n",
       "      <td id=\"T_8932b_row22_col0\" class=\"data row22 col0\" >Imputation Type</td>\n",
       "      <td id=\"T_8932b_row22_col1\" class=\"data row22 col1\" >simple</td>\n",
       "    </tr>\n",
       "    <tr>\n",
       "      <th id=\"T_8932b_level0_row23\" class=\"row_heading level0 row23\" >23</th>\n",
       "      <td id=\"T_8932b_row23_col0\" class=\"data row23 col0\" >Iterative Imputation Iteration</td>\n",
       "      <td id=\"T_8932b_row23_col1\" class=\"data row23 col1\" >None</td>\n",
       "    </tr>\n",
       "    <tr>\n",
       "      <th id=\"T_8932b_level0_row24\" class=\"row_heading level0 row24\" >24</th>\n",
       "      <td id=\"T_8932b_row24_col0\" class=\"data row24 col0\" >Numeric Imputer</td>\n",
       "      <td id=\"T_8932b_row24_col1\" class=\"data row24 col1\" >mean</td>\n",
       "    </tr>\n",
       "    <tr>\n",
       "      <th id=\"T_8932b_level0_row25\" class=\"row_heading level0 row25\" >25</th>\n",
       "      <td id=\"T_8932b_row25_col0\" class=\"data row25 col0\" >Iterative Imputation Numeric Model</td>\n",
       "      <td id=\"T_8932b_row25_col1\" class=\"data row25 col1\" >None</td>\n",
       "    </tr>\n",
       "    <tr>\n",
       "      <th id=\"T_8932b_level0_row26\" class=\"row_heading level0 row26\" >26</th>\n",
       "      <td id=\"T_8932b_row26_col0\" class=\"data row26 col0\" >Categorical Imputer</td>\n",
       "      <td id=\"T_8932b_row26_col1\" class=\"data row26 col1\" >constant</td>\n",
       "    </tr>\n",
       "    <tr>\n",
       "      <th id=\"T_8932b_level0_row27\" class=\"row_heading level0 row27\" >27</th>\n",
       "      <td id=\"T_8932b_row27_col0\" class=\"data row27 col0\" >Iterative Imputation Categorical Model</td>\n",
       "      <td id=\"T_8932b_row27_col1\" class=\"data row27 col1\" >None</td>\n",
       "    </tr>\n",
       "    <tr>\n",
       "      <th id=\"T_8932b_level0_row28\" class=\"row_heading level0 row28\" >28</th>\n",
       "      <td id=\"T_8932b_row28_col0\" class=\"data row28 col0\" >Unknown Categoricals Handling</td>\n",
       "      <td id=\"T_8932b_row28_col1\" class=\"data row28 col1\" >least_frequent</td>\n",
       "    </tr>\n",
       "    <tr>\n",
       "      <th id=\"T_8932b_level0_row29\" class=\"row_heading level0 row29\" >29</th>\n",
       "      <td id=\"T_8932b_row29_col0\" class=\"data row29 col0\" >Normalize</td>\n",
       "      <td id=\"T_8932b_row29_col1\" class=\"data row29 col1\" >True</td>\n",
       "    </tr>\n",
       "    <tr>\n",
       "      <th id=\"T_8932b_level0_row30\" class=\"row_heading level0 row30\" >30</th>\n",
       "      <td id=\"T_8932b_row30_col0\" class=\"data row30 col0\" >Normalize Method</td>\n",
       "      <td id=\"T_8932b_row30_col1\" class=\"data row30 col1\" >minmax</td>\n",
       "    </tr>\n",
       "    <tr>\n",
       "      <th id=\"T_8932b_level0_row31\" class=\"row_heading level0 row31\" >31</th>\n",
       "      <td id=\"T_8932b_row31_col0\" class=\"data row31 col0\" >Transformation</td>\n",
       "      <td id=\"T_8932b_row31_col1\" class=\"data row31 col1\" >False</td>\n",
       "    </tr>\n",
       "    <tr>\n",
       "      <th id=\"T_8932b_level0_row32\" class=\"row_heading level0 row32\" >32</th>\n",
       "      <td id=\"T_8932b_row32_col0\" class=\"data row32 col0\" >Transformation Method</td>\n",
       "      <td id=\"T_8932b_row32_col1\" class=\"data row32 col1\" >None</td>\n",
       "    </tr>\n",
       "    <tr>\n",
       "      <th id=\"T_8932b_level0_row33\" class=\"row_heading level0 row33\" >33</th>\n",
       "      <td id=\"T_8932b_row33_col0\" class=\"data row33 col0\" >PCA</td>\n",
       "      <td id=\"T_8932b_row33_col1\" class=\"data row33 col1\" >False</td>\n",
       "    </tr>\n",
       "    <tr>\n",
       "      <th id=\"T_8932b_level0_row34\" class=\"row_heading level0 row34\" >34</th>\n",
       "      <td id=\"T_8932b_row34_col0\" class=\"data row34 col0\" >PCA Method</td>\n",
       "      <td id=\"T_8932b_row34_col1\" class=\"data row34 col1\" >None</td>\n",
       "    </tr>\n",
       "    <tr>\n",
       "      <th id=\"T_8932b_level0_row35\" class=\"row_heading level0 row35\" >35</th>\n",
       "      <td id=\"T_8932b_row35_col0\" class=\"data row35 col0\" >PCA Components</td>\n",
       "      <td id=\"T_8932b_row35_col1\" class=\"data row35 col1\" >None</td>\n",
       "    </tr>\n",
       "    <tr>\n",
       "      <th id=\"T_8932b_level0_row36\" class=\"row_heading level0 row36\" >36</th>\n",
       "      <td id=\"T_8932b_row36_col0\" class=\"data row36 col0\" >Ignore Low Variance</td>\n",
       "      <td id=\"T_8932b_row36_col1\" class=\"data row36 col1\" >False</td>\n",
       "    </tr>\n",
       "    <tr>\n",
       "      <th id=\"T_8932b_level0_row37\" class=\"row_heading level0 row37\" >37</th>\n",
       "      <td id=\"T_8932b_row37_col0\" class=\"data row37 col0\" >Combine Rare Levels</td>\n",
       "      <td id=\"T_8932b_row37_col1\" class=\"data row37 col1\" >False</td>\n",
       "    </tr>\n",
       "    <tr>\n",
       "      <th id=\"T_8932b_level0_row38\" class=\"row_heading level0 row38\" >38</th>\n",
       "      <td id=\"T_8932b_row38_col0\" class=\"data row38 col0\" >Rare Level Threshold</td>\n",
       "      <td id=\"T_8932b_row38_col1\" class=\"data row38 col1\" >None</td>\n",
       "    </tr>\n",
       "    <tr>\n",
       "      <th id=\"T_8932b_level0_row39\" class=\"row_heading level0 row39\" >39</th>\n",
       "      <td id=\"T_8932b_row39_col0\" class=\"data row39 col0\" >Numeric Binning</td>\n",
       "      <td id=\"T_8932b_row39_col1\" class=\"data row39 col1\" >False</td>\n",
       "    </tr>\n",
       "    <tr>\n",
       "      <th id=\"T_8932b_level0_row40\" class=\"row_heading level0 row40\" >40</th>\n",
       "      <td id=\"T_8932b_row40_col0\" class=\"data row40 col0\" >Remove Outliers</td>\n",
       "      <td id=\"T_8932b_row40_col1\" class=\"data row40 col1\" >False</td>\n",
       "    </tr>\n",
       "    <tr>\n",
       "      <th id=\"T_8932b_level0_row41\" class=\"row_heading level0 row41\" >41</th>\n",
       "      <td id=\"T_8932b_row41_col0\" class=\"data row41 col0\" >Outliers Threshold</td>\n",
       "      <td id=\"T_8932b_row41_col1\" class=\"data row41 col1\" >None</td>\n",
       "    </tr>\n",
       "    <tr>\n",
       "      <th id=\"T_8932b_level0_row42\" class=\"row_heading level0 row42\" >42</th>\n",
       "      <td id=\"T_8932b_row42_col0\" class=\"data row42 col0\" >Remove Multicollinearity</td>\n",
       "      <td id=\"T_8932b_row42_col1\" class=\"data row42 col1\" >False</td>\n",
       "    </tr>\n",
       "    <tr>\n",
       "      <th id=\"T_8932b_level0_row43\" class=\"row_heading level0 row43\" >43</th>\n",
       "      <td id=\"T_8932b_row43_col0\" class=\"data row43 col0\" >Multicollinearity Threshold</td>\n",
       "      <td id=\"T_8932b_row43_col1\" class=\"data row43 col1\" >None</td>\n",
       "    </tr>\n",
       "    <tr>\n",
       "      <th id=\"T_8932b_level0_row44\" class=\"row_heading level0 row44\" >44</th>\n",
       "      <td id=\"T_8932b_row44_col0\" class=\"data row44 col0\" >Remove Perfect Collinearity</td>\n",
       "      <td id=\"T_8932b_row44_col1\" class=\"data row44 col1\" >True</td>\n",
       "    </tr>\n",
       "    <tr>\n",
       "      <th id=\"T_8932b_level0_row45\" class=\"row_heading level0 row45\" >45</th>\n",
       "      <td id=\"T_8932b_row45_col0\" class=\"data row45 col0\" >Clustering</td>\n",
       "      <td id=\"T_8932b_row45_col1\" class=\"data row45 col1\" >False</td>\n",
       "    </tr>\n",
       "    <tr>\n",
       "      <th id=\"T_8932b_level0_row46\" class=\"row_heading level0 row46\" >46</th>\n",
       "      <td id=\"T_8932b_row46_col0\" class=\"data row46 col0\" >Clustering Iteration</td>\n",
       "      <td id=\"T_8932b_row46_col1\" class=\"data row46 col1\" >None</td>\n",
       "    </tr>\n",
       "    <tr>\n",
       "      <th id=\"T_8932b_level0_row47\" class=\"row_heading level0 row47\" >47</th>\n",
       "      <td id=\"T_8932b_row47_col0\" class=\"data row47 col0\" >Polynomial Features</td>\n",
       "      <td id=\"T_8932b_row47_col1\" class=\"data row47 col1\" >False</td>\n",
       "    </tr>\n",
       "    <tr>\n",
       "      <th id=\"T_8932b_level0_row48\" class=\"row_heading level0 row48\" >48</th>\n",
       "      <td id=\"T_8932b_row48_col0\" class=\"data row48 col0\" >Polynomial Degree</td>\n",
       "      <td id=\"T_8932b_row48_col1\" class=\"data row48 col1\" >None</td>\n",
       "    </tr>\n",
       "    <tr>\n",
       "      <th id=\"T_8932b_level0_row49\" class=\"row_heading level0 row49\" >49</th>\n",
       "      <td id=\"T_8932b_row49_col0\" class=\"data row49 col0\" >Trignometry Features</td>\n",
       "      <td id=\"T_8932b_row49_col1\" class=\"data row49 col1\" >False</td>\n",
       "    </tr>\n",
       "    <tr>\n",
       "      <th id=\"T_8932b_level0_row50\" class=\"row_heading level0 row50\" >50</th>\n",
       "      <td id=\"T_8932b_row50_col0\" class=\"data row50 col0\" >Polynomial Threshold</td>\n",
       "      <td id=\"T_8932b_row50_col1\" class=\"data row50 col1\" >None</td>\n",
       "    </tr>\n",
       "    <tr>\n",
       "      <th id=\"T_8932b_level0_row51\" class=\"row_heading level0 row51\" >51</th>\n",
       "      <td id=\"T_8932b_row51_col0\" class=\"data row51 col0\" >Group Features</td>\n",
       "      <td id=\"T_8932b_row51_col1\" class=\"data row51 col1\" >False</td>\n",
       "    </tr>\n",
       "    <tr>\n",
       "      <th id=\"T_8932b_level0_row52\" class=\"row_heading level0 row52\" >52</th>\n",
       "      <td id=\"T_8932b_row52_col0\" class=\"data row52 col0\" >Feature Selection</td>\n",
       "      <td id=\"T_8932b_row52_col1\" class=\"data row52 col1\" >False</td>\n",
       "    </tr>\n",
       "    <tr>\n",
       "      <th id=\"T_8932b_level0_row53\" class=\"row_heading level0 row53\" >53</th>\n",
       "      <td id=\"T_8932b_row53_col0\" class=\"data row53 col0\" >Feature Selection Method</td>\n",
       "      <td id=\"T_8932b_row53_col1\" class=\"data row53 col1\" >classic</td>\n",
       "    </tr>\n",
       "    <tr>\n",
       "      <th id=\"T_8932b_level0_row54\" class=\"row_heading level0 row54\" >54</th>\n",
       "      <td id=\"T_8932b_row54_col0\" class=\"data row54 col0\" >Features Selection Threshold</td>\n",
       "      <td id=\"T_8932b_row54_col1\" class=\"data row54 col1\" >None</td>\n",
       "    </tr>\n",
       "    <tr>\n",
       "      <th id=\"T_8932b_level0_row55\" class=\"row_heading level0 row55\" >55</th>\n",
       "      <td id=\"T_8932b_row55_col0\" class=\"data row55 col0\" >Feature Interaction</td>\n",
       "      <td id=\"T_8932b_row55_col1\" class=\"data row55 col1\" >False</td>\n",
       "    </tr>\n",
       "    <tr>\n",
       "      <th id=\"T_8932b_level0_row56\" class=\"row_heading level0 row56\" >56</th>\n",
       "      <td id=\"T_8932b_row56_col0\" class=\"data row56 col0\" >Feature Ratio</td>\n",
       "      <td id=\"T_8932b_row56_col1\" class=\"data row56 col1\" >False</td>\n",
       "    </tr>\n",
       "    <tr>\n",
       "      <th id=\"T_8932b_level0_row57\" class=\"row_heading level0 row57\" >57</th>\n",
       "      <td id=\"T_8932b_row57_col0\" class=\"data row57 col0\" >Interaction Threshold</td>\n",
       "      <td id=\"T_8932b_row57_col1\" class=\"data row57 col1\" >None</td>\n",
       "    </tr>\n",
       "    <tr>\n",
       "      <th id=\"T_8932b_level0_row58\" class=\"row_heading level0 row58\" >58</th>\n",
       "      <td id=\"T_8932b_row58_col0\" class=\"data row58 col0\" >Fix Imbalance</td>\n",
       "      <td id=\"T_8932b_row58_col1\" class=\"data row58 col1\" >True</td>\n",
       "    </tr>\n",
       "    <tr>\n",
       "      <th id=\"T_8932b_level0_row59\" class=\"row_heading level0 row59\" >59</th>\n",
       "      <td id=\"T_8932b_row59_col0\" class=\"data row59 col0\" >Fix Imbalance Method</td>\n",
       "      <td id=\"T_8932b_row59_col1\" class=\"data row59 col1\" >SMOTE</td>\n",
       "    </tr>\n",
       "  </tbody>\n",
       "</table>\n"
      ],
      "text/plain": [
       "<pandas.io.formats.style.Styler at 0x180ca46c730>"
      ]
     },
     "metadata": {},
     "output_type": "display_data"
    }
   ],
   "source": [
    "x_smote['diabetes']=y_smote\n",
    "defined_setup = setup(x_smote\n",
    "          ,target = \"diabetes\"\n",
    "          ,normalize = True\n",
    "          ,categorical_features=list(X.columns)\n",
    "          ,normalize_method = \"minmax\"\n",
    "          ,data_split_stratify = True\n",
    "          ,fix_imbalance = True,\n",
    "          fix_imbalance_method = SMOTE(sampling_strategy=0.8)\n",
    "         )\n"
   ]
  },
  {
   "cell_type": "markdown",
   "id": "382c12e8",
   "metadata": {},
   "source": [
    "#### Comparando diferentes modelos."
   ]
  },
  {
   "cell_type": "code",
   "execution_count": 36,
   "id": "f0f6a776",
   "metadata": {},
   "outputs": [
    {
     "data": {
      "text/html": [
       "<style type=\"text/css\">\n",
       "#T_309ca_ th {\n",
       "  text-align: left;\n",
       "}\n",
       "#T_309ca_row0_col0, #T_309ca_row0_col3, #T_309ca_row1_col0, #T_309ca_row1_col1, #T_309ca_row1_col2, #T_309ca_row1_col4, #T_309ca_row1_col5, #T_309ca_row1_col6, #T_309ca_row1_col7 {\n",
       "  text-align: left;\n",
       "}\n",
       "#T_309ca_row0_col1, #T_309ca_row0_col2, #T_309ca_row0_col4, #T_309ca_row0_col5, #T_309ca_row0_col6, #T_309ca_row0_col7, #T_309ca_row1_col3 {\n",
       "  text-align: left;\n",
       "  background-color: yellow;\n",
       "}\n",
       "#T_309ca_row0_col8 {\n",
       "  text-align: left;\n",
       "  background-color: lightgrey;\n",
       "}\n",
       "#T_309ca_row1_col8 {\n",
       "  text-align: left;\n",
       "  background-color: yellow;\n",
       "  background-color: lightgrey;\n",
       "}\n",
       "</style>\n",
       "<table id=\"T_309ca_\">\n",
       "  <thead>\n",
       "    <tr>\n",
       "      <th class=\"blank level0\" >&nbsp;</th>\n",
       "      <th class=\"col_heading level0 col0\" >Model</th>\n",
       "      <th class=\"col_heading level0 col1\" >Accuracy</th>\n",
       "      <th class=\"col_heading level0 col2\" >AUC</th>\n",
       "      <th class=\"col_heading level0 col3\" >Recall</th>\n",
       "      <th class=\"col_heading level0 col4\" >Prec.</th>\n",
       "      <th class=\"col_heading level0 col5\" >F1</th>\n",
       "      <th class=\"col_heading level0 col6\" >Kappa</th>\n",
       "      <th class=\"col_heading level0 col7\" >MCC</th>\n",
       "      <th class=\"col_heading level0 col8\" >TT (Sec)</th>\n",
       "    </tr>\n",
       "  </thead>\n",
       "  <tbody>\n",
       "    <tr>\n",
       "      <th id=\"T_309ca_level0_row0\" class=\"row_heading level0 row0\" >xgboost</th>\n",
       "      <td id=\"T_309ca_row0_col0\" class=\"data row0 col0\" >Extreme Gradient Boosting</td>\n",
       "      <td id=\"T_309ca_row0_col1\" class=\"data row0 col1\" >0.8021</td>\n",
       "      <td id=\"T_309ca_row0_col2\" class=\"data row0 col2\" >0.8782</td>\n",
       "      <td id=\"T_309ca_row0_col3\" class=\"data row0 col3\" >0.7549</td>\n",
       "      <td id=\"T_309ca_row0_col4\" class=\"data row0 col4\" >0.7277</td>\n",
       "      <td id=\"T_309ca_row0_col5\" class=\"data row0 col5\" >0.7410</td>\n",
       "      <td id=\"T_309ca_row0_col6\" class=\"data row0 col6\" >0.5810</td>\n",
       "      <td id=\"T_309ca_row0_col7\" class=\"data row0 col7\" >0.5813</td>\n",
       "      <td id=\"T_309ca_row0_col8\" class=\"data row0 col8\" >15.9280</td>\n",
       "    </tr>\n",
       "    <tr>\n",
       "      <th id=\"T_309ca_level0_row1\" class=\"row_heading level0 row1\" >lightgbm</th>\n",
       "      <td id=\"T_309ca_row1_col0\" class=\"data row1 col0\" >Light Gradient Boosting Machine</td>\n",
       "      <td id=\"T_309ca_row1_col1\" class=\"data row1 col1\" >0.8004</td>\n",
       "      <td id=\"T_309ca_row1_col2\" class=\"data row1 col2\" >0.8764</td>\n",
       "      <td id=\"T_309ca_row1_col3\" class=\"data row1 col3\" >0.7589</td>\n",
       "      <td id=\"T_309ca_row1_col4\" class=\"data row1 col4\" >0.7228</td>\n",
       "      <td id=\"T_309ca_row1_col5\" class=\"data row1 col5\" >0.7404</td>\n",
       "      <td id=\"T_309ca_row1_col6\" class=\"data row1 col6\" >0.5785</td>\n",
       "      <td id=\"T_309ca_row1_col7\" class=\"data row1 col7\" >0.5790</td>\n",
       "      <td id=\"T_309ca_row1_col8\" class=\"data row1 col8\" >13.2260</td>\n",
       "    </tr>\n",
       "  </tbody>\n",
       "</table>\n"
      ],
      "text/plain": [
       "<pandas.io.formats.style.Styler at 0x180c20c3640>"
      ]
     },
     "metadata": {},
     "output_type": "display_data"
    }
   ],
   "source": [
    "best_model = compare_models(fold = 5,sort = 'AUC', include = ['lightgbm', 'xgboost'], probability_threshold = 0.45)"
   ]
  },
  {
   "cell_type": "markdown",
   "id": "1f2a8bb9",
   "metadata": {},
   "source": [
    "#### Criando o modelo."
   ]
  },
  {
   "cell_type": "code",
   "execution_count": 37,
   "id": "6eb04c64",
   "metadata": {},
   "outputs": [
    {
     "data": {
      "text/html": [
       "<style type=\"text/css\">\n",
       "#T_a680d_row5_col0, #T_a680d_row5_col1, #T_a680d_row5_col2, #T_a680d_row5_col3, #T_a680d_row5_col4, #T_a680d_row5_col5, #T_a680d_row5_col6 {\n",
       "  background: yellow;\n",
       "}\n",
       "</style>\n",
       "<table id=\"T_a680d_\">\n",
       "  <thead>\n",
       "    <tr>\n",
       "      <th class=\"blank level0\" >&nbsp;</th>\n",
       "      <th class=\"col_heading level0 col0\" >Accuracy</th>\n",
       "      <th class=\"col_heading level0 col1\" >AUC</th>\n",
       "      <th class=\"col_heading level0 col2\" >Recall</th>\n",
       "      <th class=\"col_heading level0 col3\" >Prec.</th>\n",
       "      <th class=\"col_heading level0 col4\" >F1</th>\n",
       "      <th class=\"col_heading level0 col5\" >Kappa</th>\n",
       "      <th class=\"col_heading level0 col6\" >MCC</th>\n",
       "    </tr>\n",
       "  </thead>\n",
       "  <tbody>\n",
       "    <tr>\n",
       "      <th id=\"T_a680d_level0_row0\" class=\"row_heading level0 row0\" >0</th>\n",
       "      <td id=\"T_a680d_row0_col0\" class=\"data row0 col0\" >0.8089</td>\n",
       "      <td id=\"T_a680d_row0_col1\" class=\"data row0 col1\" >0.8813</td>\n",
       "      <td id=\"T_a680d_row0_col2\" class=\"data row0 col2\" >0.7196</td>\n",
       "      <td id=\"T_a680d_row0_col3\" class=\"data row0 col3\" >0.7585</td>\n",
       "      <td id=\"T_a680d_row0_col4\" class=\"data row0 col4\" >0.7385</td>\n",
       "      <td id=\"T_a680d_row0_col5\" class=\"data row0 col5\" >0.5881</td>\n",
       "      <td id=\"T_a680d_row0_col6\" class=\"data row0 col6\" >0.5886</td>\n",
       "    </tr>\n",
       "    <tr>\n",
       "      <th id=\"T_a680d_level0_row1\" class=\"row_heading level0 row1\" >1</th>\n",
       "      <td id=\"T_a680d_row1_col0\" class=\"data row1 col0\" >0.8070</td>\n",
       "      <td id=\"T_a680d_row1_col1\" class=\"data row1 col1\" >0.8781</td>\n",
       "      <td id=\"T_a680d_row1_col2\" class=\"data row1 col2\" >0.7195</td>\n",
       "      <td id=\"T_a680d_row1_col3\" class=\"data row1 col3\" >0.7544</td>\n",
       "      <td id=\"T_a680d_row1_col4\" class=\"data row1 col4\" >0.7366</td>\n",
       "      <td id=\"T_a680d_row1_col5\" class=\"data row1 col5\" >0.5844</td>\n",
       "      <td id=\"T_a680d_row1_col6\" class=\"data row1 col6\" >0.5848</td>\n",
       "    </tr>\n",
       "    <tr>\n",
       "      <th id=\"T_a680d_level0_row2\" class=\"row_heading level0 row2\" >2</th>\n",
       "      <td id=\"T_a680d_row2_col0\" class=\"data row2 col0\" >0.8098</td>\n",
       "      <td id=\"T_a680d_row2_col1\" class=\"data row2 col1\" >0.8780</td>\n",
       "      <td id=\"T_a680d_row2_col2\" class=\"data row2 col2\" >0.7220</td>\n",
       "      <td id=\"T_a680d_row2_col3\" class=\"data row2 col3\" >0.7591</td>\n",
       "      <td id=\"T_a680d_row2_col4\" class=\"data row2 col4\" >0.7401</td>\n",
       "      <td id=\"T_a680d_row2_col5\" class=\"data row2 col5\" >0.5903</td>\n",
       "      <td id=\"T_a680d_row2_col6\" class=\"data row2 col6\" >0.5907</td>\n",
       "    </tr>\n",
       "    <tr>\n",
       "      <th id=\"T_a680d_level0_row3\" class=\"row_heading level0 row3\" >3</th>\n",
       "      <td id=\"T_a680d_row3_col0\" class=\"data row3 col0\" >0.8082</td>\n",
       "      <td id=\"T_a680d_row3_col1\" class=\"data row3 col1\" >0.8800</td>\n",
       "      <td id=\"T_a680d_row3_col2\" class=\"data row3 col2\" >0.7235</td>\n",
       "      <td id=\"T_a680d_row3_col3\" class=\"data row3 col3\" >0.7548</td>\n",
       "      <td id=\"T_a680d_row3_col4\" class=\"data row3 col4\" >0.7388</td>\n",
       "      <td id=\"T_a680d_row3_col5\" class=\"data row3 col5\" >0.5874</td>\n",
       "      <td id=\"T_a680d_row3_col6\" class=\"data row3 col6\" >0.5877</td>\n",
       "    </tr>\n",
       "    <tr>\n",
       "      <th id=\"T_a680d_level0_row4\" class=\"row_heading level0 row4\" >4</th>\n",
       "      <td id=\"T_a680d_row4_col0\" class=\"data row4 col0\" >0.8039</td>\n",
       "      <td id=\"T_a680d_row4_col1\" class=\"data row4 col1\" >0.8740</td>\n",
       "      <td id=\"T_a680d_row4_col2\" class=\"data row4 col2\" >0.7149</td>\n",
       "      <td id=\"T_a680d_row4_col3\" class=\"data row4 col3\" >0.7504</td>\n",
       "      <td id=\"T_a680d_row4_col4\" class=\"data row4 col4\" >0.7322</td>\n",
       "      <td id=\"T_a680d_row4_col5\" class=\"data row4 col5\" >0.5777</td>\n",
       "      <td id=\"T_a680d_row4_col6\" class=\"data row4 col6\" >0.5781</td>\n",
       "    </tr>\n",
       "    <tr>\n",
       "      <th id=\"T_a680d_level0_row5\" class=\"row_heading level0 row5\" >Mean</th>\n",
       "      <td id=\"T_a680d_row5_col0\" class=\"data row5 col0\" >0.8076</td>\n",
       "      <td id=\"T_a680d_row5_col1\" class=\"data row5 col1\" >0.8783</td>\n",
       "      <td id=\"T_a680d_row5_col2\" class=\"data row5 col2\" >0.7199</td>\n",
       "      <td id=\"T_a680d_row5_col3\" class=\"data row5 col3\" >0.7554</td>\n",
       "      <td id=\"T_a680d_row5_col4\" class=\"data row5 col4\" >0.7372</td>\n",
       "      <td id=\"T_a680d_row5_col5\" class=\"data row5 col5\" >0.5856</td>\n",
       "      <td id=\"T_a680d_row5_col6\" class=\"data row5 col6\" >0.5860</td>\n",
       "    </tr>\n",
       "    <tr>\n",
       "      <th id=\"T_a680d_level0_row6\" class=\"row_heading level0 row6\" >SD</th>\n",
       "      <td id=\"T_a680d_row6_col0\" class=\"data row6 col0\" >0.0020</td>\n",
       "      <td id=\"T_a680d_row6_col1\" class=\"data row6 col1\" >0.0025</td>\n",
       "      <td id=\"T_a680d_row6_col2\" class=\"data row6 col2\" >0.0029</td>\n",
       "      <td id=\"T_a680d_row6_col3\" class=\"data row6 col3\" >0.0031</td>\n",
       "      <td id=\"T_a680d_row6_col4\" class=\"data row6 col4\" >0.0027</td>\n",
       "      <td id=\"T_a680d_row6_col5\" class=\"data row6 col5\" >0.0044</td>\n",
       "      <td id=\"T_a680d_row6_col6\" class=\"data row6 col6\" >0.0044</td>\n",
       "    </tr>\n",
       "  </tbody>\n",
       "</table>\n"
      ],
      "text/plain": [
       "<pandas.io.formats.style.Styler at 0x180cbc42ca0>"
      ]
     },
     "metadata": {},
     "output_type": "display_data"
    }
   ],
   "source": [
    "xgboost = create_model('xgboost', fold = 5)"
   ]
  },
  {
   "cell_type": "markdown",
   "id": "d9189108",
   "metadata": {},
   "source": [
    "#### Realizando o tunning do modelo."
   ]
  },
  {
   "cell_type": "code",
   "execution_count": 38,
   "id": "03da687f",
   "metadata": {},
   "outputs": [
    {
     "data": {
      "text/html": [
       "<style type=\"text/css\">\n",
       "#T_a5c50_row5_col0, #T_a5c50_row5_col1, #T_a5c50_row5_col2, #T_a5c50_row5_col3, #T_a5c50_row5_col4, #T_a5c50_row5_col5, #T_a5c50_row5_col6 {\n",
       "  background: yellow;\n",
       "}\n",
       "</style>\n",
       "<table id=\"T_a5c50_\">\n",
       "  <thead>\n",
       "    <tr>\n",
       "      <th class=\"blank level0\" >&nbsp;</th>\n",
       "      <th class=\"col_heading level0 col0\" >Accuracy</th>\n",
       "      <th class=\"col_heading level0 col1\" >AUC</th>\n",
       "      <th class=\"col_heading level0 col2\" >Recall</th>\n",
       "      <th class=\"col_heading level0 col3\" >Prec.</th>\n",
       "      <th class=\"col_heading level0 col4\" >F1</th>\n",
       "      <th class=\"col_heading level0 col5\" >Kappa</th>\n",
       "      <th class=\"col_heading level0 col6\" >MCC</th>\n",
       "    </tr>\n",
       "  </thead>\n",
       "  <tbody>\n",
       "    <tr>\n",
       "      <th id=\"T_a5c50_level0_row0\" class=\"row_heading level0 row0\" >0</th>\n",
       "      <td id=\"T_a5c50_row0_col0\" class=\"data row0 col0\" >0.8086</td>\n",
       "      <td id=\"T_a5c50_row0_col1\" class=\"data row0 col1\" >0.8803</td>\n",
       "      <td id=\"T_a5c50_row0_col2\" class=\"data row0 col2\" >0.7087</td>\n",
       "      <td id=\"T_a5c50_row0_col3\" class=\"data row0 col3\" >0.7640</td>\n",
       "      <td id=\"T_a5c50_row0_col4\" class=\"data row0 col4\" >0.7353</td>\n",
       "      <td id=\"T_a5c50_row0_col5\" class=\"data row0 col5\" >0.5858</td>\n",
       "      <td id=\"T_a5c50_row0_col6\" class=\"data row0 col6\" >0.5868</td>\n",
       "    </tr>\n",
       "    <tr>\n",
       "      <th id=\"T_a5c50_level0_row1\" class=\"row_heading level0 row1\" >1</th>\n",
       "      <td id=\"T_a5c50_row1_col0\" class=\"data row1 col0\" >0.8060</td>\n",
       "      <td id=\"T_a5c50_row1_col1\" class=\"data row1 col1\" >0.8777</td>\n",
       "      <td id=\"T_a5c50_row1_col2\" class=\"data row1 col2\" >0.7156</td>\n",
       "      <td id=\"T_a5c50_row1_col3\" class=\"data row1 col3\" >0.7544</td>\n",
       "      <td id=\"T_a5c50_row1_col4\" class=\"data row1 col4\" >0.7345</td>\n",
       "      <td id=\"T_a5c50_row1_col5\" class=\"data row1 col5\" >0.5818</td>\n",
       "      <td id=\"T_a5c50_row1_col6\" class=\"data row1 col6\" >0.5823</td>\n",
       "    </tr>\n",
       "    <tr>\n",
       "      <th id=\"T_a5c50_level0_row2\" class=\"row_heading level0 row2\" >2</th>\n",
       "      <td id=\"T_a5c50_row2_col0\" class=\"data row2 col0\" >0.8093</td>\n",
       "      <td id=\"T_a5c50_row2_col1\" class=\"data row2 col1\" >0.8784</td>\n",
       "      <td id=\"T_a5c50_row2_col2\" class=\"data row2 col2\" >0.7092</td>\n",
       "      <td id=\"T_a5c50_row2_col3\" class=\"data row2 col3\" >0.7651</td>\n",
       "      <td id=\"T_a5c50_row2_col4\" class=\"data row2 col4\" >0.7361</td>\n",
       "      <td id=\"T_a5c50_row2_col5\" class=\"data row2 col5\" >0.5871</td>\n",
       "      <td id=\"T_a5c50_row2_col6\" class=\"data row2 col6\" >0.5882</td>\n",
       "    </tr>\n",
       "    <tr>\n",
       "      <th id=\"T_a5c50_level0_row3\" class=\"row_heading level0 row3\" >3</th>\n",
       "      <td id=\"T_a5c50_row3_col0\" class=\"data row3 col0\" >0.8077</td>\n",
       "      <td id=\"T_a5c50_row3_col1\" class=\"data row3 col1\" >0.8790</td>\n",
       "      <td id=\"T_a5c50_row3_col2\" class=\"data row3 col2\" >0.7130</td>\n",
       "      <td id=\"T_a5c50_row3_col3\" class=\"data row3 col3\" >0.7594</td>\n",
       "      <td id=\"T_a5c50_row3_col4\" class=\"data row3 col4\" >0.7355</td>\n",
       "      <td id=\"T_a5c50_row3_col5\" class=\"data row3 col5\" >0.5846</td>\n",
       "      <td id=\"T_a5c50_row3_col6\" class=\"data row3 col6\" >0.5853</td>\n",
       "    </tr>\n",
       "    <tr>\n",
       "      <th id=\"T_a5c50_level0_row4\" class=\"row_heading level0 row4\" >4</th>\n",
       "      <td id=\"T_a5c50_row4_col0\" class=\"data row4 col0\" >0.8028</td>\n",
       "      <td id=\"T_a5c50_row4_col1\" class=\"data row4 col1\" >0.8736</td>\n",
       "      <td id=\"T_a5c50_row4_col2\" class=\"data row4 col2\" >0.7066</td>\n",
       "      <td id=\"T_a5c50_row4_col3\" class=\"data row4 col3\" >0.7525</td>\n",
       "      <td id=\"T_a5c50_row4_col4\" class=\"data row4 col4\" >0.7289</td>\n",
       "      <td id=\"T_a5c50_row4_col5\" class=\"data row4 col5\" >0.5742</td>\n",
       "      <td id=\"T_a5c50_row4_col6\" class=\"data row4 col6\" >0.5749</td>\n",
       "    </tr>\n",
       "    <tr>\n",
       "      <th id=\"T_a5c50_level0_row5\" class=\"row_heading level0 row5\" >Mean</th>\n",
       "      <td id=\"T_a5c50_row5_col0\" class=\"data row5 col0\" >0.8069</td>\n",
       "      <td id=\"T_a5c50_row5_col1\" class=\"data row5 col1\" >0.8778</td>\n",
       "      <td id=\"T_a5c50_row5_col2\" class=\"data row5 col2\" >0.7106</td>\n",
       "      <td id=\"T_a5c50_row5_col3\" class=\"data row5 col3\" >0.7591</td>\n",
       "      <td id=\"T_a5c50_row5_col4\" class=\"data row5 col4\" >0.7340</td>\n",
       "      <td id=\"T_a5c50_row5_col5\" class=\"data row5 col5\" >0.5827</td>\n",
       "      <td id=\"T_a5c50_row5_col6\" class=\"data row5 col6\" >0.5835</td>\n",
       "    </tr>\n",
       "    <tr>\n",
       "      <th id=\"T_a5c50_level0_row6\" class=\"row_heading level0 row6\" >SD</th>\n",
       "      <td id=\"T_a5c50_row6_col0\" class=\"data row6 col0\" >0.0023</td>\n",
       "      <td id=\"T_a5c50_row6_col1\" class=\"data row6 col1\" >0.0023</td>\n",
       "      <td id=\"T_a5c50_row6_col2\" class=\"data row6 col2\" >0.0032</td>\n",
       "      <td id=\"T_a5c50_row6_col3\" class=\"data row6 col3\" >0.0050</td>\n",
       "      <td id=\"T_a5c50_row6_col4\" class=\"data row6 col4\" >0.0026</td>\n",
       "      <td id=\"T_a5c50_row6_col5\" class=\"data row6 col5\" >0.0046</td>\n",
       "      <td id=\"T_a5c50_row6_col6\" class=\"data row6 col6\" >0.0047</td>\n",
       "    </tr>\n",
       "  </tbody>\n",
       "</table>\n"
      ],
      "text/plain": [
       "<pandas.io.formats.style.Styler at 0x180d55d61c0>"
      ]
     },
     "metadata": {},
     "output_type": "display_data"
    }
   ],
   "source": [
    "tuned_xgboost = tune_model(xgboost,\n",
    "                           fold = 5,\n",
    "                           custom_grid = {\n",
    "                              \"learning_rate\":[0.1, 0.2, 0.3, 0.4, 0.5, 0.6, 0.7, 0.8, 0.9, 1.0]\n",
    "                             ,\"n_estimators\":[x for x in range(100, 1100, 100)]\n",
    "                             ,\"max_features\":['sqrt', 'log2', None]\n",
    "                             ,\"max_depth\":[2, 4, 8, 16]\n",
    "                            },\n",
    "                           optimize = 'AUC')"
   ]
  },
  {
   "cell_type": "markdown",
   "id": "f6666146",
   "metadata": {},
   "source": [
    "#### Finalizando o modelo."
   ]
  },
  {
   "cell_type": "code",
   "execution_count": 39,
   "id": "837e2ce0",
   "metadata": {},
   "outputs": [],
   "source": [
    "final_model = finalize_model(tuned_xgboost)"
   ]
  },
  {
   "cell_type": "code",
   "execution_count": 40,
   "id": "4044e2cb",
   "metadata": {},
   "outputs": [
    {
     "name": "stdout",
     "output_type": "stream",
     "text": [
      "Transformation Pipeline and Model Successfully Saved\n"
     ]
    },
    {
     "data": {
      "text/plain": [
       "(Pipeline(memory=None,\n",
       "          steps=[('dtypes',\n",
       "                  DataTypes_Auto_infer(categorical_features=['high_blood_preassure',\n",
       "                                                             'high_cholesterol',\n",
       "                                                             'physical_activity_in_past_30_days',\n",
       "                                                             'serious_difficulty_walking',\n",
       "                                                             'heart_diseaseor_attack',\n",
       "                                                             'avc', 'smoker',\n",
       "                                                             'high_consumption_of_alcohol',\n",
       "                                                             'income_1',\n",
       "                                                             'income_2',\n",
       "                                                             'income_3',\n",
       "                                                             'income_4',\n",
       "                                                             'age_30_39',\n",
       "                                                             'age_40_49',\n",
       "                                                             'age_50_59',\n",
       "                                                             'age_60_69',...\n",
       "                                max_delta_step=0, max_depth=4, max_features=None,\n",
       "                                min_child_weight=1, missing=nan,\n",
       "                                monotone_constraints='()', n_estimators=1000,\n",
       "                                n_jobs=-1, num_parallel_tree=1,\n",
       "                                objective='binary:logistic', predictor='auto',\n",
       "                                random_state=1672, reg_alpha=0, reg_lambda=1,\n",
       "                                scale_pos_weight=1, subsample=1,\n",
       "                                tree_method='auto', use_label_encoder=True,\n",
       "                                validate_parameters=1, ...)]],\n",
       "          verbose=False),\n",
       " '..\\\\datalake\\\\curated\\\\model.pkl')"
      ]
     },
     "execution_count": 40,
     "metadata": {},
     "output_type": "execute_result"
    }
   ],
   "source": [
    "save_model(final_model,'..\\\\datalake\\\\curated\\\\model')"
   ]
  },
  {
   "cell_type": "markdown",
   "id": "0d91d757",
   "metadata": {},
   "source": [
    "#### Transferindo os arquivos para o Data Lake."
   ]
  },
  {
   "cell_type": "code",
   "execution_count": 41,
   "id": "0013900a",
   "metadata": {},
   "outputs": [],
   "source": [
    "x_smote.to_csv(\"..\\\\datalake\\\\curated\\\\dataset.csv\", index=False)"
   ]
  },
  {
   "cell_type": "code",
   "execution_count": null,
   "id": "249ff2a1",
   "metadata": {},
   "outputs": [],
   "source": []
  }
 ],
 "metadata": {
  "kernelspec": {
   "display_name": "Python 3 (ipykernel)",
   "language": "python",
   "name": "python3"
  },
  "language_info": {
   "codemirror_mode": {
    "name": "ipython",
    "version": 3
   },
   "file_extension": ".py",
   "mimetype": "text/x-python",
   "name": "python",
   "nbconvert_exporter": "python",
   "pygments_lexer": "ipython3",
   "version": "3.8.12"
  }
 },
 "nbformat": 4,
 "nbformat_minor": 5
}
