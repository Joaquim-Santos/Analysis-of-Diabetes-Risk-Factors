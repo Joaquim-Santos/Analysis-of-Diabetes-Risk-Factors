{
 "cells": [
  {
   "cell_type": "markdown",
   "id": "a4a4527c",
   "metadata": {},
   "source": [
    "## Projeto Analysis of Diabetes Risk Factor"
   ]
  },
  {
   "cell_type": "markdown",
   "id": "8c061a3a",
   "metadata": {},
   "source": [
    "### Machine Learning."
   ]
  },
  {
   "cell_type": "code",
   "execution_count": 95,
   "id": "497c75c3",
   "metadata": {},
   "outputs": [],
   "source": [
    "import pandas as pd\n",
    "import numpy as np\n",
    "import matplotlib.pyplot as plt\n",
    "from sklearn.preprocessing import MinMaxScaler\n",
    "from sklearn.model_selection import train_test_split"
   ]
  },
  {
   "cell_type": "markdown",
   "id": "46977a99",
   "metadata": {},
   "source": [
    "### Carregando o Dataset pré-processado"
   ]
  },
  {
   "cell_type": "code",
   "execution_count": 110,
   "id": "fa4d8dc4",
   "metadata": {},
   "outputs": [],
   "source": [
    "df_diabetes_indcators = pd.read_csv(\"..\\\\datalake\\\\processing\\\\diabetes_indcators.csv\", index_col=0)"
   ]
  },
  {
   "cell_type": "code",
   "execution_count": 111,
   "id": "638ea3fb",
   "metadata": {},
   "outputs": [
    {
     "data": {
      "text/html": [
       "<div>\n",
       "<style scoped>\n",
       "    .dataframe tbody tr th:only-of-type {\n",
       "        vertical-align: middle;\n",
       "    }\n",
       "\n",
       "    .dataframe tbody tr th {\n",
       "        vertical-align: top;\n",
       "    }\n",
       "\n",
       "    .dataframe thead th {\n",
       "        text-align: right;\n",
       "    }\n",
       "</style>\n",
       "<table border=\"1\" class=\"dataframe\">\n",
       "  <thead>\n",
       "    <tr style=\"text-align: right;\">\n",
       "      <th></th>\n",
       "      <th>high_blood_preassure</th>\n",
       "      <th>high_cholesterol</th>\n",
       "      <th>body_mass_index</th>\n",
       "      <th>age</th>\n",
       "      <th>physical_activity_in_past_30_days</th>\n",
       "      <th>physical_illness_injury_days</th>\n",
       "      <th>education</th>\n",
       "      <th>income</th>\n",
       "      <th>serious_difficulty_walking</th>\n",
       "      <th>heart_diseaseor_attack</th>\n",
       "      <th>days_of_poor_mental_health</th>\n",
       "      <th>diabetes</th>\n",
       "    </tr>\n",
       "  </thead>\n",
       "  <tbody>\n",
       "    <tr>\n",
       "      <th>0</th>\n",
       "      <td>1</td>\n",
       "      <td>1</td>\n",
       "      <td>40.0</td>\n",
       "      <td>9</td>\n",
       "      <td>0</td>\n",
       "      <td>15</td>\n",
       "      <td>4</td>\n",
       "      <td>3</td>\n",
       "      <td>1</td>\n",
       "      <td>0</td>\n",
       "      <td>18</td>\n",
       "      <td>0</td>\n",
       "    </tr>\n",
       "    <tr>\n",
       "      <th>1</th>\n",
       "      <td>0</td>\n",
       "      <td>0</td>\n",
       "      <td>25.0</td>\n",
       "      <td>7</td>\n",
       "      <td>1</td>\n",
       "      <td>0</td>\n",
       "      <td>6</td>\n",
       "      <td>1</td>\n",
       "      <td>0</td>\n",
       "      <td>0</td>\n",
       "      <td>0</td>\n",
       "      <td>0</td>\n",
       "    </tr>\n",
       "    <tr>\n",
       "      <th>2</th>\n",
       "      <td>1</td>\n",
       "      <td>1</td>\n",
       "      <td>28.0</td>\n",
       "      <td>9</td>\n",
       "      <td>0</td>\n",
       "      <td>30</td>\n",
       "      <td>4</td>\n",
       "      <td>8</td>\n",
       "      <td>1</td>\n",
       "      <td>0</td>\n",
       "      <td>30</td>\n",
       "      <td>0</td>\n",
       "    </tr>\n",
       "    <tr>\n",
       "      <th>3</th>\n",
       "      <td>1</td>\n",
       "      <td>0</td>\n",
       "      <td>27.0</td>\n",
       "      <td>11</td>\n",
       "      <td>1</td>\n",
       "      <td>0</td>\n",
       "      <td>3</td>\n",
       "      <td>6</td>\n",
       "      <td>0</td>\n",
       "      <td>0</td>\n",
       "      <td>0</td>\n",
       "      <td>0</td>\n",
       "    </tr>\n",
       "    <tr>\n",
       "      <th>4</th>\n",
       "      <td>1</td>\n",
       "      <td>1</td>\n",
       "      <td>24.0</td>\n",
       "      <td>11</td>\n",
       "      <td>1</td>\n",
       "      <td>0</td>\n",
       "      <td>5</td>\n",
       "      <td>4</td>\n",
       "      <td>0</td>\n",
       "      <td>0</td>\n",
       "      <td>3</td>\n",
       "      <td>0</td>\n",
       "    </tr>\n",
       "  </tbody>\n",
       "</table>\n",
       "</div>"
      ],
      "text/plain": [
       "   high_blood_preassure  high_cholesterol  body_mass_index  age  \\\n",
       "0                     1                 1             40.0    9   \n",
       "1                     0                 0             25.0    7   \n",
       "2                     1                 1             28.0    9   \n",
       "3                     1                 0             27.0   11   \n",
       "4                     1                 1             24.0   11   \n",
       "\n",
       "   physical_activity_in_past_30_days  physical_illness_injury_days  education  \\\n",
       "0                                  0                            15          4   \n",
       "1                                  1                             0          6   \n",
       "2                                  0                            30          4   \n",
       "3                                  1                             0          3   \n",
       "4                                  1                             0          5   \n",
       "\n",
       "   income  serious_difficulty_walking  heart_diseaseor_attack  \\\n",
       "0       3                           1                       0   \n",
       "1       1                           0                       0   \n",
       "2       8                           1                       0   \n",
       "3       6                           0                       0   \n",
       "4       4                           0                       0   \n",
       "\n",
       "   days_of_poor_mental_health  diabetes  \n",
       "0                          18         0  \n",
       "1                           0         0  \n",
       "2                          30         0  \n",
       "3                           0         0  \n",
       "4                           3         0  "
      ]
     },
     "execution_count": 111,
     "metadata": {},
     "output_type": "execute_result"
    }
   ],
   "source": [
    "df_diabetes_indcators.head()"
   ]
  },
  {
   "cell_type": "markdown",
   "id": "b03b9906",
   "metadata": {},
   "source": [
    "### Transformação de Features"
   ]
  },
  {
   "cell_type": "code",
   "execution_count": 112,
   "id": "6c074ef6",
   "metadata": {},
   "outputs": [],
   "source": [
    "def map_imc_ranges(x):\n",
    "    if x < 25:\n",
    "        return 0\n",
    "    elif x >= 25 and x <= 30:\n",
    "        return 1\n",
    "    else:\n",
    "        return 2"
   ]
  },
  {
   "cell_type": "code",
   "execution_count": 113,
   "id": "f39e2e87",
   "metadata": {},
   "outputs": [],
   "source": [
    "df_diabetes_indcators['body_mass_index'] = df_diabetes_indcators['body_mass_index'].map(lambda x:map_imc_ranges(x))"
   ]
  },
  {
   "cell_type": "code",
   "execution_count": 114,
   "id": "aa8a7e81",
   "metadata": {},
   "outputs": [],
   "source": [
    "def map_age_ranges(x):\n",
    "    if x < 6:\n",
    "        return 0\n",
    "    elif x >= 6 and x <= 7:\n",
    "        return 1\n",
    "    elif x >= 8 and x <= 9:\n",
    "        return 2\n",
    "    else:\n",
    "        return 3"
   ]
  },
  {
   "cell_type": "code",
   "execution_count": 115,
   "id": "979a8cf4",
   "metadata": {},
   "outputs": [],
   "source": [
    "df_diabetes_indcators['age'] = df_diabetes_indcators['age'].map(lambda x:map_age_ranges(x))"
   ]
  },
  {
   "cell_type": "code",
   "execution_count": 116,
   "id": "d2d338af",
   "metadata": {},
   "outputs": [],
   "source": [
    "def map_physical_mental_health_days(x):\n",
    "    if x < 10:\n",
    "        return 0\n",
    "    elif x >= 10 and x <= 20:\n",
    "        return 1\n",
    "    else:\n",
    "        return 2"
   ]
  },
  {
   "cell_type": "code",
   "execution_count": 117,
   "id": "fcdf25d1",
   "metadata": {},
   "outputs": [],
   "source": [
    "df_diabetes_indcators['physical_illness_injury_days'] = df_diabetes_indcators['physical_illness_injury_days']\\\n",
    "    .map(lambda x:map_physical_mental_health_days(x))\n",
    "df_diabetes_indcators['days_of_poor_mental_health'] = df_diabetes_indcators['days_of_poor_mental_health']\\\n",
    "    .map(lambda x:map_physical_mental_health_days(x))"
   ]
  },
  {
   "cell_type": "code",
   "execution_count": 118,
   "id": "bb5c05cd",
   "metadata": {},
   "outputs": [],
   "source": [
    "def map_education_scale(x):\n",
    "    if x < 4:\n",
    "        return 1\n",
    "    elif x >= 4 and x <= 5:\n",
    "        return 2\n",
    "    else:\n",
    "        return 3"
   ]
  },
  {
   "cell_type": "code",
   "execution_count": 119,
   "id": "31136abe",
   "metadata": {},
   "outputs": [],
   "source": [
    "df_diabetes_indcators['education'] = df_diabetes_indcators['education'].map(lambda x:map_education_scale(x))"
   ]
  },
  {
   "cell_type": "code",
   "execution_count": 120,
   "id": "451fb7e5",
   "metadata": {},
   "outputs": [],
   "source": [
    "def map_income_scale(x):\n",
    "    if x < 3:\n",
    "        return 1\n",
    "    elif x >= 3 and x <= 5:\n",
    "        return 2\n",
    "    else:\n",
    "        return 3"
   ]
  },
  {
   "cell_type": "code",
   "execution_count": 121,
   "id": "878ad332",
   "metadata": {},
   "outputs": [],
   "source": [
    "df_diabetes_indcators['income'] = df_diabetes_indcators['income'].map(lambda x:map_income_scale(x))"
   ]
  },
  {
   "cell_type": "code",
   "execution_count": 122,
   "id": "57f3f739",
   "metadata": {},
   "outputs": [
    {
     "data": {
      "text/html": [
       "<div>\n",
       "<style scoped>\n",
       "    .dataframe tbody tr th:only-of-type {\n",
       "        vertical-align: middle;\n",
       "    }\n",
       "\n",
       "    .dataframe tbody tr th {\n",
       "        vertical-align: top;\n",
       "    }\n",
       "\n",
       "    .dataframe thead th {\n",
       "        text-align: right;\n",
       "    }\n",
       "</style>\n",
       "<table border=\"1\" class=\"dataframe\">\n",
       "  <thead>\n",
       "    <tr style=\"text-align: right;\">\n",
       "      <th></th>\n",
       "      <th>high_blood_preassure</th>\n",
       "      <th>high_cholesterol</th>\n",
       "      <th>body_mass_index</th>\n",
       "      <th>age</th>\n",
       "      <th>physical_activity_in_past_30_days</th>\n",
       "      <th>physical_illness_injury_days</th>\n",
       "      <th>education</th>\n",
       "      <th>income</th>\n",
       "      <th>serious_difficulty_walking</th>\n",
       "      <th>heart_diseaseor_attack</th>\n",
       "      <th>days_of_poor_mental_health</th>\n",
       "      <th>diabetes</th>\n",
       "    </tr>\n",
       "  </thead>\n",
       "  <tbody>\n",
       "    <tr>\n",
       "      <th>0</th>\n",
       "      <td>1</td>\n",
       "      <td>1</td>\n",
       "      <td>2</td>\n",
       "      <td>2</td>\n",
       "      <td>0</td>\n",
       "      <td>1</td>\n",
       "      <td>2</td>\n",
       "      <td>2</td>\n",
       "      <td>1</td>\n",
       "      <td>0</td>\n",
       "      <td>1</td>\n",
       "      <td>0</td>\n",
       "    </tr>\n",
       "    <tr>\n",
       "      <th>1</th>\n",
       "      <td>0</td>\n",
       "      <td>0</td>\n",
       "      <td>1</td>\n",
       "      <td>1</td>\n",
       "      <td>1</td>\n",
       "      <td>0</td>\n",
       "      <td>3</td>\n",
       "      <td>1</td>\n",
       "      <td>0</td>\n",
       "      <td>0</td>\n",
       "      <td>0</td>\n",
       "      <td>0</td>\n",
       "    </tr>\n",
       "    <tr>\n",
       "      <th>2</th>\n",
       "      <td>1</td>\n",
       "      <td>1</td>\n",
       "      <td>1</td>\n",
       "      <td>2</td>\n",
       "      <td>0</td>\n",
       "      <td>2</td>\n",
       "      <td>2</td>\n",
       "      <td>3</td>\n",
       "      <td>1</td>\n",
       "      <td>0</td>\n",
       "      <td>2</td>\n",
       "      <td>0</td>\n",
       "    </tr>\n",
       "    <tr>\n",
       "      <th>3</th>\n",
       "      <td>1</td>\n",
       "      <td>0</td>\n",
       "      <td>1</td>\n",
       "      <td>3</td>\n",
       "      <td>1</td>\n",
       "      <td>0</td>\n",
       "      <td>1</td>\n",
       "      <td>3</td>\n",
       "      <td>0</td>\n",
       "      <td>0</td>\n",
       "      <td>0</td>\n",
       "      <td>0</td>\n",
       "    </tr>\n",
       "    <tr>\n",
       "      <th>4</th>\n",
       "      <td>1</td>\n",
       "      <td>1</td>\n",
       "      <td>0</td>\n",
       "      <td>3</td>\n",
       "      <td>1</td>\n",
       "      <td>0</td>\n",
       "      <td>2</td>\n",
       "      <td>2</td>\n",
       "      <td>0</td>\n",
       "      <td>0</td>\n",
       "      <td>0</td>\n",
       "      <td>0</td>\n",
       "    </tr>\n",
       "  </tbody>\n",
       "</table>\n",
       "</div>"
      ],
      "text/plain": [
       "   high_blood_preassure  high_cholesterol  body_mass_index  age  \\\n",
       "0                     1                 1                2    2   \n",
       "1                     0                 0                1    1   \n",
       "2                     1                 1                1    2   \n",
       "3                     1                 0                1    3   \n",
       "4                     1                 1                0    3   \n",
       "\n",
       "   physical_activity_in_past_30_days  physical_illness_injury_days  education  \\\n",
       "0                                  0                             1          2   \n",
       "1                                  1                             0          3   \n",
       "2                                  0                             2          2   \n",
       "3                                  1                             0          1   \n",
       "4                                  1                             0          2   \n",
       "\n",
       "   income  serious_difficulty_walking  heart_diseaseor_attack  \\\n",
       "0       2                           1                       0   \n",
       "1       1                           0                       0   \n",
       "2       3                           1                       0   \n",
       "3       3                           0                       0   \n",
       "4       2                           0                       0   \n",
       "\n",
       "   days_of_poor_mental_health  diabetes  \n",
       "0                           1         0  \n",
       "1                           0         0  \n",
       "2                           2         0  \n",
       "3                           0         0  \n",
       "4                           0         0  "
      ]
     },
     "execution_count": 122,
     "metadata": {},
     "output_type": "execute_result"
    }
   ],
   "source": [
    "df_diabetes_indcators.head()"
   ]
  },
  {
   "cell_type": "markdown",
   "id": "a7740903",
   "metadata": {},
   "source": [
    "#### Separando os conjuntos de dados."
   ]
  },
  {
   "cell_type": "code",
   "execution_count": 123,
   "id": "30538187",
   "metadata": {},
   "outputs": [],
   "source": [
    "target_name = 'diabetes'\n",
    "X = df_diabetes_indcators.drop('diabetes', axis=1)\n",
    "y = df_diabetes_indcators[target_name]"
   ]
  },
  {
   "cell_type": "code",
   "execution_count": 124,
   "id": "dee8d2ba",
   "metadata": {},
   "outputs": [],
   "source": [
    "X_train, X_test, y_train, y_test = train_test_split(\n",
    "        X\n",
    "       ,y\n",
    "       ,test_size = 0.2\n",
    "       ,random_state = 123\n",
    "       ,stratify = y\n",
    ")"
   ]
  },
  {
   "cell_type": "markdown",
   "id": "5fb67a60",
   "metadata": {},
   "source": [
    "#### Treinando o algoritmo de arvore de decisão."
   ]
  },
  {
   "cell_type": "code",
   "execution_count": 125,
   "id": "8d542693",
   "metadata": {},
   "outputs": [],
   "source": [
    "from sklearn.tree import DecisionTreeClassifier"
   ]
  },
  {
   "cell_type": "code",
   "execution_count": 126,
   "id": "e63f4597",
   "metadata": {},
   "outputs": [],
   "source": [
    "decision_tree = DecisionTreeClassifier()\n",
    "decision_tree = decision_tree.fit(X_train,y_train)"
   ]
  },
  {
   "cell_type": "code",
   "execution_count": 127,
   "id": "321cd674",
   "metadata": {},
   "outputs": [],
   "source": [
    "importances = decision_tree.feature_importances_\n",
    "feat_names = df_diabetes_indcators.drop(['diabetes'],axis=1).columns"
   ]
  },
  {
   "cell_type": "code",
   "execution_count": 128,
   "id": "e0f0cab6",
   "metadata": {},
   "outputs": [
    {
     "data": {
      "image/png": "[encoded data removed]",
      "text/plain": [
       "<Figure size 864x288 with 1 Axes>"
      ]
     },
     "metadata": {},
     "output_type": "display_data"
    }
   ],
   "source": [
    "indices = np.argsort(importances)[::-1]\n",
    "plt.figure(figsize=(12,4))\n",
    "plt.title(\"Feature importances by DecisionTreeClassifier\")\n",
    "plt.bar(range(len(indices)), importances[indices], color='lightblue',  align=\"center\")\n",
    "plt.xticks(range(len(indices)), feat_names[indices], rotation='vertical',fontsize=14)\n",
    "plt.xlim([-1, len(indices)])\n",
    "plt.show()"
   ]
  },
  {
   "cell_type": "markdown",
   "id": "88c354b7",
   "metadata": {},
   "source": [
    "#### Filtrando apenas os atributos relevantes."
   ]
  },
  {
   "cell_type": "code",
   "execution_count": 130,
   "id": "8e3c9bee",
   "metadata": {},
   "outputs": [],
   "source": [
    "X = df_diabetes_indcators.drop(\"diabetes\", axis=1)"
   ]
  },
  {
   "cell_type": "markdown",
   "id": "001cc120",
   "metadata": {},
   "source": [
    "#### Realizando balanceamento de classes."
   ]
  },
  {
   "cell_type": "code",
   "execution_count": 132,
   "id": "78f57fe4",
   "metadata": {},
   "outputs": [],
   "source": [
    "from imblearn.over_sampling import SMOTE\n",
    "from imblearn.under_sampling import NearMiss"
   ]
  },
  {
   "cell_type": "code",
   "execution_count": 133,
   "id": "f09e3865",
   "metadata": {},
   "outputs": [],
   "source": [
    "nm = NearMiss(sampling_strategy=0.40)"
   ]
  },
  {
   "cell_type": "code",
   "execution_count": 134,
   "id": "b7e73450",
   "metadata": {},
   "outputs": [],
   "source": [
    "x_nm, y_nm = nm.fit_resample(X, y)"
   ]
  },
  {
   "cell_type": "code",
   "execution_count": 135,
   "id": "f033dbd5",
   "metadata": {},
   "outputs": [],
   "source": [
    "smote = SMOTE(sampling_strategy=0.60, random_state=33)"
   ]
  },
  {
   "cell_type": "code",
   "execution_count": 136,
   "id": "00046cc3",
   "metadata": {},
   "outputs": [],
   "source": [
    "x_smote, y_smote = smote.fit_resample(x_nm, y_nm)"
   ]
  },
  {
   "cell_type": "markdown",
   "id": "e90a82bd",
   "metadata": {},
   "source": [
    "#### Separando os conjuntos de dados."
   ]
  },
  {
   "cell_type": "code",
   "execution_count": 137,
   "id": "5e2c3798",
   "metadata": {},
   "outputs": [
    {
     "data": {
      "text/plain": [
       "0    87742\n",
       "1    52645\n",
       "Name: diabetes, dtype: int64"
      ]
     },
     "execution_count": 137,
     "metadata": {},
     "output_type": "execute_result"
    }
   ],
   "source": [
    "y_smote.value_counts()"
   ]
  },
  {
   "cell_type": "code",
   "execution_count": 138,
   "id": "0f0a4633",
   "metadata": {},
   "outputs": [],
   "source": [
    "scaler = MinMaxScaler()"
   ]
  },
  {
   "cell_type": "code",
   "execution_count": 139,
   "id": "87f5a5ae",
   "metadata": {},
   "outputs": [],
   "source": [
    "X = scaler.fit_transform(x_smote)"
   ]
  },
  {
   "cell_type": "code",
   "execution_count": 140,
   "id": "7bd2d627",
   "metadata": {},
   "outputs": [],
   "source": [
    "X_train, X_test, y_train, y_test = train_test_split(\n",
    "        X\n",
    "       ,y_smote\n",
    "       ,test_size = 0.2\n",
    "       ,random_state = 123\n",
    ")"
   ]
  },
  {
   "cell_type": "markdown",
   "id": "32b59df7",
   "metadata": {},
   "source": [
    "#### Função do modelo de base."
   ]
  },
  {
   "cell_type": "code",
   "execution_count": 141,
   "id": "5d0751be",
   "metadata": {},
   "outputs": [],
   "source": [
    "def base_rate_model(X) :\n",
    "    return np.zeros(X.shape[0])"
   ]
  },
  {
   "cell_type": "markdown",
   "id": "838237a9",
   "metadata": {},
   "source": [
    "#### Importando métodos de métrica de avaliação."
   ]
  },
  {
   "cell_type": "code",
   "execution_count": 142,
   "id": "8ec0735b",
   "metadata": {},
   "outputs": [],
   "source": [
    "from sklearn.metrics import roc_auc_score, accuracy_score, classification_report"
   ]
  },
  {
   "cell_type": "code",
   "execution_count": 143,
   "id": "2368c61b",
   "metadata": {},
   "outputs": [],
   "source": [
    "def roc_classification_report_results(model,y_test,y_predict):\n",
    "    roc_ = roc_auc_score(y_test, y_predict)\n",
    "    classfication_report = classification_report(y_test, y_predict)\n",
    "    \n",
    "    print (\"\\n{} AUC = {}\\n\".format(model, roc_))\n",
    "    print(classfication_report)"
   ]
  },
  {
   "cell_type": "markdown",
   "id": "5f3cd252",
   "metadata": {},
   "source": [
    "#### Análise do modelo de baseline"
   ]
  },
  {
   "cell_type": "code",
   "execution_count": 144,
   "id": "96d37873",
   "metadata": {},
   "outputs": [],
   "source": [
    "y_predict = base_rate_model(X_test)"
   ]
  },
  {
   "cell_type": "code",
   "execution_count": 145,
   "id": "166a4b80",
   "metadata": {},
   "outputs": [
    {
     "name": "stdout",
     "output_type": "stream",
     "text": [
      "\n",
      "Base Model AUC = 0.5\n",
      "\n",
      "              precision    recall  f1-score   support\n",
      "\n",
      "           0       0.62      1.00      0.77     17507\n",
      "           1       0.00      0.00      0.00     10571\n",
      "\n",
      "    accuracy                           0.62     28078\n",
      "   macro avg       0.31      0.50      0.38     28078\n",
      "weighted avg       0.39      0.62      0.48     28078\n",
      "\n"
     ]
    }
   ],
   "source": [
    "roc_classification_report_results(\"Base Model\", y_test, y_predict)"
   ]
  },
  {
   "cell_type": "markdown",
   "id": "e433f596",
   "metadata": {},
   "source": [
    "### Modelo de Árvore de Decisão"
   ]
  },
  {
   "cell_type": "markdown",
   "id": "33524aac",
   "metadata": {},
   "source": [
    "#### Instânciando o algoritmo."
   ]
  },
  {
   "cell_type": "code",
   "execution_count": 146,
   "id": "95c50872",
   "metadata": {},
   "outputs": [],
   "source": [
    "from sklearn.tree import DecisionTreeClassifier\n",
    "decision_tree = DecisionTreeClassifier()"
   ]
  },
  {
   "cell_type": "markdown",
   "id": "3d7ad1c8",
   "metadata": {},
   "source": [
    "#### Realizando o treinamento."
   ]
  },
  {
   "cell_type": "code",
   "execution_count": 147,
   "id": "edcca31f",
   "metadata": {
    "scrolled": true
   },
   "outputs": [
    {
     "data": {
      "text/plain": [
       "DecisionTreeClassifier(ccp_alpha=0.0, class_weight=None, criterion='gini',\n",
       "                       max_depth=None, max_features=None, max_leaf_nodes=None,\n",
       "                       min_impurity_decrease=0.0, min_impurity_split=None,\n",
       "                       min_samples_leaf=1, min_samples_split=2,\n",
       "                       min_weight_fraction_leaf=0.0, presort='deprecated',\n",
       "                       random_state=None, splitter='best')"
      ]
     },
     "execution_count": 147,
     "metadata": {},
     "output_type": "execute_result"
    }
   ],
   "source": [
    "decision_tree.fit(X_train,y_train)"
   ]
  },
  {
   "cell_type": "markdown",
   "id": "d3ac4673",
   "metadata": {},
   "source": [
    "#### Calculando as predições."
   ]
  },
  {
   "cell_type": "code",
   "execution_count": 148,
   "id": "9197176d",
   "metadata": {},
   "outputs": [],
   "source": [
    "y_predict = decision_tree.predict(X_test)"
   ]
  },
  {
   "cell_type": "markdown",
   "id": "56a32296",
   "metadata": {},
   "source": [
    "#### Avaliando o resultado."
   ]
  },
  {
   "cell_type": "code",
   "execution_count": 149,
   "id": "93b86d22",
   "metadata": {},
   "outputs": [
    {
     "name": "stdout",
     "output_type": "stream",
     "text": [
      "\n",
      "Decision Tree AUC = 0.7133050019312789\n",
      "\n",
      "              precision    recall  f1-score   support\n",
      "\n",
      "           0       0.77      0.87      0.81     17507\n",
      "           1       0.72      0.56      0.63     10571\n",
      "\n",
      "    accuracy                           0.75     28078\n",
      "   macro avg       0.74      0.71      0.72     28078\n",
      "weighted avg       0.75      0.75      0.74     28078\n",
      "\n"
     ]
    }
   ],
   "source": [
    "roc_classification_report_results(\"Decision Tree\", y_test, y_predict)"
   ]
  },
  {
   "cell_type": "markdown",
   "id": "946707cf",
   "metadata": {},
   "source": [
    "### Modelo de Arvore Aleatória (Random Forest)"
   ]
  },
  {
   "cell_type": "markdown",
   "id": "73489b11",
   "metadata": {},
   "source": [
    "#### Instânciando o algoritmo."
   ]
  },
  {
   "cell_type": "code",
   "execution_count": 41,
   "id": "6dab769b",
   "metadata": {},
   "outputs": [],
   "source": [
    "from sklearn.ensemble import RandomForestClassifier"
   ]
  },
  {
   "cell_type": "code",
   "execution_count": 42,
   "id": "3e0c74f5",
   "metadata": {},
   "outputs": [],
   "source": [
    "random_forest = RandomForestClassifier()"
   ]
  },
  {
   "cell_type": "markdown",
   "id": "193d0577",
   "metadata": {},
   "source": [
    "#### Realizando o treinamento."
   ]
  },
  {
   "cell_type": "code",
   "execution_count": 590,
   "id": "8469a48a",
   "metadata": {
    "scrolled": true
   },
   "outputs": [
    {
     "data": {
      "text/plain": [
       "RandomForestClassifier()"
      ]
     },
     "execution_count": 590,
     "metadata": {},
     "output_type": "execute_result"
    }
   ],
   "source": [
    "random_forest.fit(X_train,y_train)"
   ]
  },
  {
   "cell_type": "markdown",
   "id": "3a77f475",
   "metadata": {},
   "source": [
    "#### Calculando as predições."
   ]
  },
  {
   "cell_type": "code",
   "execution_count": 591,
   "id": "58e16f6c",
   "metadata": {},
   "outputs": [],
   "source": [
    "y_predict = random_forest.predict(X_test)"
   ]
  },
  {
   "cell_type": "markdown",
   "id": "5b56117a",
   "metadata": {},
   "source": [
    "#### Avaliando o resultado."
   ]
  },
  {
   "cell_type": "code",
   "execution_count": 592,
   "id": "8853f34b",
   "metadata": {},
   "outputs": [
    {
     "name": "stdout",
     "output_type": "stream",
     "text": [
      "\n",
      "Random Forest AUC = 0.699644566136679\n",
      "\n",
      "              precision    recall  f1-score   support\n",
      "\n",
      "           0       0.76      0.82      0.79     17507\n",
      "           1       0.66      0.58      0.62     10571\n",
      "\n",
      "    accuracy                           0.73     28078\n",
      "   macro avg       0.71      0.70      0.70     28078\n",
      "weighted avg       0.72      0.73      0.73     28078\n",
      "\n"
     ]
    }
   ],
   "source": [
    "roc_classification_report_results(\"Random Forest\", y_test, y_predict)"
   ]
  },
  {
   "cell_type": "markdown",
   "id": "6fa32588",
   "metadata": {},
   "source": [
    "### Pycaret"
   ]
  },
  {
   "cell_type": "code",
   "execution_count": null,
   "id": "04eb1242",
   "metadata": {},
   "outputs": [],
   "source": [
    "pip install pycaret"
   ]
  },
  {
   "cell_type": "markdown",
   "id": "bb6777d1",
   "metadata": {},
   "source": [
    "#### Importando os métodos."
   ]
  },
  {
   "cell_type": "code",
   "execution_count": 47,
   "id": "d44eb2b0",
   "metadata": {},
   "outputs": [],
   "source": [
    "from pycaret.classification import *"
   ]
  },
  {
   "cell_type": "markdown",
   "id": "3c8e58d1",
   "metadata": {},
   "source": [
    "#### Definindo o Setup."
   ]
  },
  {
   "cell_type": "code",
   "execution_count": 160,
   "id": "ac5ffb83",
   "metadata": {},
   "outputs": [
    {
     "data": {
      "text/html": [
       "<style type=\"text/css\">\n",
       "#T_1ff8f_row29_col1, #T_1ff8f_row44_col1, #T_1ff8f_row52_col1, #T_1ff8f_row58_col1 {\n",
       "  background-color: lightgreen;\n",
       "}\n",
       "</style>\n",
       "<table id=\"T_1ff8f_\">\n",
       "  <thead>\n",
       "    <tr>\n",
       "      <th class=\"blank level0\" >&nbsp;</th>\n",
       "      <th class=\"col_heading level0 col0\" >Description</th>\n",
       "      <th class=\"col_heading level0 col1\" >Value</th>\n",
       "    </tr>\n",
       "  </thead>\n",
       "  <tbody>\n",
       "    <tr>\n",
       "      <th id=\"T_1ff8f_level0_row0\" class=\"row_heading level0 row0\" >0</th>\n",
       "      <td id=\"T_1ff8f_row0_col0\" class=\"data row0 col0\" >session_id</td>\n",
       "      <td id=\"T_1ff8f_row0_col1\" class=\"data row0 col1\" >3722</td>\n",
       "    </tr>\n",
       "    <tr>\n",
       "      <th id=\"T_1ff8f_level0_row1\" class=\"row_heading level0 row1\" >1</th>\n",
       "      <td id=\"T_1ff8f_row1_col0\" class=\"data row1 col0\" >Target</td>\n",
       "      <td id=\"T_1ff8f_row1_col1\" class=\"data row1 col1\" >diabetes</td>\n",
       "    </tr>\n",
       "    <tr>\n",
       "      <th id=\"T_1ff8f_level0_row2\" class=\"row_heading level0 row2\" >2</th>\n",
       "      <td id=\"T_1ff8f_row2_col0\" class=\"data row2 col0\" >Target Type</td>\n",
       "      <td id=\"T_1ff8f_row2_col1\" class=\"data row2 col1\" >Binary</td>\n",
       "    </tr>\n",
       "    <tr>\n",
       "      <th id=\"T_1ff8f_level0_row3\" class=\"row_heading level0 row3\" >3</th>\n",
       "      <td id=\"T_1ff8f_row3_col0\" class=\"data row3 col0\" >Label Encoded</td>\n",
       "      <td id=\"T_1ff8f_row3_col1\" class=\"data row3 col1\" >None</td>\n",
       "    </tr>\n",
       "    <tr>\n",
       "      <th id=\"T_1ff8f_level0_row4\" class=\"row_heading level0 row4\" >4</th>\n",
       "      <td id=\"T_1ff8f_row4_col0\" class=\"data row4 col0\" >Original Data</td>\n",
       "      <td id=\"T_1ff8f_row4_col1\" class=\"data row4 col1\" >(140387, 12)</td>\n",
       "    </tr>\n",
       "    <tr>\n",
       "      <th id=\"T_1ff8f_level0_row5\" class=\"row_heading level0 row5\" >5</th>\n",
       "      <td id=\"T_1ff8f_row5_col0\" class=\"data row5 col0\" >Missing Values</td>\n",
       "      <td id=\"T_1ff8f_row5_col1\" class=\"data row5 col1\" >False</td>\n",
       "    </tr>\n",
       "    <tr>\n",
       "      <th id=\"T_1ff8f_level0_row6\" class=\"row_heading level0 row6\" >6</th>\n",
       "      <td id=\"T_1ff8f_row6_col0\" class=\"data row6 col0\" >Numeric Features</td>\n",
       "      <td id=\"T_1ff8f_row6_col1\" class=\"data row6 col1\" >0</td>\n",
       "    </tr>\n",
       "    <tr>\n",
       "      <th id=\"T_1ff8f_level0_row7\" class=\"row_heading level0 row7\" >7</th>\n",
       "      <td id=\"T_1ff8f_row7_col0\" class=\"data row7 col0\" >Categorical Features</td>\n",
       "      <td id=\"T_1ff8f_row7_col1\" class=\"data row7 col1\" >11</td>\n",
       "    </tr>\n",
       "    <tr>\n",
       "      <th id=\"T_1ff8f_level0_row8\" class=\"row_heading level0 row8\" >8</th>\n",
       "      <td id=\"T_1ff8f_row8_col0\" class=\"data row8 col0\" >Ordinal Features</td>\n",
       "      <td id=\"T_1ff8f_row8_col1\" class=\"data row8 col1\" >False</td>\n",
       "    </tr>\n",
       "    <tr>\n",
       "      <th id=\"T_1ff8f_level0_row9\" class=\"row_heading level0 row9\" >9</th>\n",
       "      <td id=\"T_1ff8f_row9_col0\" class=\"data row9 col0\" >High Cardinality Features</td>\n",
       "      <td id=\"T_1ff8f_row9_col1\" class=\"data row9 col1\" >False</td>\n",
       "    </tr>\n",
       "    <tr>\n",
       "      <th id=\"T_1ff8f_level0_row10\" class=\"row_heading level0 row10\" >10</th>\n",
       "      <td id=\"T_1ff8f_row10_col0\" class=\"data row10 col0\" >High Cardinality Method</td>\n",
       "      <td id=\"T_1ff8f_row10_col1\" class=\"data row10 col1\" >None</td>\n",
       "    </tr>\n",
       "    <tr>\n",
       "      <th id=\"T_1ff8f_level0_row11\" class=\"row_heading level0 row11\" >11</th>\n",
       "      <td id=\"T_1ff8f_row11_col0\" class=\"data row11 col0\" >Transformed Train Set</td>\n",
       "      <td id=\"T_1ff8f_row11_col1\" class=\"data row11 col1\" >(98270, 22)</td>\n",
       "    </tr>\n",
       "    <tr>\n",
       "      <th id=\"T_1ff8f_level0_row12\" class=\"row_heading level0 row12\" >12</th>\n",
       "      <td id=\"T_1ff8f_row12_col0\" class=\"data row12 col0\" >Transformed Test Set</td>\n",
       "      <td id=\"T_1ff8f_row12_col1\" class=\"data row12 col1\" >(42117, 22)</td>\n",
       "    </tr>\n",
       "    <tr>\n",
       "      <th id=\"T_1ff8f_level0_row13\" class=\"row_heading level0 row13\" >13</th>\n",
       "      <td id=\"T_1ff8f_row13_col0\" class=\"data row13 col0\" >Shuffle Train-Test</td>\n",
       "      <td id=\"T_1ff8f_row13_col1\" class=\"data row13 col1\" >True</td>\n",
       "    </tr>\n",
       "    <tr>\n",
       "      <th id=\"T_1ff8f_level0_row14\" class=\"row_heading level0 row14\" >14</th>\n",
       "      <td id=\"T_1ff8f_row14_col0\" class=\"data row14 col0\" >Stratify Train-Test</td>\n",
       "      <td id=\"T_1ff8f_row14_col1\" class=\"data row14 col1\" >True</td>\n",
       "    </tr>\n",
       "    <tr>\n",
       "      <th id=\"T_1ff8f_level0_row15\" class=\"row_heading level0 row15\" >15</th>\n",
       "      <td id=\"T_1ff8f_row15_col0\" class=\"data row15 col0\" >Fold Generator</td>\n",
       "      <td id=\"T_1ff8f_row15_col1\" class=\"data row15 col1\" >StratifiedKFold</td>\n",
       "    </tr>\n",
       "    <tr>\n",
       "      <th id=\"T_1ff8f_level0_row16\" class=\"row_heading level0 row16\" >16</th>\n",
       "      <td id=\"T_1ff8f_row16_col0\" class=\"data row16 col0\" >Fold Number</td>\n",
       "      <td id=\"T_1ff8f_row16_col1\" class=\"data row16 col1\" >10</td>\n",
       "    </tr>\n",
       "    <tr>\n",
       "      <th id=\"T_1ff8f_level0_row17\" class=\"row_heading level0 row17\" >17</th>\n",
       "      <td id=\"T_1ff8f_row17_col0\" class=\"data row17 col0\" >CPU Jobs</td>\n",
       "      <td id=\"T_1ff8f_row17_col1\" class=\"data row17 col1\" >-1</td>\n",
       "    </tr>\n",
       "    <tr>\n",
       "      <th id=\"T_1ff8f_level0_row18\" class=\"row_heading level0 row18\" >18</th>\n",
       "      <td id=\"T_1ff8f_row18_col0\" class=\"data row18 col0\" >Use GPU</td>\n",
       "      <td id=\"T_1ff8f_row18_col1\" class=\"data row18 col1\" >False</td>\n",
       "    </tr>\n",
       "    <tr>\n",
       "      <th id=\"T_1ff8f_level0_row19\" class=\"row_heading level0 row19\" >19</th>\n",
       "      <td id=\"T_1ff8f_row19_col0\" class=\"data row19 col0\" >Log Experiment</td>\n",
       "      <td id=\"T_1ff8f_row19_col1\" class=\"data row19 col1\" >False</td>\n",
       "    </tr>\n",
       "    <tr>\n",
       "      <th id=\"T_1ff8f_level0_row20\" class=\"row_heading level0 row20\" >20</th>\n",
       "      <td id=\"T_1ff8f_row20_col0\" class=\"data row20 col0\" >Experiment Name</td>\n",
       "      <td id=\"T_1ff8f_row20_col1\" class=\"data row20 col1\" >clf-default-name</td>\n",
       "    </tr>\n",
       "    <tr>\n",
       "      <th id=\"T_1ff8f_level0_row21\" class=\"row_heading level0 row21\" >21</th>\n",
       "      <td id=\"T_1ff8f_row21_col0\" class=\"data row21 col0\" >USI</td>\n",
       "      <td id=\"T_1ff8f_row21_col1\" class=\"data row21 col1\" >1265</td>\n",
       "    </tr>\n",
       "    <tr>\n",
       "      <th id=\"T_1ff8f_level0_row22\" class=\"row_heading level0 row22\" >22</th>\n",
       "      <td id=\"T_1ff8f_row22_col0\" class=\"data row22 col0\" >Imputation Type</td>\n",
       "      <td id=\"T_1ff8f_row22_col1\" class=\"data row22 col1\" >simple</td>\n",
       "    </tr>\n",
       "    <tr>\n",
       "      <th id=\"T_1ff8f_level0_row23\" class=\"row_heading level0 row23\" >23</th>\n",
       "      <td id=\"T_1ff8f_row23_col0\" class=\"data row23 col0\" >Iterative Imputation Iteration</td>\n",
       "      <td id=\"T_1ff8f_row23_col1\" class=\"data row23 col1\" >None</td>\n",
       "    </tr>\n",
       "    <tr>\n",
       "      <th id=\"T_1ff8f_level0_row24\" class=\"row_heading level0 row24\" >24</th>\n",
       "      <td id=\"T_1ff8f_row24_col0\" class=\"data row24 col0\" >Numeric Imputer</td>\n",
       "      <td id=\"T_1ff8f_row24_col1\" class=\"data row24 col1\" >mean</td>\n",
       "    </tr>\n",
       "    <tr>\n",
       "      <th id=\"T_1ff8f_level0_row25\" class=\"row_heading level0 row25\" >25</th>\n",
       "      <td id=\"T_1ff8f_row25_col0\" class=\"data row25 col0\" >Iterative Imputation Numeric Model</td>\n",
       "      <td id=\"T_1ff8f_row25_col1\" class=\"data row25 col1\" >None</td>\n",
       "    </tr>\n",
       "    <tr>\n",
       "      <th id=\"T_1ff8f_level0_row26\" class=\"row_heading level0 row26\" >26</th>\n",
       "      <td id=\"T_1ff8f_row26_col0\" class=\"data row26 col0\" >Categorical Imputer</td>\n",
       "      <td id=\"T_1ff8f_row26_col1\" class=\"data row26 col1\" >constant</td>\n",
       "    </tr>\n",
       "    <tr>\n",
       "      <th id=\"T_1ff8f_level0_row27\" class=\"row_heading level0 row27\" >27</th>\n",
       "      <td id=\"T_1ff8f_row27_col0\" class=\"data row27 col0\" >Iterative Imputation Categorical Model</td>\n",
       "      <td id=\"T_1ff8f_row27_col1\" class=\"data row27 col1\" >None</td>\n",
       "    </tr>\n",
       "    <tr>\n",
       "      <th id=\"T_1ff8f_level0_row28\" class=\"row_heading level0 row28\" >28</th>\n",
       "      <td id=\"T_1ff8f_row28_col0\" class=\"data row28 col0\" >Unknown Categoricals Handling</td>\n",
       "      <td id=\"T_1ff8f_row28_col1\" class=\"data row28 col1\" >least_frequent</td>\n",
       "    </tr>\n",
       "    <tr>\n",
       "      <th id=\"T_1ff8f_level0_row29\" class=\"row_heading level0 row29\" >29</th>\n",
       "      <td id=\"T_1ff8f_row29_col0\" class=\"data row29 col0\" >Normalize</td>\n",
       "      <td id=\"T_1ff8f_row29_col1\" class=\"data row29 col1\" >True</td>\n",
       "    </tr>\n",
       "    <tr>\n",
       "      <th id=\"T_1ff8f_level0_row30\" class=\"row_heading level0 row30\" >30</th>\n",
       "      <td id=\"T_1ff8f_row30_col0\" class=\"data row30 col0\" >Normalize Method</td>\n",
       "      <td id=\"T_1ff8f_row30_col1\" class=\"data row30 col1\" >minmax</td>\n",
       "    </tr>\n",
       "    <tr>\n",
       "      <th id=\"T_1ff8f_level0_row31\" class=\"row_heading level0 row31\" >31</th>\n",
       "      <td id=\"T_1ff8f_row31_col0\" class=\"data row31 col0\" >Transformation</td>\n",
       "      <td id=\"T_1ff8f_row31_col1\" class=\"data row31 col1\" >False</td>\n",
       "    </tr>\n",
       "    <tr>\n",
       "      <th id=\"T_1ff8f_level0_row32\" class=\"row_heading level0 row32\" >32</th>\n",
       "      <td id=\"T_1ff8f_row32_col0\" class=\"data row32 col0\" >Transformation Method</td>\n",
       "      <td id=\"T_1ff8f_row32_col1\" class=\"data row32 col1\" >None</td>\n",
       "    </tr>\n",
       "    <tr>\n",
       "      <th id=\"T_1ff8f_level0_row33\" class=\"row_heading level0 row33\" >33</th>\n",
       "      <td id=\"T_1ff8f_row33_col0\" class=\"data row33 col0\" >PCA</td>\n",
       "      <td id=\"T_1ff8f_row33_col1\" class=\"data row33 col1\" >False</td>\n",
       "    </tr>\n",
       "    <tr>\n",
       "      <th id=\"T_1ff8f_level0_row34\" class=\"row_heading level0 row34\" >34</th>\n",
       "      <td id=\"T_1ff8f_row34_col0\" class=\"data row34 col0\" >PCA Method</td>\n",
       "      <td id=\"T_1ff8f_row34_col1\" class=\"data row34 col1\" >None</td>\n",
       "    </tr>\n",
       "    <tr>\n",
       "      <th id=\"T_1ff8f_level0_row35\" class=\"row_heading level0 row35\" >35</th>\n",
       "      <td id=\"T_1ff8f_row35_col0\" class=\"data row35 col0\" >PCA Components</td>\n",
       "      <td id=\"T_1ff8f_row35_col1\" class=\"data row35 col1\" >None</td>\n",
       "    </tr>\n",
       "    <tr>\n",
       "      <th id=\"T_1ff8f_level0_row36\" class=\"row_heading level0 row36\" >36</th>\n",
       "      <td id=\"T_1ff8f_row36_col0\" class=\"data row36 col0\" >Ignore Low Variance</td>\n",
       "      <td id=\"T_1ff8f_row36_col1\" class=\"data row36 col1\" >False</td>\n",
       "    </tr>\n",
       "    <tr>\n",
       "      <th id=\"T_1ff8f_level0_row37\" class=\"row_heading level0 row37\" >37</th>\n",
       "      <td id=\"T_1ff8f_row37_col0\" class=\"data row37 col0\" >Combine Rare Levels</td>\n",
       "      <td id=\"T_1ff8f_row37_col1\" class=\"data row37 col1\" >False</td>\n",
       "    </tr>\n",
       "    <tr>\n",
       "      <th id=\"T_1ff8f_level0_row38\" class=\"row_heading level0 row38\" >38</th>\n",
       "      <td id=\"T_1ff8f_row38_col0\" class=\"data row38 col0\" >Rare Level Threshold</td>\n",
       "      <td id=\"T_1ff8f_row38_col1\" class=\"data row38 col1\" >None</td>\n",
       "    </tr>\n",
       "    <tr>\n",
       "      <th id=\"T_1ff8f_level0_row39\" class=\"row_heading level0 row39\" >39</th>\n",
       "      <td id=\"T_1ff8f_row39_col0\" class=\"data row39 col0\" >Numeric Binning</td>\n",
       "      <td id=\"T_1ff8f_row39_col1\" class=\"data row39 col1\" >False</td>\n",
       "    </tr>\n",
       "    <tr>\n",
       "      <th id=\"T_1ff8f_level0_row40\" class=\"row_heading level0 row40\" >40</th>\n",
       "      <td id=\"T_1ff8f_row40_col0\" class=\"data row40 col0\" >Remove Outliers</td>\n",
       "      <td id=\"T_1ff8f_row40_col1\" class=\"data row40 col1\" >False</td>\n",
       "    </tr>\n",
       "    <tr>\n",
       "      <th id=\"T_1ff8f_level0_row41\" class=\"row_heading level0 row41\" >41</th>\n",
       "      <td id=\"T_1ff8f_row41_col0\" class=\"data row41 col0\" >Outliers Threshold</td>\n",
       "      <td id=\"T_1ff8f_row41_col1\" class=\"data row41 col1\" >None</td>\n",
       "    </tr>\n",
       "    <tr>\n",
       "      <th id=\"T_1ff8f_level0_row42\" class=\"row_heading level0 row42\" >42</th>\n",
       "      <td id=\"T_1ff8f_row42_col0\" class=\"data row42 col0\" >Remove Multicollinearity</td>\n",
       "      <td id=\"T_1ff8f_row42_col1\" class=\"data row42 col1\" >False</td>\n",
       "    </tr>\n",
       "    <tr>\n",
       "      <th id=\"T_1ff8f_level0_row43\" class=\"row_heading level0 row43\" >43</th>\n",
       "      <td id=\"T_1ff8f_row43_col0\" class=\"data row43 col0\" >Multicollinearity Threshold</td>\n",
       "      <td id=\"T_1ff8f_row43_col1\" class=\"data row43 col1\" >None</td>\n",
       "    </tr>\n",
       "    <tr>\n",
       "      <th id=\"T_1ff8f_level0_row44\" class=\"row_heading level0 row44\" >44</th>\n",
       "      <td id=\"T_1ff8f_row44_col0\" class=\"data row44 col0\" >Remove Perfect Collinearity</td>\n",
       "      <td id=\"T_1ff8f_row44_col1\" class=\"data row44 col1\" >True</td>\n",
       "    </tr>\n",
       "    <tr>\n",
       "      <th id=\"T_1ff8f_level0_row45\" class=\"row_heading level0 row45\" >45</th>\n",
       "      <td id=\"T_1ff8f_row45_col0\" class=\"data row45 col0\" >Clustering</td>\n",
       "      <td id=\"T_1ff8f_row45_col1\" class=\"data row45 col1\" >False</td>\n",
       "    </tr>\n",
       "    <tr>\n",
       "      <th id=\"T_1ff8f_level0_row46\" class=\"row_heading level0 row46\" >46</th>\n",
       "      <td id=\"T_1ff8f_row46_col0\" class=\"data row46 col0\" >Clustering Iteration</td>\n",
       "      <td id=\"T_1ff8f_row46_col1\" class=\"data row46 col1\" >None</td>\n",
       "    </tr>\n",
       "    <tr>\n",
       "      <th id=\"T_1ff8f_level0_row47\" class=\"row_heading level0 row47\" >47</th>\n",
       "      <td id=\"T_1ff8f_row47_col0\" class=\"data row47 col0\" >Polynomial Features</td>\n",
       "      <td id=\"T_1ff8f_row47_col1\" class=\"data row47 col1\" >False</td>\n",
       "    </tr>\n",
       "    <tr>\n",
       "      <th id=\"T_1ff8f_level0_row48\" class=\"row_heading level0 row48\" >48</th>\n",
       "      <td id=\"T_1ff8f_row48_col0\" class=\"data row48 col0\" >Polynomial Degree</td>\n",
       "      <td id=\"T_1ff8f_row48_col1\" class=\"data row48 col1\" >None</td>\n",
       "    </tr>\n",
       "    <tr>\n",
       "      <th id=\"T_1ff8f_level0_row49\" class=\"row_heading level0 row49\" >49</th>\n",
       "      <td id=\"T_1ff8f_row49_col0\" class=\"data row49 col0\" >Trignometry Features</td>\n",
       "      <td id=\"T_1ff8f_row49_col1\" class=\"data row49 col1\" >False</td>\n",
       "    </tr>\n",
       "    <tr>\n",
       "      <th id=\"T_1ff8f_level0_row50\" class=\"row_heading level0 row50\" >50</th>\n",
       "      <td id=\"T_1ff8f_row50_col0\" class=\"data row50 col0\" >Polynomial Threshold</td>\n",
       "      <td id=\"T_1ff8f_row50_col1\" class=\"data row50 col1\" >None</td>\n",
       "    </tr>\n",
       "    <tr>\n",
       "      <th id=\"T_1ff8f_level0_row51\" class=\"row_heading level0 row51\" >51</th>\n",
       "      <td id=\"T_1ff8f_row51_col0\" class=\"data row51 col0\" >Group Features</td>\n",
       "      <td id=\"T_1ff8f_row51_col1\" class=\"data row51 col1\" >False</td>\n",
       "    </tr>\n",
       "    <tr>\n",
       "      <th id=\"T_1ff8f_level0_row52\" class=\"row_heading level0 row52\" >52</th>\n",
       "      <td id=\"T_1ff8f_row52_col0\" class=\"data row52 col0\" >Feature Selection</td>\n",
       "      <td id=\"T_1ff8f_row52_col1\" class=\"data row52 col1\" >True</td>\n",
       "    </tr>\n",
       "    <tr>\n",
       "      <th id=\"T_1ff8f_level0_row53\" class=\"row_heading level0 row53\" >53</th>\n",
       "      <td id=\"T_1ff8f_row53_col0\" class=\"data row53 col0\" >Feature Selection Method</td>\n",
       "      <td id=\"T_1ff8f_row53_col1\" class=\"data row53 col1\" >classic</td>\n",
       "    </tr>\n",
       "    <tr>\n",
       "      <th id=\"T_1ff8f_level0_row54\" class=\"row_heading level0 row54\" >54</th>\n",
       "      <td id=\"T_1ff8f_row54_col0\" class=\"data row54 col0\" >Features Selection Threshold</td>\n",
       "      <td id=\"T_1ff8f_row54_col1\" class=\"data row54 col1\" >0.800000</td>\n",
       "    </tr>\n",
       "    <tr>\n",
       "      <th id=\"T_1ff8f_level0_row55\" class=\"row_heading level0 row55\" >55</th>\n",
       "      <td id=\"T_1ff8f_row55_col0\" class=\"data row55 col0\" >Feature Interaction</td>\n",
       "      <td id=\"T_1ff8f_row55_col1\" class=\"data row55 col1\" >False</td>\n",
       "    </tr>\n",
       "    <tr>\n",
       "      <th id=\"T_1ff8f_level0_row56\" class=\"row_heading level0 row56\" >56</th>\n",
       "      <td id=\"T_1ff8f_row56_col0\" class=\"data row56 col0\" >Feature Ratio</td>\n",
       "      <td id=\"T_1ff8f_row56_col1\" class=\"data row56 col1\" >False</td>\n",
       "    </tr>\n",
       "    <tr>\n",
       "      <th id=\"T_1ff8f_level0_row57\" class=\"row_heading level0 row57\" >57</th>\n",
       "      <td id=\"T_1ff8f_row57_col0\" class=\"data row57 col0\" >Interaction Threshold</td>\n",
       "      <td id=\"T_1ff8f_row57_col1\" class=\"data row57 col1\" >None</td>\n",
       "    </tr>\n",
       "    <tr>\n",
       "      <th id=\"T_1ff8f_level0_row58\" class=\"row_heading level0 row58\" >58</th>\n",
       "      <td id=\"T_1ff8f_row58_col0\" class=\"data row58 col0\" >Fix Imbalance</td>\n",
       "      <td id=\"T_1ff8f_row58_col1\" class=\"data row58 col1\" >True</td>\n",
       "    </tr>\n",
       "    <tr>\n",
       "      <th id=\"T_1ff8f_level0_row59\" class=\"row_heading level0 row59\" >59</th>\n",
       "      <td id=\"T_1ff8f_row59_col0\" class=\"data row59 col0\" >Fix Imbalance Method</td>\n",
       "      <td id=\"T_1ff8f_row59_col1\" class=\"data row59 col1\" >SMOTE</td>\n",
       "    </tr>\n",
       "  </tbody>\n",
       "</table>\n"
      ],
      "text/plain": [
       "<pandas.io.formats.style.Styler at 0x1d486974d00>"
      ]
     },
     "metadata": {},
     "output_type": "display_data"
    }
   ],
   "source": [
    "x_smote['diabetes']=y_smote\n",
    "defined_setup = setup(x_smote\n",
    "          ,target = \"diabetes\"\n",
    "          ,normalize = True\n",
    "          ,normalize_method = \"minmax\"\n",
    "          ,data_split_stratify = True\n",
    "          ,fix_imbalance = True,\n",
    "          fix_imbalance_method = SMOTE(sampling_strategy=0.8),\n",
    "          feature_selection = True,\n",
    "          feature_selection_threshold = 0.8\n",
    "         )\n"
   ]
  },
  {
   "cell_type": "markdown",
   "id": "382c12e8",
   "metadata": {},
   "source": [
    "#### Comparando diferentes modelos."
   ]
  },
  {
   "cell_type": "code",
   "execution_count": 153,
   "id": "9dbeaf2e",
   "metadata": {},
   "outputs": [
    {
     "data": {
      "text/html": [
       "<style type=\"text/css\">\n",
       "#T_5681f_ th {\n",
       "  text-align: left;\n",
       "}\n",
       "#T_5681f_row0_col0, #T_5681f_row0_col1, #T_5681f_row0_col4, #T_5681f_row0_col5, #T_5681f_row0_col6, #T_5681f_row0_col7, #T_5681f_row1_col0, #T_5681f_row1_col2, #T_5681f_row1_col3 {\n",
       "  text-align: left;\n",
       "}\n",
       "#T_5681f_row0_col2, #T_5681f_row0_col3, #T_5681f_row1_col1, #T_5681f_row1_col4, #T_5681f_row1_col5, #T_5681f_row1_col6, #T_5681f_row1_col7 {\n",
       "  text-align: left;\n",
       "  background-color: yellow;\n",
       "}\n",
       "#T_5681f_row0_col8 {\n",
       "  text-align: left;\n",
       "  background-color: lightgrey;\n",
       "}\n",
       "#T_5681f_row1_col8 {\n",
       "  text-align: left;\n",
       "  background-color: yellow;\n",
       "  background-color: lightgrey;\n",
       "}\n",
       "</style>\n",
       "<table id=\"T_5681f_\">\n",
       "  <thead>\n",
       "    <tr>\n",
       "      <th class=\"blank level0\" >&nbsp;</th>\n",
       "      <th class=\"col_heading level0 col0\" >Model</th>\n",
       "      <th class=\"col_heading level0 col1\" >Accuracy</th>\n",
       "      <th class=\"col_heading level0 col2\" >AUC</th>\n",
       "      <th class=\"col_heading level0 col3\" >Recall</th>\n",
       "      <th class=\"col_heading level0 col4\" >Prec.</th>\n",
       "      <th class=\"col_heading level0 col5\" >F1</th>\n",
       "      <th class=\"col_heading level0 col6\" >Kappa</th>\n",
       "      <th class=\"col_heading level0 col7\" >MCC</th>\n",
       "      <th class=\"col_heading level0 col8\" >TT (Sec)</th>\n",
       "    </tr>\n",
       "  </thead>\n",
       "  <tbody>\n",
       "    <tr>\n",
       "      <th id=\"T_5681f_level0_row0\" class=\"row_heading level0 row0\" >xgboost</th>\n",
       "      <td id=\"T_5681f_row0_col0\" class=\"data row0 col0\" >Extreme Gradient Boosting</td>\n",
       "      <td id=\"T_5681f_row0_col1\" class=\"data row0 col1\" >0.7467</td>\n",
       "      <td id=\"T_5681f_row0_col2\" class=\"data row0 col2\" >0.8286</td>\n",
       "      <td id=\"T_5681f_row0_col3\" class=\"data row0 col3\" >0.7411</td>\n",
       "      <td id=\"T_5681f_row0_col4\" class=\"data row0 col4\" >0.6402</td>\n",
       "      <td id=\"T_5681f_row0_col5\" class=\"data row0 col5\" >0.6870</td>\n",
       "      <td id=\"T_5681f_row0_col6\" class=\"data row0 col6\" >0.4762</td>\n",
       "      <td id=\"T_5681f_row0_col7\" class=\"data row0 col7\" >0.4798</td>\n",
       "      <td id=\"T_5681f_row0_col8\" class=\"data row0 col8\" >7.0860</td>\n",
       "    </tr>\n",
       "    <tr>\n",
       "      <th id=\"T_5681f_level0_row1\" class=\"row_heading level0 row1\" >lightgbm</th>\n",
       "      <td id=\"T_5681f_row1_col0\" class=\"data row1 col0\" >Light Gradient Boosting Machine</td>\n",
       "      <td id=\"T_5681f_row1_col1\" class=\"data row1 col1\" >0.7484</td>\n",
       "      <td id=\"T_5681f_row1_col2\" class=\"data row1 col2\" >0.8281</td>\n",
       "      <td id=\"T_5681f_row1_col3\" class=\"data row1 col3\" >0.7406</td>\n",
       "      <td id=\"T_5681f_row1_col4\" class=\"data row1 col4\" >0.6427</td>\n",
       "      <td id=\"T_5681f_row1_col5\" class=\"data row1 col5\" >0.6882</td>\n",
       "      <td id=\"T_5681f_row1_col6\" class=\"data row1 col6\" >0.4790</td>\n",
       "      <td id=\"T_5681f_row1_col7\" class=\"data row1 col7\" >0.4824</td>\n",
       "      <td id=\"T_5681f_row1_col8\" class=\"data row1 col8\" >4.8900</td>\n",
       "    </tr>\n",
       "  </tbody>\n",
       "</table>\n"
      ],
      "text/plain": [
       "<pandas.io.formats.style.Styler at 0x1d4f2cf2520>"
      ]
     },
     "metadata": {},
     "output_type": "display_data"
    }
   ],
   "source": [
    "best_model = compare_models(fold = 5,sort = 'AUC', include = ['lightgbm', 'xgboost'], probability_threshold = 0.45)"
   ]
  },
  {
   "cell_type": "markdown",
   "id": "a4c5a7f6",
   "metadata": {},
   "source": [
    "#### Criando o modelo."
   ]
  },
  {
   "cell_type": "code",
   "execution_count": 161,
   "id": "1b5300ad",
   "metadata": {},
   "outputs": [
    {
     "data": {
      "text/html": [
       "<style type=\"text/css\">\n",
       "#T_9cfe1_row5_col0, #T_9cfe1_row5_col1, #T_9cfe1_row5_col2, #T_9cfe1_row5_col3, #T_9cfe1_row5_col4, #T_9cfe1_row5_col5, #T_9cfe1_row5_col6 {\n",
       "  background: yellow;\n",
       "}\n",
       "</style>\n",
       "<table id=\"T_9cfe1_\">\n",
       "  <thead>\n",
       "    <tr>\n",
       "      <th class=\"blank level0\" >&nbsp;</th>\n",
       "      <th class=\"col_heading level0 col0\" >Accuracy</th>\n",
       "      <th class=\"col_heading level0 col1\" >AUC</th>\n",
       "      <th class=\"col_heading level0 col2\" >Recall</th>\n",
       "      <th class=\"col_heading level0 col3\" >Prec.</th>\n",
       "      <th class=\"col_heading level0 col4\" >F1</th>\n",
       "      <th class=\"col_heading level0 col5\" >Kappa</th>\n",
       "      <th class=\"col_heading level0 col6\" >MCC</th>\n",
       "    </tr>\n",
       "  </thead>\n",
       "  <tbody>\n",
       "    <tr>\n",
       "      <th id=\"T_9cfe1_level0_row0\" class=\"row_heading level0 row0\" >0</th>\n",
       "      <td id=\"T_9cfe1_row0_col0\" class=\"data row0 col0\" >0.7562</td>\n",
       "      <td id=\"T_9cfe1_row0_col1\" class=\"data row0 col1\" >0.8295</td>\n",
       "      <td id=\"T_9cfe1_row0_col2\" class=\"data row0 col2\" >0.7075</td>\n",
       "      <td id=\"T_9cfe1_row0_col3\" class=\"data row0 col3\" >0.6643</td>\n",
       "      <td id=\"T_9cfe1_row0_col4\" class=\"data row0 col4\" >0.6852</td>\n",
       "      <td id=\"T_9cfe1_row0_col5\" class=\"data row0 col5\" >0.4866</td>\n",
       "      <td id=\"T_9cfe1_row0_col6\" class=\"data row0 col6\" >0.4873</td>\n",
       "    </tr>\n",
       "    <tr>\n",
       "      <th id=\"T_9cfe1_level0_row1\" class=\"row_heading level0 row1\" >1</th>\n",
       "      <td id=\"T_9cfe1_row1_col0\" class=\"data row1 col0\" >0.7530</td>\n",
       "      <td id=\"T_9cfe1_row1_col1\" class=\"data row1 col1\" >0.8262</td>\n",
       "      <td id=\"T_9cfe1_row1_col2\" class=\"data row1 col2\" >0.6991</td>\n",
       "      <td id=\"T_9cfe1_row1_col3\" class=\"data row1 col3\" >0.6614</td>\n",
       "      <td id=\"T_9cfe1_row1_col4\" class=\"data row1 col4\" >0.6797</td>\n",
       "      <td id=\"T_9cfe1_row1_col5\" class=\"data row1 col5\" >0.4789</td>\n",
       "      <td id=\"T_9cfe1_row1_col6\" class=\"data row1 col6\" >0.4794</td>\n",
       "    </tr>\n",
       "    <tr>\n",
       "      <th id=\"T_9cfe1_level0_row2\" class=\"row_heading level0 row2\" >2</th>\n",
       "      <td id=\"T_9cfe1_row2_col0\" class=\"data row2 col0\" >0.7524</td>\n",
       "      <td id=\"T_9cfe1_row2_col1\" class=\"data row2 col1\" >0.8253</td>\n",
       "      <td id=\"T_9cfe1_row2_col2\" class=\"data row2 col2\" >0.7069</td>\n",
       "      <td id=\"T_9cfe1_row2_col3\" class=\"data row2 col3\" >0.6582</td>\n",
       "      <td id=\"T_9cfe1_row2_col4\" class=\"data row2 col4\" >0.6817</td>\n",
       "      <td id=\"T_9cfe1_row2_col5\" class=\"data row2 col5\" >0.4795</td>\n",
       "      <td id=\"T_9cfe1_row2_col6\" class=\"data row2 col6\" >0.4803</td>\n",
       "    </tr>\n",
       "    <tr>\n",
       "      <th id=\"T_9cfe1_level0_row3\" class=\"row_heading level0 row3\" >3</th>\n",
       "      <td id=\"T_9cfe1_row3_col0\" class=\"data row3 col0\" >0.7521</td>\n",
       "      <td id=\"T_9cfe1_row3_col1\" class=\"data row3 col1\" >0.8268</td>\n",
       "      <td id=\"T_9cfe1_row3_col2\" class=\"data row3 col2\" >0.6958</td>\n",
       "      <td id=\"T_9cfe1_row3_col3\" class=\"data row3 col3\" >0.6609</td>\n",
       "      <td id=\"T_9cfe1_row3_col4\" class=\"data row3 col4\" >0.6779</td>\n",
       "      <td id=\"T_9cfe1_row3_col5\" class=\"data row3 col5\" >0.4766</td>\n",
       "      <td id=\"T_9cfe1_row3_col6\" class=\"data row3 col6\" >0.4770</td>\n",
       "    </tr>\n",
       "    <tr>\n",
       "      <th id=\"T_9cfe1_level0_row4\" class=\"row_heading level0 row4\" >4</th>\n",
       "      <td id=\"T_9cfe1_row4_col0\" class=\"data row4 col0\" >0.7534</td>\n",
       "      <td id=\"T_9cfe1_row4_col1\" class=\"data row4 col1\" >0.8270</td>\n",
       "      <td id=\"T_9cfe1_row4_col2\" class=\"data row4 col2\" >0.6972</td>\n",
       "      <td id=\"T_9cfe1_row4_col3\" class=\"data row4 col3\" >0.6628</td>\n",
       "      <td id=\"T_9cfe1_row4_col4\" class=\"data row4 col4\" >0.6796</td>\n",
       "      <td id=\"T_9cfe1_row4_col5\" class=\"data row4 col5\" >0.4794</td>\n",
       "      <td id=\"T_9cfe1_row4_col6\" class=\"data row4 col6\" >0.4798</td>\n",
       "    </tr>\n",
       "    <tr>\n",
       "      <th id=\"T_9cfe1_level0_row5\" class=\"row_heading level0 row5\" >Mean</th>\n",
       "      <td id=\"T_9cfe1_row5_col0\" class=\"data row5 col0\" >0.7534</td>\n",
       "      <td id=\"T_9cfe1_row5_col1\" class=\"data row5 col1\" >0.8269</td>\n",
       "      <td id=\"T_9cfe1_row5_col2\" class=\"data row5 col2\" >0.7013</td>\n",
       "      <td id=\"T_9cfe1_row5_col3\" class=\"data row5 col3\" >0.6615</td>\n",
       "      <td id=\"T_9cfe1_row5_col4\" class=\"data row5 col4\" >0.6808</td>\n",
       "      <td id=\"T_9cfe1_row5_col5\" class=\"data row5 col5\" >0.4802</td>\n",
       "      <td id=\"T_9cfe1_row5_col6\" class=\"data row5 col6\" >0.4808</td>\n",
       "    </tr>\n",
       "    <tr>\n",
       "      <th id=\"T_9cfe1_level0_row6\" class=\"row_heading level0 row6\" >SD</th>\n",
       "      <td id=\"T_9cfe1_row6_col0\" class=\"data row6 col0\" >0.0015</td>\n",
       "      <td id=\"T_9cfe1_row6_col1\" class=\"data row6 col1\" >0.0014</td>\n",
       "      <td id=\"T_9cfe1_row6_col2\" class=\"data row6 col2\" >0.0049</td>\n",
       "      <td id=\"T_9cfe1_row6_col3\" class=\"data row6 col3\" >0.0021</td>\n",
       "      <td id=\"T_9cfe1_row6_col4\" class=\"data row6 col4\" >0.0025</td>\n",
       "      <td id=\"T_9cfe1_row6_col5\" class=\"data row6 col5\" >0.0034</td>\n",
       "      <td id=\"T_9cfe1_row6_col6\" class=\"data row6 col6\" >0.0034</td>\n",
       "    </tr>\n",
       "  </tbody>\n",
       "</table>\n"
      ],
      "text/plain": [
       "<pandas.io.formats.style.Styler at 0x1d4f1b40c10>"
      ]
     },
     "metadata": {},
     "output_type": "display_data"
    }
   ],
   "source": [
    "light_gbm = create_model('lightgbm', fold = 5)"
   ]
  },
  {
   "cell_type": "markdown",
   "id": "eeab1eb3",
   "metadata": {},
   "source": [
    "#### Realizando o tunning do modelo."
   ]
  },
  {
   "cell_type": "code",
   "execution_count": 193,
   "id": "0ada553b",
   "metadata": {},
   "outputs": [
    {
     "data": {
      "text/html": [
       "<style type=\"text/css\">\n",
       "#T_1b731_row5_col0, #T_1b731_row5_col1, #T_1b731_row5_col2, #T_1b731_row5_col3, #T_1b731_row5_col4, #T_1b731_row5_col5, #T_1b731_row5_col6 {\n",
       "  background: yellow;\n",
       "}\n",
       "</style>\n",
       "<table id=\"T_1b731_\">\n",
       "  <thead>\n",
       "    <tr>\n",
       "      <th class=\"blank level0\" >&nbsp;</th>\n",
       "      <th class=\"col_heading level0 col0\" >Accuracy</th>\n",
       "      <th class=\"col_heading level0 col1\" >AUC</th>\n",
       "      <th class=\"col_heading level0 col2\" >Recall</th>\n",
       "      <th class=\"col_heading level0 col3\" >Prec.</th>\n",
       "      <th class=\"col_heading level0 col4\" >F1</th>\n",
       "      <th class=\"col_heading level0 col5\" >Kappa</th>\n",
       "      <th class=\"col_heading level0 col6\" >MCC</th>\n",
       "    </tr>\n",
       "  </thead>\n",
       "  <tbody>\n",
       "    <tr>\n",
       "      <th id=\"T_1b731_level0_row0\" class=\"row_heading level0 row0\" >0</th>\n",
       "      <td id=\"T_1b731_row0_col0\" class=\"data row0 col0\" >0.7579</td>\n",
       "      <td id=\"T_1b731_row0_col1\" class=\"data row0 col1\" >0.8302</td>\n",
       "      <td id=\"T_1b731_row0_col2\" class=\"data row0 col2\" >0.7011</td>\n",
       "      <td id=\"T_1b731_row0_col3\" class=\"data row0 col3\" >0.6690</td>\n",
       "      <td id=\"T_1b731_row0_col4\" class=\"data row0 col4\" >0.6847</td>\n",
       "      <td id=\"T_1b731_row0_col5\" class=\"data row0 col5\" >0.4883</td>\n",
       "      <td id=\"T_1b731_row0_col6\" class=\"data row0 col6\" >0.4887</td>\n",
       "    </tr>\n",
       "    <tr>\n",
       "      <th id=\"T_1b731_level0_row1\" class=\"row_heading level0 row1\" >1</th>\n",
       "      <td id=\"T_1b731_row1_col0\" class=\"data row1 col0\" >0.7553</td>\n",
       "      <td id=\"T_1b731_row1_col1\" class=\"data row1 col1\" >0.8280</td>\n",
       "      <td id=\"T_1b731_row1_col2\" class=\"data row1 col2\" >0.6900</td>\n",
       "      <td id=\"T_1b731_row1_col3\" class=\"data row1 col3\" >0.6682</td>\n",
       "      <td id=\"T_1b731_row1_col4\" class=\"data row1 col4\" >0.6789</td>\n",
       "      <td id=\"T_1b731_row1_col5\" class=\"data row1 col5\" >0.4813</td>\n",
       "      <td id=\"T_1b731_row1_col6\" class=\"data row1 col6\" >0.4814</td>\n",
       "    </tr>\n",
       "    <tr>\n",
       "      <th id=\"T_1b731_level0_row2\" class=\"row_heading level0 row2\" >2</th>\n",
       "      <td id=\"T_1b731_row2_col0\" class=\"data row2 col0\" >0.7543</td>\n",
       "      <td id=\"T_1b731_row2_col1\" class=\"data row2 col1\" >0.8257</td>\n",
       "      <td id=\"T_1b731_row2_col2\" class=\"data row2 col2\" >0.6923</td>\n",
       "      <td id=\"T_1b731_row2_col3\" class=\"data row2 col3\" >0.6658</td>\n",
       "      <td id=\"T_1b731_row2_col4\" class=\"data row2 col4\" >0.6788</td>\n",
       "      <td id=\"T_1b731_row2_col5\" class=\"data row2 col5\" >0.4800</td>\n",
       "      <td id=\"T_1b731_row2_col6\" class=\"data row2 col6\" >0.4802</td>\n",
       "    </tr>\n",
       "    <tr>\n",
       "      <th id=\"T_1b731_level0_row3\" class=\"row_heading level0 row3\" >3</th>\n",
       "      <td id=\"T_1b731_row3_col0\" class=\"data row3 col0\" >0.7545</td>\n",
       "      <td id=\"T_1b731_row3_col1\" class=\"data row3 col1\" >0.8275</td>\n",
       "      <td id=\"T_1b731_row3_col2\" class=\"data row3 col2\" >0.6875</td>\n",
       "      <td id=\"T_1b731_row3_col3\" class=\"data row3 col3\" >0.6677</td>\n",
       "      <td id=\"T_1b731_row3_col4\" class=\"data row3 col4\" >0.6775</td>\n",
       "      <td id=\"T_1b731_row3_col5\" class=\"data row3 col5\" >0.4794</td>\n",
       "      <td id=\"T_1b731_row3_col6\" class=\"data row3 col6\" >0.4795</td>\n",
       "    </tr>\n",
       "    <tr>\n",
       "      <th id=\"T_1b731_level0_row4\" class=\"row_heading level0 row4\" >4</th>\n",
       "      <td id=\"T_1b731_row4_col0\" class=\"data row4 col0\" >0.7558</td>\n",
       "      <td id=\"T_1b731_row4_col1\" class=\"data row4 col1\" >0.8279</td>\n",
       "      <td id=\"T_1b731_row4_col2\" class=\"data row4 col2\" >0.6899</td>\n",
       "      <td id=\"T_1b731_row4_col3\" class=\"data row4 col3\" >0.6692</td>\n",
       "      <td id=\"T_1b731_row4_col4\" class=\"data row4 col4\" >0.6794</td>\n",
       "      <td id=\"T_1b731_row4_col5\" class=\"data row4 col5\" >0.4822</td>\n",
       "      <td id=\"T_1b731_row4_col6\" class=\"data row4 col6\" >0.4824</td>\n",
       "    </tr>\n",
       "    <tr>\n",
       "      <th id=\"T_1b731_level0_row5\" class=\"row_heading level0 row5\" >Mean</th>\n",
       "      <td id=\"T_1b731_row5_col0\" class=\"data row5 col0\" >0.7555</td>\n",
       "      <td id=\"T_1b731_row5_col1\" class=\"data row5 col1\" >0.8279</td>\n",
       "      <td id=\"T_1b731_row5_col2\" class=\"data row5 col2\" >0.6921</td>\n",
       "      <td id=\"T_1b731_row5_col3\" class=\"data row5 col3\" >0.6680</td>\n",
       "      <td id=\"T_1b731_row5_col4\" class=\"data row5 col4\" >0.6798</td>\n",
       "      <td id=\"T_1b731_row5_col5\" class=\"data row5 col5\" >0.4822</td>\n",
       "      <td id=\"T_1b731_row5_col6\" class=\"data row5 col6\" >0.4824</td>\n",
       "    </tr>\n",
       "    <tr>\n",
       "      <th id=\"T_1b731_level0_row6\" class=\"row_heading level0 row6\" >SD</th>\n",
       "      <td id=\"T_1b731_row6_col0\" class=\"data row6 col0\" >0.0013</td>\n",
       "      <td id=\"T_1b731_row6_col1\" class=\"data row6 col1\" >0.0014</td>\n",
       "      <td id=\"T_1b731_row6_col2\" class=\"data row6 col2\" >0.0047</td>\n",
       "      <td id=\"T_1b731_row6_col3\" class=\"data row6 col3\" >0.0012</td>\n",
       "      <td id=\"T_1b731_row6_col4\" class=\"data row6 col4\" >0.0025</td>\n",
       "      <td id=\"T_1b731_row6_col5\" class=\"data row6 col5\" >0.0032</td>\n",
       "      <td id=\"T_1b731_row6_col6\" class=\"data row6 col6\" >0.0033</td>\n",
       "    </tr>\n",
       "  </tbody>\n",
       "</table>\n"
      ],
      "text/plain": [
       "<pandas.io.formats.style.Styler at 0x1d4f7f99220>"
      ]
     },
     "metadata": {},
     "output_type": "display_data"
    }
   ],
   "source": [
    "tuned_light_gbm = tune_model(light_gbm,\n",
    "                             fold = 5,\n",
    "                             custom_grid = {\n",
    "                                          \"learning_rate\":[0.1, 0.2, 0.3, 0.4, 0.5, 0.6, 0.7, 0.8, 0.9, 1.0]\n",
    "                                         ,\"n_estimators\":[x for x in range(100, 1100, 100)]\n",
    "                                         ,\"num_leaves\":[2, 4, 8]\n",
    "                                         ,\"max_depth\":[2, 4, 8, 16]\n",
    "                                         },\n",
    "                             optimize = 'AUC')"
   ]
  },
  {
   "cell_type": "markdown",
   "id": "5976387c",
   "metadata": {},
   "source": [
    "#### Finalizando o modelo."
   ]
  },
  {
   "cell_type": "code",
   "execution_count": 194,
   "id": "66fbddb9",
   "metadata": {},
   "outputs": [],
   "source": [
    "final_model = finalize_model(tuned_light_gbm)"
   ]
  },
  {
   "cell_type": "code",
   "execution_count": 198,
   "id": "09bd0488",
   "metadata": {},
   "outputs": [
    {
     "name": "stdout",
     "output_type": "stream",
     "text": [
      "Transformation Pipeline and Model Successfully Saved\n"
     ]
    },
    {
     "data": {
      "text/plain": [
       "(Pipeline(memory=None,\n",
       "          steps=[('dtypes',\n",
       "                  DataTypes_Auto_infer(categorical_features=[],\n",
       "                                       display_types=True, features_todrop=[],\n",
       "                                       id_columns=[],\n",
       "                                       ml_usecase='classification',\n",
       "                                       numerical_features=[], target='diabetes',\n",
       "                                       time_features=[])),\n",
       "                 ('imputer',\n",
       "                  Simple_Imputer(categorical_strategy='not_available',\n",
       "                                 fill_value_categorical=None,\n",
       "                                 fill_value_numerical=None,\n",
       "                                 numeric_str...\n",
       "                  LGBMClassifier(boosting_type='gbdt', class_weight=None,\n",
       "                                 colsample_bytree=1.0, importance_type='split',\n",
       "                                 learning_rate=0.1, max_depth=8,\n",
       "                                 min_child_samples=20, min_child_weight=0.001,\n",
       "                                 min_split_gain=0.0, n_estimators=800, n_jobs=-1,\n",
       "                                 num_leaves=8, objective=None, random_state=3722,\n",
       "                                 reg_alpha=0.0, reg_lambda=0.0, silent='warn',\n",
       "                                 subsample=1.0, subsample_for_bin=200000,\n",
       "                                 subsample_freq=0)]],\n",
       "          verbose=False),\n",
       " '..\\\\datalake\\\\curated\\\\model.pkl')"
      ]
     },
     "execution_count": 198,
     "metadata": {},
     "output_type": "execute_result"
    }
   ],
   "source": [
    "save_model(final_model,'..\\\\datalake\\\\curated\\\\model')"
   ]
  },
  {
   "cell_type": "markdown",
   "id": "c2c32f94",
   "metadata": {},
   "source": [
    "#### Transferindo os arquivos para o Data Lake."
   ]
  },
  {
   "cell_type": "code",
   "execution_count": 197,
   "id": "6f67b92c",
   "metadata": {},
   "outputs": [],
   "source": [
    "x_smote.to_csv(\"..\\\\datalake\\\\curated\\\\dataset.csv\", index=False)"
   ]
  },
  {
   "cell_type": "code",
   "execution_count": null,
   "id": "3ff045d0",
   "metadata": {},
   "outputs": [],
   "source": []
  }
 ],
 "metadata": {
  "kernelspec": {
   "display_name": "Python 3 (ipykernel)",
   "language": "python",
   "name": "python3"
  },
  "language_info": {
   "codemirror_mode": {
    "name": "ipython",
    "version": 3
   },
   "file_extension": ".py",
   "mimetype": "text/x-python",
   "name": "python",
   "nbconvert_exporter": "python",
   "pygments_lexer": "ipython3",
   "version": "3.8.12"
  }
 },
 "nbformat": 4,
 "nbformat_minor": 5
}
